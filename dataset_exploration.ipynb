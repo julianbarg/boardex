{
 "cells": [
  {
   "cell_type": "markdown",
   "metadata": {
    "slideshow": {
     "slide_type": "slide"
    }
   },
   "source": [
    "# Dataset Exploration"
   ]
  },
  {
   "cell_type": "markdown",
   "metadata": {
    "slideshow": {
     "slide_type": "subslide"
    }
   },
   "source": [
    "## Setup"
   ]
  },
  {
   "cell_type": "code",
   "execution_count": 1,
   "metadata": {},
   "outputs": [
    {
     "name": "stderr",
     "output_type": "stream",
     "text": [
      "\n",
      "Attaching package: ‘arrow’\n",
      "\n",
      "\n",
      "The following object is masked from ‘package:utils’:\n",
      "\n",
      "    timestamp\n",
      "\n",
      "\n",
      "── \u001b[1mAttaching packages\u001b[22m ─────────────────────────────────────── tidyverse 1.3.0 ──\n",
      "\n",
      "\u001b[32m✔\u001b[39m \u001b[34mggplot2\u001b[39m 3.3.2     \u001b[32m✔\u001b[39m \u001b[34mpurrr  \u001b[39m 0.3.4\n",
      "\u001b[32m✔\u001b[39m \u001b[34mtibble \u001b[39m 3.0.3     \u001b[32m✔\u001b[39m \u001b[34mdplyr  \u001b[39m 1.0.0\n",
      "\u001b[32m✔\u001b[39m \u001b[34mtidyr  \u001b[39m 1.1.0     \u001b[32m✔\u001b[39m \u001b[34mstringr\u001b[39m 1.4.0\n",
      "\u001b[32m✔\u001b[39m \u001b[34mreadr  \u001b[39m 1.3.1     \u001b[32m✔\u001b[39m \u001b[34mforcats\u001b[39m 0.5.0\n",
      "\n",
      "── \u001b[1mConflicts\u001b[22m ────────────────────────────────────────── tidyverse_conflicts() ──\n",
      "\u001b[31m✖\u001b[39m \u001b[34mdplyr\u001b[39m::\u001b[32mfilter()\u001b[39m masks \u001b[34mstats\u001b[39m::filter()\n",
      "\u001b[31m✖\u001b[39m \u001b[34mdplyr\u001b[39m::\u001b[32mlag()\u001b[39m    masks \u001b[34mstats\u001b[39m::lag()\n",
      "\n"
     ]
    }
   ],
   "source": [
    "library(arrow)\n",
    "library(tidyverse)"
   ]
  },
  {
   "cell_type": "code",
   "execution_count": 2,
   "metadata": {
    "slideshow": {
     "slide_type": "subslide"
    }
   },
   "outputs": [
    {
     "data": {
      "text/html": [
       "<table>\n",
       "<caption>A tibble: 6 × 47</caption>\n",
       "<thead>\n",
       "\t<tr><th scope=col>name</th><th scope=col>year</th><th scope=col>boardid</th><th scope=col>isin</th><th scope=col>cusip</th><th scope=col>gvkey</th><th scope=col>cik</th><th scope=col>number_board_members</th><th scope=col>number_board_members_fm</th><th scope=col>number_nominating</th><th scope=col>⋯</th><th scope=col>gind</th><th scope=col>gsector</th><th scope=col>avg_compensation_na_rm</th><th scope=col>avg_compensation_fm_na_rm</th><th scope=col>equity_compensation_na_rm</th><th scope=col>equity_compensation_fm_na_rm</th><th scope=col>avg_age_na_rm</th><th scope=col>members_check</th><th scope=col>age_diversity_check</th><th scope=col>compustat_date</th></tr>\n",
       "\t<tr><th scope=col>&lt;chr&gt;</th><th scope=col>&lt;dbl&gt;</th><th scope=col>&lt;dbl&gt;</th><th scope=col>&lt;chr&gt;</th><th scope=col>&lt;chr&gt;</th><th scope=col>&lt;chr&gt;</th><th scope=col>&lt;chr&gt;</th><th scope=col>&lt;dbl&gt;</th><th scope=col>&lt;int&gt;</th><th scope=col>&lt;int&gt;</th><th scope=col>⋯</th><th scope=col>&lt;chr&gt;</th><th scope=col>&lt;chr&gt;</th><th scope=col>&lt;dbl&gt;</th><th scope=col>&lt;dbl&gt;</th><th scope=col>&lt;dbl&gt;</th><th scope=col>&lt;dbl&gt;</th><th scope=col>&lt;dbl&gt;</th><th scope=col>&lt;int&gt;</th><th scope=col>&lt;dbl&gt;</th><th scope=col>&lt;date&gt;</th></tr>\n",
       "</thead>\n",
       "<tbody>\n",
       "\t<tr><td>SCHLUMBERGER LIMITED                  </td><td>2015</td><td>  27242</td><td>AN8068571086</td><td>806857108</td><td>009465</td><td>0000087347</td><td>10</td><td>3</td><td> 5</td><td>⋯</td><td>101010</td><td>10</td><td>300.3000</td><td>32.80000</td><td>2618.222</td><td>292.8889</td><td>60.76388</td><td>10</td><td>     NA</td><td>2015-12-31</td></tr>\n",
       "\t<tr><td>SCHLUMBERGER LIMITED                  </td><td>2016</td><td>  27242</td><td>AN8068571086</td><td>806857108</td><td>009465</td><td>0000087347</td><td>11</td><td>3</td><td> 6</td><td>⋯</td><td>101010</td><td>10</td><td>299.0909</td><td>33.45455</td><td>2700.091</td><td>351.5455</td><td>60.99993</td><td>11</td><td>     NA</td><td>2016-12-31</td></tr>\n",
       "\t<tr><td>SCHLUMBERGER LIMITED                  </td><td>2017</td><td>  27242</td><td>AN8068571086</td><td>806857108</td><td>009465</td><td>0000087347</td><td>12</td><td>3</td><td> 5</td><td>⋯</td><td>101010</td><td>10</td><td>292.7500</td><td>32.83333</td><td>1741.100</td><td>356.4000</td><td>60.87314</td><td>12</td><td>     NA</td><td>2017-12-31</td></tr>\n",
       "\t<tr><td>SCHLUMBERGER LIMITED                  </td><td>2018</td><td>  27242</td><td>AN8068571086</td><td>806857108</td><td>009465</td><td>0000087347</td><td>12</td><td>4</td><td> 5</td><td>⋯</td><td>101010</td><td>10</td><td>288.0000</td><td>40.00000</td><td>1724.455</td><td>205.8182</td><td>61.80390</td><td>12</td><td>8.71961</td><td>2018-12-31</td></tr>\n",
       "\t<tr><td>ONEMARKET LTD (De-listed 12/2019)     </td><td>2018</td><td>2822352</td><td>AU0000008641</td><td>000000864</td><td>NA    </td><td>NA        </td><td> 4</td><td>1</td><td>NA</td><td>⋯</td><td>NA    </td><td>NA</td><td>     NaN</td><td>     NaN</td><td>     NaN</td><td>     NaN</td><td>     NaN</td><td> 4</td><td>     NA</td><td>NA</td></tr>\n",
       "\t<tr><td>AMCOR PLC (Amcor Ltd prior to 06/2019)</td><td>2015</td><td>   1736</td><td>AU000000AMC4</td><td>000000AMC</td><td>NA    </td><td>NA        </td><td> 8</td><td>2</td><td> 4</td><td>⋯</td><td>NA    </td><td>NA</td><td>  0.0000</td><td> 0.00000</td><td>     NaN</td><td>     NaN</td><td>57.60799</td><td> 8</td><td>     NA</td><td>NA</td></tr>\n",
       "</tbody>\n",
       "</table>\n"
      ],
      "text/latex": [
       "A tibble: 6 × 47\n",
       "\\begin{tabular}{lllllllllllllllllllll}\n",
       " name & year & boardid & isin & cusip & gvkey & cik & number\\_board\\_members & number\\_board\\_members\\_fm & number\\_nominating & ⋯ & gind & gsector & avg\\_compensation\\_na\\_rm & avg\\_compensation\\_fm\\_na\\_rm & equity\\_compensation\\_na\\_rm & equity\\_compensation\\_fm\\_na\\_rm & avg\\_age\\_na\\_rm & members\\_check & age\\_diversity\\_check & compustat\\_date\\\\\n",
       " <chr> & <dbl> & <dbl> & <chr> & <chr> & <chr> & <chr> & <dbl> & <int> & <int> & ⋯ & <chr> & <chr> & <dbl> & <dbl> & <dbl> & <dbl> & <dbl> & <int> & <dbl> & <date>\\\\\n",
       "\\hline\n",
       "\t SCHLUMBERGER LIMITED                   & 2015 &   27242 & AN8068571086 & 806857108 & 009465 & 0000087347 & 10 & 3 &  5 & ⋯ & 101010 & 10 & 300.3000 & 32.80000 & 2618.222 & 292.8889 & 60.76388 & 10 &      NA & 2015-12-31\\\\\n",
       "\t SCHLUMBERGER LIMITED                   & 2016 &   27242 & AN8068571086 & 806857108 & 009465 & 0000087347 & 11 & 3 &  6 & ⋯ & 101010 & 10 & 299.0909 & 33.45455 & 2700.091 & 351.5455 & 60.99993 & 11 &      NA & 2016-12-31\\\\\n",
       "\t SCHLUMBERGER LIMITED                   & 2017 &   27242 & AN8068571086 & 806857108 & 009465 & 0000087347 & 12 & 3 &  5 & ⋯ & 101010 & 10 & 292.7500 & 32.83333 & 1741.100 & 356.4000 & 60.87314 & 12 &      NA & 2017-12-31\\\\\n",
       "\t SCHLUMBERGER LIMITED                   & 2018 &   27242 & AN8068571086 & 806857108 & 009465 & 0000087347 & 12 & 4 &  5 & ⋯ & 101010 & 10 & 288.0000 & 40.00000 & 1724.455 & 205.8182 & 61.80390 & 12 & 8.71961 & 2018-12-31\\\\\n",
       "\t ONEMARKET LTD (De-listed 12/2019)      & 2018 & 2822352 & AU0000008641 & 000000864 & NA     & NA         &  4 & 1 & NA & ⋯ & NA     & NA &      NaN &      NaN &      NaN &      NaN &      NaN &  4 &      NA & NA\\\\\n",
       "\t AMCOR PLC (Amcor Ltd prior to 06/2019) & 2015 &    1736 & AU000000AMC4 & 000000AMC & NA     & NA         &  8 & 2 &  4 & ⋯ & NA     & NA &   0.0000 &  0.00000 &      NaN &      NaN & 57.60799 &  8 &      NA & NA\\\\\n",
       "\\end{tabular}\n"
      ],
      "text/markdown": [
       "\n",
       "A tibble: 6 × 47\n",
       "\n",
       "| name &lt;chr&gt; | year &lt;dbl&gt; | boardid &lt;dbl&gt; | isin &lt;chr&gt; | cusip &lt;chr&gt; | gvkey &lt;chr&gt; | cik &lt;chr&gt; | number_board_members &lt;dbl&gt; | number_board_members_fm &lt;int&gt; | number_nominating &lt;int&gt; | ⋯ ⋯ | gind &lt;chr&gt; | gsector &lt;chr&gt; | avg_compensation_na_rm &lt;dbl&gt; | avg_compensation_fm_na_rm &lt;dbl&gt; | equity_compensation_na_rm &lt;dbl&gt; | equity_compensation_fm_na_rm &lt;dbl&gt; | avg_age_na_rm &lt;dbl&gt; | members_check &lt;int&gt; | age_diversity_check &lt;dbl&gt; | compustat_date &lt;date&gt; |\n",
       "|---|---|---|---|---|---|---|---|---|---|---|---|---|---|---|---|---|---|---|---|---|\n",
       "| SCHLUMBERGER LIMITED                   | 2015 |   27242 | AN8068571086 | 806857108 | 009465 | 0000087347 | 10 | 3 |  5 | ⋯ | 101010 | 10 | 300.3000 | 32.80000 | 2618.222 | 292.8889 | 60.76388 | 10 |      NA | 2015-12-31 |\n",
       "| SCHLUMBERGER LIMITED                   | 2016 |   27242 | AN8068571086 | 806857108 | 009465 | 0000087347 | 11 | 3 |  6 | ⋯ | 101010 | 10 | 299.0909 | 33.45455 | 2700.091 | 351.5455 | 60.99993 | 11 |      NA | 2016-12-31 |\n",
       "| SCHLUMBERGER LIMITED                   | 2017 |   27242 | AN8068571086 | 806857108 | 009465 | 0000087347 | 12 | 3 |  5 | ⋯ | 101010 | 10 | 292.7500 | 32.83333 | 1741.100 | 356.4000 | 60.87314 | 12 |      NA | 2017-12-31 |\n",
       "| SCHLUMBERGER LIMITED                   | 2018 |   27242 | AN8068571086 | 806857108 | 009465 | 0000087347 | 12 | 4 |  5 | ⋯ | 101010 | 10 | 288.0000 | 40.00000 | 1724.455 | 205.8182 | 61.80390 | 12 | 8.71961 | 2018-12-31 |\n",
       "| ONEMARKET LTD (De-listed 12/2019)      | 2018 | 2822352 | AU0000008641 | 000000864 | NA     | NA         |  4 | 1 | NA | ⋯ | NA     | NA |      NaN |      NaN |      NaN |      NaN |      NaN |  4 |      NA | NA |\n",
       "| AMCOR PLC (Amcor Ltd prior to 06/2019) | 2015 |    1736 | AU000000AMC4 | 000000AMC | NA     | NA         |  8 | 2 |  4 | ⋯ | NA     | NA |   0.0000 |  0.00000 |      NaN |      NaN | 57.60799 |  8 |      NA | NA |\n",
       "\n"
      ],
      "text/plain": [
       "  name                                   year boardid isin         cusip    \n",
       "1 SCHLUMBERGER LIMITED                   2015   27242 AN8068571086 806857108\n",
       "2 SCHLUMBERGER LIMITED                   2016   27242 AN8068571086 806857108\n",
       "3 SCHLUMBERGER LIMITED                   2017   27242 AN8068571086 806857108\n",
       "4 SCHLUMBERGER LIMITED                   2018   27242 AN8068571086 806857108\n",
       "5 ONEMARKET LTD (De-listed 12/2019)      2018 2822352 AU0000008641 000000864\n",
       "6 AMCOR PLC (Amcor Ltd prior to 06/2019) 2015    1736 AU000000AMC4 000000AMC\n",
       "  gvkey  cik        number_board_members number_board_members_fm\n",
       "1 009465 0000087347 10                   3                      \n",
       "2 009465 0000087347 11                   3                      \n",
       "3 009465 0000087347 12                   3                      \n",
       "4 009465 0000087347 12                   4                      \n",
       "5 NA     NA          4                   1                      \n",
       "6 NA     NA          8                   2                      \n",
       "  number_nominating ⋯ gind   gsector avg_compensation_na_rm\n",
       "1  5                ⋯ 101010 10      300.3000              \n",
       "2  6                ⋯ 101010 10      299.0909              \n",
       "3  5                ⋯ 101010 10      292.7500              \n",
       "4  5                ⋯ 101010 10      288.0000              \n",
       "5 NA                ⋯ NA     NA           NaN              \n",
       "6  4                ⋯ NA     NA        0.0000              \n",
       "  avg_compensation_fm_na_rm equity_compensation_na_rm\n",
       "1 32.80000                  2618.222                 \n",
       "2 33.45455                  2700.091                 \n",
       "3 32.83333                  1741.100                 \n",
       "4 40.00000                  1724.455                 \n",
       "5      NaN                       NaN                 \n",
       "6  0.00000                       NaN                 \n",
       "  equity_compensation_fm_na_rm avg_age_na_rm members_check age_diversity_check\n",
       "1 292.8889                     60.76388      10                 NA            \n",
       "2 351.5455                     60.99993      11                 NA            \n",
       "3 356.4000                     60.87314      12                 NA            \n",
       "4 205.8182                     61.80390      12            8.71961            \n",
       "5      NaN                          NaN       4                 NA            \n",
       "6      NaN                     57.60799       8                 NA            \n",
       "  compustat_date\n",
       "1 2015-12-31    \n",
       "2 2016-12-31    \n",
       "3 2017-12-31    \n",
       "4 2018-12-31    \n",
       "5 <NA>          \n",
       "6 <NA>          "
      ]
     },
     "metadata": {},
     "output_type": "display_data"
    }
   ],
   "source": [
    "df <- read_feather(\"data/output.feather\")\n",
    "head(df)"
   ]
  },
  {
   "cell_type": "markdown",
   "metadata": {
    "slideshow": {
     "slide_type": "slide"
    }
   },
   "source": [
    "## Duplicate observations"
   ]
  },
  {
   "cell_type": "code",
   "execution_count": 3,
   "metadata": {
    "slideshow": {
     "slide_type": "subslide"
    }
   },
   "outputs": [
    {
     "data": {
      "text/html": [
       "22073"
      ],
      "text/latex": [
       "22073"
      ],
      "text/markdown": [
       "22073"
      ],
      "text/plain": [
       "[1] 22073"
      ]
     },
     "metadata": {},
     "output_type": "display_data"
    }
   ],
   "source": [
    "nrow(df)"
   ]
  },
  {
   "cell_type": "code",
   "execution_count": 4,
   "metadata": {},
   "outputs": [
    {
     "data": {
      "text/html": [
       "20197"
      ],
      "text/latex": [
       "20197"
      ],
      "text/markdown": [
       "20197"
      ],
      "text/plain": [
       "[1] 20197"
      ]
     },
     "metadata": {},
     "output_type": "display_data"
    }
   ],
   "source": [
    "nrow(unique(select(df, year, boardid)))"
   ]
  },
  {
   "cell_type": "markdown",
   "metadata": {},
   "source": [
    "Some organizations in the dataset have issued multiple securities, 1,876 duplicates with potentially diverging data should be removed."
   ]
  },
  {
   "cell_type": "markdown",
   "metadata": {
    "slideshow": {
     "slide_type": "slide"
    }
   },
   "source": [
    "## BoardEx members present"
   ]
  },
  {
   "cell_type": "code",
   "execution_count": 5,
   "metadata": {
    "slideshow": {
     "slide_type": "subslide"
    }
   },
   "outputs": [
    {
     "data": {
      "text/plain": [
       "\n",
       "   -2    -1     0 \n",
       "    1    15 22057 "
      ]
     },
     "metadata": {},
     "output_type": "display_data"
    }
   ],
   "source": [
    "table(df$number_board_members - df$members_check)"
   ]
  },
  {
   "cell_type": "markdown",
   "metadata": {},
   "source": [
    "Great, only in very few cases does the number of individual entries diverge from the number of board members as provided by BoardEx."
   ]
  },
  {
   "cell_type": "markdown",
   "metadata": {
    "slideshow": {
     "slide_type": "slide"
    }
   },
   "source": [
    "## Number of observations"
   ]
  },
  {
   "cell_type": "code",
   "execution_count": 6,
   "metadata": {
    "slideshow": {
     "slide_type": "subslide"
    }
   },
   "outputs": [
    {
     "data": {
      "text/html": [
       "2785"
      ],
      "text/latex": [
       "2785"
      ],
      "text/markdown": [
       "2785"
      ],
      "text/plain": [
       "[1] 2785"
      ]
     },
     "metadata": {},
     "output_type": "display_data"
    },
    {
     "data": {
      "text/html": [
       "2785"
      ],
      "text/latex": [
       "2785"
      ],
      "text/markdown": [
       "2785"
      ],
      "text/plain": [
       "[1] 2785"
      ]
     },
     "metadata": {},
     "output_type": "display_data"
    }
   ],
   "source": [
    "nrow(subset(df, !is.na(avg_compensation_fm)))\n",
    "nrow(subset(df, !is.na(avg_compensation_fm_na_rm)))"
   ]
  },
  {
   "cell_type": "code",
   "execution_count": 7,
   "metadata": {},
   "outputs": [
    {
     "data": {
      "text/html": [
       "18289"
      ],
      "text/latex": [
       "18289"
      ],
      "text/markdown": [
       "18289"
      ],
      "text/plain": [
       "[1] 18289"
      ]
     },
     "metadata": {},
     "output_type": "display_data"
    },
    {
     "data": {
      "text/html": [
       "2252"
      ],
      "text/latex": [
       "2252"
      ],
      "text/markdown": [
       "2252"
      ],
      "text/plain": [
       "[1] 2252"
      ]
     },
     "metadata": {},
     "output_type": "display_data"
    }
   ],
   "source": [
    "nrow(subset(df, !is.na(gvkey)))\n",
    "nrow(subset(df, !is.na(gvkey) & !is.na(avg_compensation_fm)))"
   ]
  },
  {
   "cell_type": "markdown",
   "metadata": {},
   "source": [
    "Only for 2,785 company-year observations is there data available on compensation of the female members of the board (and in all cases, data is available on all female members). For 3,784 observations, merging with Compustat failed. For 2,252 observations, data is available on both female compensation, and the variables extracted from Compustat."
   ]
  }
 ],
 "metadata": {
  "jupytext": {
   "formats": "ipynb,Rmd"
  },
  "kernelspec": {
   "display_name": "R 3.6.1",
   "language": "R",
   "name": "ir361"
  },
  "language_info": {
   "codemirror_mode": "r",
   "file_extension": ".r",
   "mimetype": "text/x-r-source",
   "name": "R",
   "pygments_lexer": "r",
   "version": "3.6.3"
  }
 },
 "nbformat": 4,
 "nbformat_minor": 4
}
