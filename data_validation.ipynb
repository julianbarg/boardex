{
 "cells": [
  {
   "cell_type": "markdown",
   "metadata": {
    "slideshow": {
     "slide_type": "slide"
    }
   },
   "source": [
    "# Data validation"
   ]
  },
  {
   "cell_type": "markdown",
   "metadata": {
    "slideshow": {
     "slide_type": "subslide"
    }
   },
   "source": [
    "## Setup"
   ]
  },
  {
   "cell_type": "code",
   "execution_count": 1,
   "metadata": {},
   "outputs": [
    {
     "name": "stderr",
     "output_type": "stream",
     "text": [
      "── \u001b[1mAttaching packages\u001b[22m ─────────────────────────────────────────────────────────────── tidyverse 1.3.0 ──\n",
      "\n",
      "\u001b[32m✓\u001b[39m \u001b[34mggplot2\u001b[39m 3.3.2     \u001b[32m✓\u001b[39m \u001b[34mpurrr  \u001b[39m 0.3.4\n",
      "\u001b[32m✓\u001b[39m \u001b[34mtibble \u001b[39m 3.0.3     \u001b[32m✓\u001b[39m \u001b[34mdplyr  \u001b[39m 1.0.0\n",
      "\u001b[32m✓\u001b[39m \u001b[34mtidyr  \u001b[39m 1.1.0     \u001b[32m✓\u001b[39m \u001b[34mstringr\u001b[39m 1.4.0\n",
      "\u001b[32m✓\u001b[39m \u001b[34mreadr  \u001b[39m 1.3.1     \u001b[32m✓\u001b[39m \u001b[34mforcats\u001b[39m 0.5.0\n",
      "\n",
      "── \u001b[1mConflicts\u001b[22m ────────────────────────────────────────────────────────────────── tidyverse_conflicts() ──\n",
      "\u001b[31mx\u001b[39m \u001b[34mdplyr\u001b[39m::\u001b[32mfilter()\u001b[39m masks \u001b[34mstats\u001b[39m::filter()\n",
      "\u001b[31mx\u001b[39m \u001b[34mdplyr\u001b[39m::\u001b[32mlag()\u001b[39m    masks \u001b[34mstats\u001b[39m::lag()\n",
      "\n"
     ]
    }
   ],
   "source": [
    "library(tidyverse)"
   ]
  },
  {
   "cell_type": "code",
   "execution_count": 2,
   "metadata": {
    "slideshow": {
     "slide_type": "subslide"
    }
   },
   "outputs": [
    {
     "data": {
      "text/html": [
       "<table>\n",
       "<caption>A tibble: 6 × 68</caption>\n",
       "<thead>\n",
       "\t<tr><th scope=col>rowtype</th><th scope=col>boardname</th><th scope=col>ned</th><th scope=col>directorname</th><th scope=col>rolename</th><th scope=col>rolestatus</th><th scope=col>gender</th><th scope=col>nationality</th><th scope=col>boardid</th><th scope=col>clientcompanyid</th><th scope=col>⋯</th><th scope=col>nationalitymix</th><th scope=col>numberdirectors</th><th scope=col>stdevtimebrd</th><th scope=col>stdevtimeinco</th><th scope=col>stdevtotnolstdbrd</th><th scope=col>stdevtotcurrnolstdbrd</th><th scope=col>stdevnoquals</th><th scope=col>stdevage</th><th scope=col>networksize</th><th scope=col>companyid</th></tr>\n",
       "\t<tr><th scope=col>&lt;chr&gt;</th><th scope=col>&lt;chr&gt;</th><th scope=col>&lt;chr&gt;</th><th scope=col>&lt;chr&gt;</th><th scope=col>&lt;chr&gt;</th><th scope=col>&lt;chr&gt;</th><th scope=col>&lt;chr&gt;</th><th scope=col>&lt;chr&gt;</th><th scope=col>&lt;dbl&gt;</th><th scope=col>&lt;???&gt;</th><th scope=col>⋯</th><th scope=col>&lt;dbl&gt;</th><th scope=col>&lt;dbl&gt;</th><th scope=col>&lt;dbl&gt;</th><th scope=col>&lt;dbl&gt;</th><th scope=col>&lt;dbl&gt;</th><th scope=col>&lt;dbl&gt;</th><th scope=col>&lt;dbl&gt;</th><th scope=col>&lt;dbl&gt;</th><th scope=col>&lt;dbl&gt;</th><th scope=col>&lt;dbl&gt;</th></tr>\n",
       "</thead>\n",
       "<tbody>\n",
       "\t<tr><td>Board Member</td><td>EQUITY ONE INC (De-listed 03/2017)                          </td><td>Yes</td><td>David Fischel</td><td>Independent Director</td><td>David Fischel joined this role on 04 Jan 2011</td><td>M</td><td>British </td><td>10925</td><td>NA</td><td>⋯</td><td>0.4</td><td> 9</td><td>7.1</td><td>7.1</td><td>3.1</td><td>1.3</td><td>1.5</td><td>8.5</td><td>6092</td><td>10925</td></tr>\n",
       "\t<tr><td>Board Member</td><td>EQUITY ONE INC (De-listed 03/2017)                          </td><td>Yes</td><td>David Fischel</td><td>Independent Director</td><td>David Fischel joined this role on 04 Jan 2011</td><td>M</td><td>British </td><td>10925</td><td>NA</td><td>⋯</td><td>0.4</td><td> 9</td><td>5.8</td><td>5.8</td><td>3.2</td><td>1.2</td><td>1.2</td><td>7.7</td><td>6092</td><td>10925</td></tr>\n",
       "\t<tr><td>Board Member</td><td>EQUITY ONE INC (De-listed 03/2017)                          </td><td>Yes</td><td>David Fischel</td><td>Independent Director</td><td>David Fischel joined this role on 04 Jan 2011</td><td>M</td><td>British </td><td>10925</td><td>NA</td><td>⋯</td><td>0.4</td><td>10</td><td>5.3</td><td>5.3</td><td>3.0</td><td>1.8</td><td>1.1</td><td>6.9</td><td>6092</td><td>10925</td></tr>\n",
       "\t<tr><td>Board Member</td><td>EQUITY ONE INC (De-listed 03/2017)                          </td><td>Yes</td><td>David Fischel</td><td>Independent Director</td><td>David Fischel joined this role on 04 Jan 2011</td><td>M</td><td>British </td><td>10925</td><td>NA</td><td>⋯</td><td>0.4</td><td> 9</td><td>7.1</td><td>7.1</td><td>3.1</td><td>1.4</td><td>1.5</td><td>8.5</td><td>6092</td><td>10925</td></tr>\n",
       "\t<tr><td>Board Member</td><td>EQUITY ONE INC (De-listed 03/2017)                          </td><td>Yes</td><td>David Fischel</td><td>Independent Director</td><td>David Fischel joined this role on 04 Jan 2011</td><td>M</td><td>British </td><td>10925</td><td>NA</td><td>⋯</td><td>0.5</td><td>10</td><td>5.6</td><td>5.6</td><td>3.1</td><td>1.5</td><td>1.1</td><td>7.3</td><td>6092</td><td>10925</td></tr>\n",
       "\t<tr><td>Board Member</td><td>NATIONAL MEDICAL HEALTH CARD SYSTEMS INC (De-listed 04/2008)</td><td>Yes</td><td>David Shaw   </td><td>Director - SD       </td><td>David Shaw joined this role on 08 Dec 2004   </td><td>M</td><td>American</td><td>21616</td><td>NA</td><td>⋯</td><td>0.0</td><td>10</td><td>2.2</td><td>2.1</td><td>1.4</td><td>0.7</td><td>0.8</td><td>9.4</td><td>4321</td><td>21616</td></tr>\n",
       "</tbody>\n",
       "</table>\n"
      ],
      "text/latex": [
       "A tibble: 6 × 68\n",
       "\\begin{tabular}{lllllllllllllllllllll}\n",
       " rowtype & boardname & ned & directorname & rolename & rolestatus & gender & nationality & boardid & clientcompanyid & ⋯ & nationalitymix & numberdirectors & stdevtimebrd & stdevtimeinco & stdevtotnolstdbrd & stdevtotcurrnolstdbrd & stdevnoquals & stdevage & networksize & companyid\\\\\n",
       " <chr> & <chr> & <chr> & <chr> & <chr> & <chr> & <chr> & <chr> & <dbl> & <???> & ⋯ & <dbl> & <dbl> & <dbl> & <dbl> & <dbl> & <dbl> & <dbl> & <dbl> & <dbl> & <dbl>\\\\\n",
       "\\hline\n",
       "\t Board Member & EQUITY ONE INC (De-listed 03/2017)                           & Yes & David Fischel & Independent Director & David Fischel joined this role on 04 Jan 2011 & M & British  & 10925 & NA & ⋯ & 0.4 &  9 & 7.1 & 7.1 & 3.1 & 1.3 & 1.5 & 8.5 & 6092 & 10925\\\\\n",
       "\t Board Member & EQUITY ONE INC (De-listed 03/2017)                           & Yes & David Fischel & Independent Director & David Fischel joined this role on 04 Jan 2011 & M & British  & 10925 & NA & ⋯ & 0.4 &  9 & 5.8 & 5.8 & 3.2 & 1.2 & 1.2 & 7.7 & 6092 & 10925\\\\\n",
       "\t Board Member & EQUITY ONE INC (De-listed 03/2017)                           & Yes & David Fischel & Independent Director & David Fischel joined this role on 04 Jan 2011 & M & British  & 10925 & NA & ⋯ & 0.4 & 10 & 5.3 & 5.3 & 3.0 & 1.8 & 1.1 & 6.9 & 6092 & 10925\\\\\n",
       "\t Board Member & EQUITY ONE INC (De-listed 03/2017)                           & Yes & David Fischel & Independent Director & David Fischel joined this role on 04 Jan 2011 & M & British  & 10925 & NA & ⋯ & 0.4 &  9 & 7.1 & 7.1 & 3.1 & 1.4 & 1.5 & 8.5 & 6092 & 10925\\\\\n",
       "\t Board Member & EQUITY ONE INC (De-listed 03/2017)                           & Yes & David Fischel & Independent Director & David Fischel joined this role on 04 Jan 2011 & M & British  & 10925 & NA & ⋯ & 0.5 & 10 & 5.6 & 5.6 & 3.1 & 1.5 & 1.1 & 7.3 & 6092 & 10925\\\\\n",
       "\t Board Member & NATIONAL MEDICAL HEALTH CARD SYSTEMS INC (De-listed 04/2008) & Yes & David Shaw    & Director - SD        & David Shaw joined this role on 08 Dec 2004    & M & American & 21616 & NA & ⋯ & 0.0 & 10 & 2.2 & 2.1 & 1.4 & 0.7 & 0.8 & 9.4 & 4321 & 21616\\\\\n",
       "\\end{tabular}\n"
      ],
      "text/markdown": [
       "\n",
       "A tibble: 6 × 68\n",
       "\n",
       "| rowtype &lt;chr&gt; | boardname &lt;chr&gt; | ned &lt;chr&gt; | directorname &lt;chr&gt; | rolename &lt;chr&gt; | rolestatus &lt;chr&gt; | gender &lt;chr&gt; | nationality &lt;chr&gt; | boardid &lt;dbl&gt; | clientcompanyid &lt;???&gt; | ⋯ ⋯ | nationalitymix &lt;dbl&gt; | numberdirectors &lt;dbl&gt; | stdevtimebrd &lt;dbl&gt; | stdevtimeinco &lt;dbl&gt; | stdevtotnolstdbrd &lt;dbl&gt; | stdevtotcurrnolstdbrd &lt;dbl&gt; | stdevnoquals &lt;dbl&gt; | stdevage &lt;dbl&gt; | networksize &lt;dbl&gt; | companyid &lt;dbl&gt; |\n",
       "|---|---|---|---|---|---|---|---|---|---|---|---|---|---|---|---|---|---|---|---|---|\n",
       "| Board Member | EQUITY ONE INC (De-listed 03/2017)                           | Yes | David Fischel | Independent Director | David Fischel joined this role on 04 Jan 2011 | M | British  | 10925 | NA | ⋯ | 0.4 |  9 | 7.1 | 7.1 | 3.1 | 1.3 | 1.5 | 8.5 | 6092 | 10925 |\n",
       "| Board Member | EQUITY ONE INC (De-listed 03/2017)                           | Yes | David Fischel | Independent Director | David Fischel joined this role on 04 Jan 2011 | M | British  | 10925 | NA | ⋯ | 0.4 |  9 | 5.8 | 5.8 | 3.2 | 1.2 | 1.2 | 7.7 | 6092 | 10925 |\n",
       "| Board Member | EQUITY ONE INC (De-listed 03/2017)                           | Yes | David Fischel | Independent Director | David Fischel joined this role on 04 Jan 2011 | M | British  | 10925 | NA | ⋯ | 0.4 | 10 | 5.3 | 5.3 | 3.0 | 1.8 | 1.1 | 6.9 | 6092 | 10925 |\n",
       "| Board Member | EQUITY ONE INC (De-listed 03/2017)                           | Yes | David Fischel | Independent Director | David Fischel joined this role on 04 Jan 2011 | M | British  | 10925 | NA | ⋯ | 0.4 |  9 | 7.1 | 7.1 | 3.1 | 1.4 | 1.5 | 8.5 | 6092 | 10925 |\n",
       "| Board Member | EQUITY ONE INC (De-listed 03/2017)                           | Yes | David Fischel | Independent Director | David Fischel joined this role on 04 Jan 2011 | M | British  | 10925 | NA | ⋯ | 0.5 | 10 | 5.6 | 5.6 | 3.1 | 1.5 | 1.1 | 7.3 | 6092 | 10925 |\n",
       "| Board Member | NATIONAL MEDICAL HEALTH CARD SYSTEMS INC (De-listed 04/2008) | Yes | David Shaw    | Director - SD        | David Shaw joined this role on 08 Dec 2004    | M | American | 21616 | NA | ⋯ | 0.0 | 10 | 2.2 | 2.1 | 1.4 | 0.7 | 0.8 | 9.4 | 4321 | 21616 |\n",
       "\n"
      ],
      "text/plain": [
       "  rowtype      boardname                                                    ned\n",
       "1 Board Member EQUITY ONE INC (De-listed 03/2017)                           Yes\n",
       "2 Board Member EQUITY ONE INC (De-listed 03/2017)                           Yes\n",
       "3 Board Member EQUITY ONE INC (De-listed 03/2017)                           Yes\n",
       "4 Board Member EQUITY ONE INC (De-listed 03/2017)                           Yes\n",
       "5 Board Member EQUITY ONE INC (De-listed 03/2017)                           Yes\n",
       "6 Board Member NATIONAL MEDICAL HEALTH CARD SYSTEMS INC (De-listed 04/2008) Yes\n",
       "  directorname  rolename            \n",
       "1 David Fischel Independent Director\n",
       "2 David Fischel Independent Director\n",
       "3 David Fischel Independent Director\n",
       "4 David Fischel Independent Director\n",
       "5 David Fischel Independent Director\n",
       "6 David Shaw    Director - SD       \n",
       "  rolestatus                                    gender nationality boardid\n",
       "1 David Fischel joined this role on 04 Jan 2011 M      British     10925  \n",
       "2 David Fischel joined this role on 04 Jan 2011 M      British     10925  \n",
       "3 David Fischel joined this role on 04 Jan 2011 M      British     10925  \n",
       "4 David Fischel joined this role on 04 Jan 2011 M      British     10925  \n",
       "5 David Fischel joined this role on 04 Jan 2011 M      British     10925  \n",
       "6 David Shaw joined this role on 08 Dec 2004    M      American    21616  \n",
       "  clientcompanyid ⋯ nationalitymix numberdirectors stdevtimebrd stdevtimeinco\n",
       "1 NA              ⋯ 0.4             9              7.1          7.1          \n",
       "2 NA              ⋯ 0.4             9              5.8          5.8          \n",
       "3 NA              ⋯ 0.4            10              5.3          5.3          \n",
       "4 NA              ⋯ 0.4             9              7.1          7.1          \n",
       "5 NA              ⋯ 0.5            10              5.6          5.6          \n",
       "6 NA              ⋯ 0.0            10              2.2          2.1          \n",
       "  stdevtotnolstdbrd stdevtotcurrnolstdbrd stdevnoquals stdevage networksize\n",
       "1 3.1               1.3                   1.5          8.5      6092       \n",
       "2 3.2               1.2                   1.2          7.7      6092       \n",
       "3 3.0               1.8                   1.1          6.9      6092       \n",
       "4 3.1               1.4                   1.5          8.5      6092       \n",
       "5 3.1               1.5                   1.1          7.3      6092       \n",
       "6 1.4               0.7                   0.8          9.4      4321       \n",
       "  companyid\n",
       "1 10925    \n",
       "2 10925    \n",
       "3 10925    \n",
       "4 10925    \n",
       "5 10925    \n",
       "6 21616    "
      ]
     },
     "metadata": {},
     "output_type": "display_data"
    }
   ],
   "source": [
    "na_summary <- arrow::read_feather(\"data/na_summary_preprocessed.feather\")\n",
    "\n",
    "head(na_summary)"
   ]
  },
  {
   "cell_type": "markdown",
   "metadata": {
    "slideshow": {
     "slide_type": "slide"
    }
   },
   "source": [
    "## Check for duplicates"
   ]
  },
  {
   "cell_type": "markdown",
   "metadata": {
    "slideshow": {
     "slide_type": "subslide"
    }
   },
   "source": [
    "### Annual report inconsistencies"
   ]
  },
  {
   "cell_type": "code",
   "execution_count": 25,
   "metadata": {
    "slideshow": {
     "slide_type": "subslide"
    }
   },
   "outputs": [
    {
     "name": "stderr",
     "output_type": "stream",
     "text": [
      "`summarise()` regrouping output by 'isin' (override with `.groups` argument)\n",
      "\n"
     ]
    },
    {
     "data": {
      "text/html": [
       "<table>\n",
       "<caption>A grouped_df: 6 × 3</caption>\n",
       "<thead>\n",
       "\t<tr><th scope=col>isin</th><th scope=col>annualreportdate</th><th scope=col>n</th></tr>\n",
       "\t<tr><th scope=col>&lt;chr&gt;</th><th scope=col>&lt;date&gt;</th><th scope=col>&lt;int&gt;</th></tr>\n",
       "</thead>\n",
       "<tbody>\n",
       "\t<tr><td>US30224P2002</td><td>2013-12-01</td><td>2</td></tr>\n",
       "\t<tr><td>US30224P2002</td><td>2014-12-01</td><td>2</td></tr>\n",
       "\t<tr><td>US30224P2002</td><td>2015-12-01</td><td>2</td></tr>\n",
       "\t<tr><td>US30224P2002</td><td>2016-12-01</td><td>2</td></tr>\n",
       "\t<tr><td>US30224P2002</td><td>2017-12-01</td><td>2</td></tr>\n",
       "\t<tr><td>US30224P2002</td><td>2018-12-01</td><td>2</td></tr>\n",
       "</tbody>\n",
       "</table>\n"
      ],
      "text/latex": [
       "A grouped\\_df: 6 × 3\n",
       "\\begin{tabular}{lll}\n",
       " isin & annualreportdate & n\\\\\n",
       " <chr> & <date> & <int>\\\\\n",
       "\\hline\n",
       "\t US30224P2002 & 2013-12-01 & 2\\\\\n",
       "\t US30224P2002 & 2014-12-01 & 2\\\\\n",
       "\t US30224P2002 & 2015-12-01 & 2\\\\\n",
       "\t US30224P2002 & 2016-12-01 & 2\\\\\n",
       "\t US30224P2002 & 2017-12-01 & 2\\\\\n",
       "\t US30224P2002 & 2018-12-01 & 2\\\\\n",
       "\\end{tabular}\n"
      ],
      "text/markdown": [
       "\n",
       "A grouped_df: 6 × 3\n",
       "\n",
       "| isin &lt;chr&gt; | annualreportdate &lt;date&gt; | n &lt;int&gt; |\n",
       "|---|---|---|\n",
       "| US30224P2002 | 2013-12-01 | 2 |\n",
       "| US30224P2002 | 2014-12-01 | 2 |\n",
       "| US30224P2002 | 2015-12-01 | 2 |\n",
       "| US30224P2002 | 2016-12-01 | 2 |\n",
       "| US30224P2002 | 2017-12-01 | 2 |\n",
       "| US30224P2002 | 2018-12-01 | 2 |\n",
       "\n"
      ],
      "text/plain": [
       "  isin         annualreportdate n\n",
       "1 US30224P2002 2013-12-01       2\n",
       "2 US30224P2002 2014-12-01       2\n",
       "3 US30224P2002 2015-12-01       2\n",
       "4 US30224P2002 2016-12-01       2\n",
       "5 US30224P2002 2017-12-01       2\n",
       "6 US30224P2002 2018-12-01       2"
      ]
     },
     "metadata": {},
     "output_type": "display_data"
    }
   ],
   "source": [
    "na_summary %>%\n",
    "    select(isin, annualreportdate, companyid) %>%\n",
    "    group_by(isin, annualreportdate) %>%\n",
    "    summarize(n = n_distinct(companyid)) %>%\n",
    "    filter(n > 1)"
   ]
  },
  {
   "cell_type": "code",
   "execution_count": 27,
   "metadata": {
    "slideshow": {
     "slide_type": "subslide"
    }
   },
   "outputs": [
    {
     "data": {
      "text/html": [
       "<table>\n",
       "<caption>A tibble: 6 × 68</caption>\n",
       "<thead>\n",
       "\t<tr><th scope=col>isin</th><th scope=col>annualreportdate</th><th scope=col>companyid</th><th scope=col>rowtype</th><th scope=col>boardname</th><th scope=col>ned</th><th scope=col>directorname</th><th scope=col>rolename</th><th scope=col>rolestatus</th><th scope=col>gender</th><th scope=col>⋯</th><th scope=col>genderratio</th><th scope=col>nationalitymix</th><th scope=col>numberdirectors</th><th scope=col>stdevtimebrd</th><th scope=col>stdevtimeinco</th><th scope=col>stdevtotnolstdbrd</th><th scope=col>stdevtotcurrnolstdbrd</th><th scope=col>stdevnoquals</th><th scope=col>stdevage</th><th scope=col>networksize</th></tr>\n",
       "\t<tr><th scope=col>&lt;chr&gt;</th><th scope=col>&lt;date&gt;</th><th scope=col>&lt;dbl&gt;</th><th scope=col>&lt;chr&gt;</th><th scope=col>&lt;chr&gt;</th><th scope=col>&lt;chr&gt;</th><th scope=col>&lt;chr&gt;</th><th scope=col>&lt;chr&gt;</th><th scope=col>&lt;chr&gt;</th><th scope=col>&lt;chr&gt;</th><th scope=col>⋯</th><th scope=col>&lt;dbl&gt;</th><th scope=col>&lt;dbl&gt;</th><th scope=col>&lt;dbl&gt;</th><th scope=col>&lt;dbl&gt;</th><th scope=col>&lt;dbl&gt;</th><th scope=col>&lt;dbl&gt;</th><th scope=col>&lt;dbl&gt;</th><th scope=col>&lt;dbl&gt;</th><th scope=col>&lt;dbl&gt;</th><th scope=col>&lt;dbl&gt;</th></tr>\n",
       "</thead>\n",
       "<tbody>\n",
       "\t<tr><td>US30224P2002</td><td>2013-12-01</td><td>2009179</td><td>Board Member</td><td>ESH Hospitality Inc (ESH Hospitality LLC prior to 11/2013)</td><td>Yes</td><td>Richard Wallman</td><td>Independent Director</td><td>Richard Wallman joined this role in Nov 2013   </td><td>M</td><td>⋯</td><td>1</td><td>0</td><td>5</td><td>0</td><td>0</td><td>4.3</td><td>1.5</td><td>0.4</td><td>11.8</td><td>4173</td></tr>\n",
       "\t<tr><td>US30224P2002</td><td>2013-12-01</td><td>2009180</td><td>Board Member</td><td>EXTENDED STAY AMERICA INC                                 </td><td>Yes</td><td>Richard Wallman</td><td>Independent Director</td><td>Richard Wallman joined this role on 13 Nov 2013</td><td>M</td><td>⋯</td><td>1</td><td>0</td><td>7</td><td>0</td><td>0</td><td>3.1</td><td>1.2</td><td>0.6</td><td> 9.0</td><td>4173</td></tr>\n",
       "\t<tr><td>US30224P2002</td><td>2013-12-01</td><td>2009180</td><td>Board Member</td><td>EXTENDED STAY AMERICA INC                                 </td><td>Yes</td><td>Doug Geoga     </td><td>Independent Chairman</td><td>Doug Geoga joined this role on 13 Nov 2013     </td><td>M</td><td>⋯</td><td>1</td><td>0</td><td>7</td><td>0</td><td>0</td><td>3.1</td><td>1.2</td><td>0.6</td><td> 9.0</td><td> 852</td></tr>\n",
       "\t<tr><td>US30224P2002</td><td>2013-12-01</td><td>2009179</td><td>Board Member</td><td>ESH Hospitality Inc (ESH Hospitality LLC prior to 11/2013)</td><td>Yes</td><td>Doug Geoga     </td><td>Independent Chairman</td><td>Doug Geoga joined this role on 12 Nov 2013     </td><td>M</td><td>⋯</td><td>1</td><td>0</td><td>5</td><td>0</td><td>0</td><td>4.3</td><td>1.5</td><td>0.4</td><td>11.8</td><td> 852</td></tr>\n",
       "\t<tr><td>US30224P2002</td><td>2013-12-01</td><td>2009180</td><td>Board Member</td><td>EXTENDED STAY AMERICA INC                                 </td><td>No </td><td>Jim Donald     </td><td>CEO                 </td><td>Jim Donald joined this role on 13 Nov 2013     </td><td>M</td><td>⋯</td><td>1</td><td>0</td><td>7</td><td>0</td><td>0</td><td>3.1</td><td>1.2</td><td>0.6</td><td> 9.0</td><td> 768</td></tr>\n",
       "\t<tr><td>US30224P2002</td><td>2013-12-01</td><td>2009180</td><td>Board Member</td><td>EXTENDED STAY AMERICA INC                                 </td><td>Yes</td><td>Anuj Agarwal   </td><td>Independent Director</td><td>Anuj Agarwal joined this role on 13 Nov 2013   </td><td>M</td><td>⋯</td><td>1</td><td>0</td><td>7</td><td>0</td><td>0</td><td>3.1</td><td>1.2</td><td>0.6</td><td> 9.0</td><td>2435</td></tr>\n",
       "</tbody>\n",
       "</table>\n"
      ],
      "text/latex": [
       "A tibble: 6 × 68\n",
       "\\begin{tabular}{lllllllllllllllllllll}\n",
       " isin & annualreportdate & companyid & rowtype & boardname & ned & directorname & rolename & rolestatus & gender & ⋯ & genderratio & nationalitymix & numberdirectors & stdevtimebrd & stdevtimeinco & stdevtotnolstdbrd & stdevtotcurrnolstdbrd & stdevnoquals & stdevage & networksize\\\\\n",
       " <chr> & <date> & <dbl> & <chr> & <chr> & <chr> & <chr> & <chr> & <chr> & <chr> & ⋯ & <dbl> & <dbl> & <dbl> & <dbl> & <dbl> & <dbl> & <dbl> & <dbl> & <dbl> & <dbl>\\\\\n",
       "\\hline\n",
       "\t US30224P2002 & 2013-12-01 & 2009179 & Board Member & ESH Hospitality Inc (ESH Hospitality LLC prior to 11/2013) & Yes & Richard Wallman & Independent Director & Richard Wallman joined this role in Nov 2013    & M & ⋯ & 1 & 0 & 5 & 0 & 0 & 4.3 & 1.5 & 0.4 & 11.8 & 4173\\\\\n",
       "\t US30224P2002 & 2013-12-01 & 2009180 & Board Member & EXTENDED STAY AMERICA INC                                  & Yes & Richard Wallman & Independent Director & Richard Wallman joined this role on 13 Nov 2013 & M & ⋯ & 1 & 0 & 7 & 0 & 0 & 3.1 & 1.2 & 0.6 &  9.0 & 4173\\\\\n",
       "\t US30224P2002 & 2013-12-01 & 2009180 & Board Member & EXTENDED STAY AMERICA INC                                  & Yes & Doug Geoga      & Independent Chairman & Doug Geoga joined this role on 13 Nov 2013      & M & ⋯ & 1 & 0 & 7 & 0 & 0 & 3.1 & 1.2 & 0.6 &  9.0 &  852\\\\\n",
       "\t US30224P2002 & 2013-12-01 & 2009179 & Board Member & ESH Hospitality Inc (ESH Hospitality LLC prior to 11/2013) & Yes & Doug Geoga      & Independent Chairman & Doug Geoga joined this role on 12 Nov 2013      & M & ⋯ & 1 & 0 & 5 & 0 & 0 & 4.3 & 1.5 & 0.4 & 11.8 &  852\\\\\n",
       "\t US30224P2002 & 2013-12-01 & 2009180 & Board Member & EXTENDED STAY AMERICA INC                                  & No  & Jim Donald      & CEO                  & Jim Donald joined this role on 13 Nov 2013      & M & ⋯ & 1 & 0 & 7 & 0 & 0 & 3.1 & 1.2 & 0.6 &  9.0 &  768\\\\\n",
       "\t US30224P2002 & 2013-12-01 & 2009180 & Board Member & EXTENDED STAY AMERICA INC                                  & Yes & Anuj Agarwal    & Independent Director & Anuj Agarwal joined this role on 13 Nov 2013    & M & ⋯ & 1 & 0 & 7 & 0 & 0 & 3.1 & 1.2 & 0.6 &  9.0 & 2435\\\\\n",
       "\\end{tabular}\n"
      ],
      "text/markdown": [
       "\n",
       "A tibble: 6 × 68\n",
       "\n",
       "| isin &lt;chr&gt; | annualreportdate &lt;date&gt; | companyid &lt;dbl&gt; | rowtype &lt;chr&gt; | boardname &lt;chr&gt; | ned &lt;chr&gt; | directorname &lt;chr&gt; | rolename &lt;chr&gt; | rolestatus &lt;chr&gt; | gender &lt;chr&gt; | ⋯ ⋯ | genderratio &lt;dbl&gt; | nationalitymix &lt;dbl&gt; | numberdirectors &lt;dbl&gt; | stdevtimebrd &lt;dbl&gt; | stdevtimeinco &lt;dbl&gt; | stdevtotnolstdbrd &lt;dbl&gt; | stdevtotcurrnolstdbrd &lt;dbl&gt; | stdevnoquals &lt;dbl&gt; | stdevage &lt;dbl&gt; | networksize &lt;dbl&gt; |\n",
       "|---|---|---|---|---|---|---|---|---|---|---|---|---|---|---|---|---|---|---|---|---|\n",
       "| US30224P2002 | 2013-12-01 | 2009179 | Board Member | ESH Hospitality Inc (ESH Hospitality LLC prior to 11/2013) | Yes | Richard Wallman | Independent Director | Richard Wallman joined this role in Nov 2013    | M | ⋯ | 1 | 0 | 5 | 0 | 0 | 4.3 | 1.5 | 0.4 | 11.8 | 4173 |\n",
       "| US30224P2002 | 2013-12-01 | 2009180 | Board Member | EXTENDED STAY AMERICA INC                                  | Yes | Richard Wallman | Independent Director | Richard Wallman joined this role on 13 Nov 2013 | M | ⋯ | 1 | 0 | 7 | 0 | 0 | 3.1 | 1.2 | 0.6 |  9.0 | 4173 |\n",
       "| US30224P2002 | 2013-12-01 | 2009180 | Board Member | EXTENDED STAY AMERICA INC                                  | Yes | Doug Geoga      | Independent Chairman | Doug Geoga joined this role on 13 Nov 2013      | M | ⋯ | 1 | 0 | 7 | 0 | 0 | 3.1 | 1.2 | 0.6 |  9.0 |  852 |\n",
       "| US30224P2002 | 2013-12-01 | 2009179 | Board Member | ESH Hospitality Inc (ESH Hospitality LLC prior to 11/2013) | Yes | Doug Geoga      | Independent Chairman | Doug Geoga joined this role on 12 Nov 2013      | M | ⋯ | 1 | 0 | 5 | 0 | 0 | 4.3 | 1.5 | 0.4 | 11.8 |  852 |\n",
       "| US30224P2002 | 2013-12-01 | 2009180 | Board Member | EXTENDED STAY AMERICA INC                                  | No  | Jim Donald      | CEO                  | Jim Donald joined this role on 13 Nov 2013      | M | ⋯ | 1 | 0 | 7 | 0 | 0 | 3.1 | 1.2 | 0.6 |  9.0 |  768 |\n",
       "| US30224P2002 | 2013-12-01 | 2009180 | Board Member | EXTENDED STAY AMERICA INC                                  | Yes | Anuj Agarwal    | Independent Director | Anuj Agarwal joined this role on 13 Nov 2013    | M | ⋯ | 1 | 0 | 7 | 0 | 0 | 3.1 | 1.2 | 0.6 |  9.0 | 2435 |\n",
       "\n"
      ],
      "text/plain": [
       "  isin         annualreportdate companyid rowtype     \n",
       "1 US30224P2002 2013-12-01       2009179   Board Member\n",
       "2 US30224P2002 2013-12-01       2009180   Board Member\n",
       "3 US30224P2002 2013-12-01       2009180   Board Member\n",
       "4 US30224P2002 2013-12-01       2009179   Board Member\n",
       "5 US30224P2002 2013-12-01       2009180   Board Member\n",
       "6 US30224P2002 2013-12-01       2009180   Board Member\n",
       "  boardname                                                  ned\n",
       "1 ESH Hospitality Inc (ESH Hospitality LLC prior to 11/2013) Yes\n",
       "2 EXTENDED STAY AMERICA INC                                  Yes\n",
       "3 EXTENDED STAY AMERICA INC                                  Yes\n",
       "4 ESH Hospitality Inc (ESH Hospitality LLC prior to 11/2013) Yes\n",
       "5 EXTENDED STAY AMERICA INC                                  No \n",
       "6 EXTENDED STAY AMERICA INC                                  Yes\n",
       "  directorname    rolename            \n",
       "1 Richard Wallman Independent Director\n",
       "2 Richard Wallman Independent Director\n",
       "3 Doug Geoga      Independent Chairman\n",
       "4 Doug Geoga      Independent Chairman\n",
       "5 Jim Donald      CEO                 \n",
       "6 Anuj Agarwal    Independent Director\n",
       "  rolestatus                                      gender ⋯ genderratio\n",
       "1 Richard Wallman joined this role in Nov 2013    M      ⋯ 1          \n",
       "2 Richard Wallman joined this role on 13 Nov 2013 M      ⋯ 1          \n",
       "3 Doug Geoga joined this role on 13 Nov 2013      M      ⋯ 1          \n",
       "4 Doug Geoga joined this role on 12 Nov 2013      M      ⋯ 1          \n",
       "5 Jim Donald joined this role on 13 Nov 2013      M      ⋯ 1          \n",
       "6 Anuj Agarwal joined this role on 13 Nov 2013    M      ⋯ 1          \n",
       "  nationalitymix numberdirectors stdevtimebrd stdevtimeinco stdevtotnolstdbrd\n",
       "1 0              5               0            0             4.3              \n",
       "2 0              7               0            0             3.1              \n",
       "3 0              7               0            0             3.1              \n",
       "4 0              5               0            0             4.3              \n",
       "5 0              7               0            0             3.1              \n",
       "6 0              7               0            0             3.1              \n",
       "  stdevtotcurrnolstdbrd stdevnoquals stdevage networksize\n",
       "1 1.5                   0.4          11.8     4173       \n",
       "2 1.2                   0.6           9.0     4173       \n",
       "3 1.2                   0.6           9.0      852       \n",
       "4 1.5                   0.4          11.8      852       \n",
       "5 1.2                   0.6           9.0      768       \n",
       "6 1.2                   0.6           9.0     2435       "
      ]
     },
     "metadata": {},
     "output_type": "display_data"
    }
   ],
   "source": [
    "na_summary %>%\n",
    "    filter(isin == \"US30224P2002\" & annualreportdate == \"2013-12-01\") %>%\n",
    "    select(isin, annualreportdate, companyid, everything()) %>%\n",
    "    head()"
   ]
  },
  {
   "cell_type": "markdown",
   "metadata": {},
   "source": [
    "Looks like there is something funky going on with this one observation. Let's drop it."
   ]
  },
  {
   "cell_type": "markdown",
   "metadata": {
    "slideshow": {
     "slide_type": "subslide"
    }
   },
   "source": [
    "### Drop offending observation"
   ]
  },
  {
   "cell_type": "code",
   "execution_count": 28,
   "metadata": {},
   "outputs": [],
   "source": [
    "na_summary <- filter(na_summary,isin != \"US30224P2002\")"
   ]
  },
  {
   "cell_type": "markdown",
   "metadata": {},
   "source": [
    "### Check other variables"
   ]
  },
  {
   "cell_type": "code",
   "execution_count": 32,
   "metadata": {},
   "outputs": [
    {
     "data": {
      "text/html": [
       "96734"
      ],
      "text/latex": [
       "96734"
      ],
      "text/markdown": [
       "96734"
      ],
      "text/plain": [
       "[1] 96734"
      ]
     },
     "metadata": {},
     "output_type": "display_data"
    },
    {
     "data": {
      "text/html": [
       "96734"
      ],
      "text/latex": [
       "96734"
      ],
      "text/markdown": [
       "96734"
      ],
      "text/plain": [
       "[1] 96734"
      ]
     },
     "metadata": {},
     "output_type": "display_data"
    }
   ],
   "source": [
    "na_summary %>%\n",
    "    select(isin, annualreportdate) %>%\n",
    "    n_distinct()\n",
    "\n",
    "na_summary %>%\n",
    "    select(isin, annualreportdate, companyid, numberdirectors, nationalitymix, genderratio) %>%\n",
    "    group_by(isin, annualreportdate) %>%\n",
    "    n_distinct()"
   ]
  },
  {
   "cell_type": "markdown",
   "metadata": {},
   "source": [
    "Looks good"
   ]
  },
  {
   "cell_type": "markdown",
   "metadata": {
    "slideshow": {
     "slide_type": "subslide"
    }
   },
   "source": [
    "### Multiple annual reports in a year"
   ]
  },
  {
   "cell_type": "markdown",
   "metadata": {},
   "source": [
    "If there are multple annual reports in any year, the number of entries should be reduced when we extract only the year from the annual report date column."
   ]
  },
  {
   "cell_type": "code",
   "execution_count": 33,
   "metadata": {},
   "outputs": [
    {
     "data": {
      "text/html": [
       "88105"
      ],
      "text/latex": [
       "88105"
      ],
      "text/markdown": [
       "88105"
      ],
      "text/plain": [
       "[1] 88105"
      ]
     },
     "metadata": {},
     "output_type": "display_data"
    }
   ],
   "source": [
    "na_summary %>%\n",
    "    select(companyid, annualreportdate) %>%\n",
    "    n_distinct()"
   ]
  },
  {
   "cell_type": "code",
   "execution_count": 34,
   "metadata": {},
   "outputs": [
    {
     "data": {
      "text/html": [
       "87527"
      ],
      "text/latex": [
       "87527"
      ],
      "text/markdown": [
       "87527"
      ],
      "text/plain": [
       "[1] 87527"
      ]
     },
     "metadata": {},
     "output_type": "display_data"
    }
   ],
   "source": [
    "na_summary %>%\n",
    "    mutate(year = lubridate::year(annualreportdate)) %>%\n",
    "    select(companyid, year) %>%\n",
    "    n_distinct()"
   ]
  },
  {
   "cell_type": "markdown",
   "metadata": {
    "slideshow": {
     "slide_type": "subslide"
    }
   },
   "source": [
    "Let's drop these, too."
   ]
  },
  {
   "cell_type": "code",
   "execution_count": 46,
   "metadata": {},
   "outputs": [
    {
     "data": {
      "text/html": [
       "86949"
      ],
      "text/latex": [
       "86949"
      ],
      "text/markdown": [
       "86949"
      ],
      "text/plain": [
       "[1] 86949"
      ]
     },
     "metadata": {},
     "output_type": "display_data"
    }
   ],
   "source": [
    "na_summary %>%\n",
    "    mutate(year = lubridate::year(annualreportdate)) %>%\n",
    "    group_by(companyid, year) %>%\n",
    "    mutate(n = n_distinct(annualreportdate)) %>%\n",
    "    filter(n == 1) %>%\n",
    "    ungroup() %>%\n",
    "    select(companyid, annualreportdate) %>%\n",
    "    n_distinct()"
   ]
  },
  {
   "cell_type": "code",
   "execution_count": 38,
   "metadata": {},
   "outputs": [
    {
     "name": "stderr",
     "output_type": "stream",
     "text": [
      "`summarise()` regrouping output by 'companyid' (override with `.groups` argument)\n",
      "\n"
     ]
    },
    {
     "data": {
      "text/html": [
       "<table>\n",
       "<caption>A grouped_df: 578 × 3</caption>\n",
       "<thead>\n",
       "\t<tr><th scope=col>companyid</th><th scope=col>year</th><th scope=col>n</th></tr>\n",
       "\t<tr><th scope=col>&lt;dbl&gt;</th><th scope=col>&lt;dbl&gt;</th><th scope=col>&lt;int&gt;</th></tr>\n",
       "</thead>\n",
       "<tbody>\n",
       "\t<tr><td> 401</td><td>2010</td><td>2</td></tr>\n",
       "\t<tr><td> 569</td><td>2012</td><td>2</td></tr>\n",
       "\t<tr><td> 692</td><td>2006</td><td>2</td></tr>\n",
       "\t<tr><td> 725</td><td>2008</td><td>2</td></tr>\n",
       "\t<tr><td> 929</td><td>2014</td><td>2</td></tr>\n",
       "\t<tr><td>1477</td><td>2015</td><td>2</td></tr>\n",
       "\t<tr><td>1532</td><td>2010</td><td>2</td></tr>\n",
       "\t<tr><td>1558</td><td>2016</td><td>2</td></tr>\n",
       "\t<tr><td>1874</td><td>2005</td><td>2</td></tr>\n",
       "\t<tr><td>2148</td><td>2005</td><td>2</td></tr>\n",
       "\t<tr><td>2148</td><td>2011</td><td>2</td></tr>\n",
       "\t<tr><td>2175</td><td>2004</td><td>2</td></tr>\n",
       "\t<tr><td>2240</td><td>2004</td><td>2</td></tr>\n",
       "\t<tr><td>2240</td><td>2010</td><td>2</td></tr>\n",
       "\t<tr><td>2240</td><td>2016</td><td>2</td></tr>\n",
       "\t<tr><td>2256</td><td>2004</td><td>2</td></tr>\n",
       "\t<tr><td>2256</td><td>2010</td><td>2</td></tr>\n",
       "\t<tr><td>2256</td><td>2016</td><td>2</td></tr>\n",
       "\t<tr><td>2306</td><td>2006</td><td>2</td></tr>\n",
       "\t<tr><td>2365</td><td>2005</td><td>2</td></tr>\n",
       "\t<tr><td>2365</td><td>2011</td><td>2</td></tr>\n",
       "\t<tr><td>2365</td><td>2016</td><td>2</td></tr>\n",
       "\t<tr><td>2490</td><td>2012</td><td>2</td></tr>\n",
       "\t<tr><td>2507</td><td>2005</td><td>2</td></tr>\n",
       "\t<tr><td>2507</td><td>2011</td><td>2</td></tr>\n",
       "\t<tr><td>3210</td><td>2005</td><td>2</td></tr>\n",
       "\t<tr><td>3210</td><td>2011</td><td>2</td></tr>\n",
       "\t<tr><td>3210</td><td>2016</td><td>2</td></tr>\n",
       "\t<tr><td>3333</td><td>2004</td><td>2</td></tr>\n",
       "\t<tr><td>3383</td><td>2005</td><td>2</td></tr>\n",
       "\t<tr><td>⋮</td><td>⋮</td><td>⋮</td></tr>\n",
       "\t<tr><td>2226780</td><td>2017</td><td>2</td></tr>\n",
       "\t<tr><td>2231001</td><td>2016</td><td>2</td></tr>\n",
       "\t<tr><td>2237438</td><td>2017</td><td>2</td></tr>\n",
       "\t<tr><td>2287919</td><td>2015</td><td>2</td></tr>\n",
       "\t<tr><td>2300302</td><td>2016</td><td>2</td></tr>\n",
       "\t<tr><td>2300990</td><td>2017</td><td>2</td></tr>\n",
       "\t<tr><td>2312125</td><td>2016</td><td>2</td></tr>\n",
       "\t<tr><td>2318615</td><td>2015</td><td>2</td></tr>\n",
       "\t<tr><td>2344865</td><td>2016</td><td>2</td></tr>\n",
       "\t<tr><td>2345888</td><td>2017</td><td>2</td></tr>\n",
       "\t<tr><td>2408287</td><td>2016</td><td>2</td></tr>\n",
       "\t<tr><td>2456763</td><td>2017</td><td>2</td></tr>\n",
       "\t<tr><td>2550972</td><td>2017</td><td>2</td></tr>\n",
       "\t<tr><td>2648085</td><td>2019</td><td>2</td></tr>\n",
       "\t<tr><td>2648322</td><td>2017</td><td>2</td></tr>\n",
       "\t<tr><td>2649311</td><td>2017</td><td>2</td></tr>\n",
       "\t<tr><td>2653372</td><td>2017</td><td>2</td></tr>\n",
       "\t<tr><td>2655941</td><td>2017</td><td>2</td></tr>\n",
       "\t<tr><td>2660892</td><td>2017</td><td>2</td></tr>\n",
       "\t<tr><td>2670940</td><td>2019</td><td>2</td></tr>\n",
       "\t<tr><td>2682938</td><td>2017</td><td>2</td></tr>\n",
       "\t<tr><td>2696047</td><td>2018</td><td>2</td></tr>\n",
       "\t<tr><td>2704302</td><td>2018</td><td>2</td></tr>\n",
       "\t<tr><td>2759067</td><td>2018</td><td>2</td></tr>\n",
       "\t<tr><td>2776448</td><td>2018</td><td>2</td></tr>\n",
       "\t<tr><td>2814645</td><td>2018</td><td>2</td></tr>\n",
       "\t<tr><td>2987151</td><td>2019</td><td>2</td></tr>\n",
       "\t<tr><td>2992532</td><td>2019</td><td>2</td></tr>\n",
       "\t<tr><td>3033121</td><td>2019</td><td>2</td></tr>\n",
       "\t<tr><td>3043280</td><td>2019</td><td>2</td></tr>\n",
       "</tbody>\n",
       "</table>\n"
      ],
      "text/latex": [
       "A grouped\\_df: 578 × 3\n",
       "\\begin{tabular}{lll}\n",
       " companyid & year & n\\\\\n",
       " <dbl> & <dbl> & <int>\\\\\n",
       "\\hline\n",
       "\t  401 & 2010 & 2\\\\\n",
       "\t  569 & 2012 & 2\\\\\n",
       "\t  692 & 2006 & 2\\\\\n",
       "\t  725 & 2008 & 2\\\\\n",
       "\t  929 & 2014 & 2\\\\\n",
       "\t 1477 & 2015 & 2\\\\\n",
       "\t 1532 & 2010 & 2\\\\\n",
       "\t 1558 & 2016 & 2\\\\\n",
       "\t 1874 & 2005 & 2\\\\\n",
       "\t 2148 & 2005 & 2\\\\\n",
       "\t 2148 & 2011 & 2\\\\\n",
       "\t 2175 & 2004 & 2\\\\\n",
       "\t 2240 & 2004 & 2\\\\\n",
       "\t 2240 & 2010 & 2\\\\\n",
       "\t 2240 & 2016 & 2\\\\\n",
       "\t 2256 & 2004 & 2\\\\\n",
       "\t 2256 & 2010 & 2\\\\\n",
       "\t 2256 & 2016 & 2\\\\\n",
       "\t 2306 & 2006 & 2\\\\\n",
       "\t 2365 & 2005 & 2\\\\\n",
       "\t 2365 & 2011 & 2\\\\\n",
       "\t 2365 & 2016 & 2\\\\\n",
       "\t 2490 & 2012 & 2\\\\\n",
       "\t 2507 & 2005 & 2\\\\\n",
       "\t 2507 & 2011 & 2\\\\\n",
       "\t 3210 & 2005 & 2\\\\\n",
       "\t 3210 & 2011 & 2\\\\\n",
       "\t 3210 & 2016 & 2\\\\\n",
       "\t 3333 & 2004 & 2\\\\\n",
       "\t 3383 & 2005 & 2\\\\\n",
       "\t ⋮ & ⋮ & ⋮\\\\\n",
       "\t 2226780 & 2017 & 2\\\\\n",
       "\t 2231001 & 2016 & 2\\\\\n",
       "\t 2237438 & 2017 & 2\\\\\n",
       "\t 2287919 & 2015 & 2\\\\\n",
       "\t 2300302 & 2016 & 2\\\\\n",
       "\t 2300990 & 2017 & 2\\\\\n",
       "\t 2312125 & 2016 & 2\\\\\n",
       "\t 2318615 & 2015 & 2\\\\\n",
       "\t 2344865 & 2016 & 2\\\\\n",
       "\t 2345888 & 2017 & 2\\\\\n",
       "\t 2408287 & 2016 & 2\\\\\n",
       "\t 2456763 & 2017 & 2\\\\\n",
       "\t 2550972 & 2017 & 2\\\\\n",
       "\t 2648085 & 2019 & 2\\\\\n",
       "\t 2648322 & 2017 & 2\\\\\n",
       "\t 2649311 & 2017 & 2\\\\\n",
       "\t 2653372 & 2017 & 2\\\\\n",
       "\t 2655941 & 2017 & 2\\\\\n",
       "\t 2660892 & 2017 & 2\\\\\n",
       "\t 2670940 & 2019 & 2\\\\\n",
       "\t 2682938 & 2017 & 2\\\\\n",
       "\t 2696047 & 2018 & 2\\\\\n",
       "\t 2704302 & 2018 & 2\\\\\n",
       "\t 2759067 & 2018 & 2\\\\\n",
       "\t 2776448 & 2018 & 2\\\\\n",
       "\t 2814645 & 2018 & 2\\\\\n",
       "\t 2987151 & 2019 & 2\\\\\n",
       "\t 2992532 & 2019 & 2\\\\\n",
       "\t 3033121 & 2019 & 2\\\\\n",
       "\t 3043280 & 2019 & 2\\\\\n",
       "\\end{tabular}\n"
      ],
      "text/markdown": [
       "\n",
       "A grouped_df: 578 × 3\n",
       "\n",
       "| companyid &lt;dbl&gt; | year &lt;dbl&gt; | n &lt;int&gt; |\n",
       "|---|---|---|\n",
       "|  401 | 2010 | 2 |\n",
       "|  569 | 2012 | 2 |\n",
       "|  692 | 2006 | 2 |\n",
       "|  725 | 2008 | 2 |\n",
       "|  929 | 2014 | 2 |\n",
       "| 1477 | 2015 | 2 |\n",
       "| 1532 | 2010 | 2 |\n",
       "| 1558 | 2016 | 2 |\n",
       "| 1874 | 2005 | 2 |\n",
       "| 2148 | 2005 | 2 |\n",
       "| 2148 | 2011 | 2 |\n",
       "| 2175 | 2004 | 2 |\n",
       "| 2240 | 2004 | 2 |\n",
       "| 2240 | 2010 | 2 |\n",
       "| 2240 | 2016 | 2 |\n",
       "| 2256 | 2004 | 2 |\n",
       "| 2256 | 2010 | 2 |\n",
       "| 2256 | 2016 | 2 |\n",
       "| 2306 | 2006 | 2 |\n",
       "| 2365 | 2005 | 2 |\n",
       "| 2365 | 2011 | 2 |\n",
       "| 2365 | 2016 | 2 |\n",
       "| 2490 | 2012 | 2 |\n",
       "| 2507 | 2005 | 2 |\n",
       "| 2507 | 2011 | 2 |\n",
       "| 3210 | 2005 | 2 |\n",
       "| 3210 | 2011 | 2 |\n",
       "| 3210 | 2016 | 2 |\n",
       "| 3333 | 2004 | 2 |\n",
       "| 3383 | 2005 | 2 |\n",
       "| ⋮ | ⋮ | ⋮ |\n",
       "| 2226780 | 2017 | 2 |\n",
       "| 2231001 | 2016 | 2 |\n",
       "| 2237438 | 2017 | 2 |\n",
       "| 2287919 | 2015 | 2 |\n",
       "| 2300302 | 2016 | 2 |\n",
       "| 2300990 | 2017 | 2 |\n",
       "| 2312125 | 2016 | 2 |\n",
       "| 2318615 | 2015 | 2 |\n",
       "| 2344865 | 2016 | 2 |\n",
       "| 2345888 | 2017 | 2 |\n",
       "| 2408287 | 2016 | 2 |\n",
       "| 2456763 | 2017 | 2 |\n",
       "| 2550972 | 2017 | 2 |\n",
       "| 2648085 | 2019 | 2 |\n",
       "| 2648322 | 2017 | 2 |\n",
       "| 2649311 | 2017 | 2 |\n",
       "| 2653372 | 2017 | 2 |\n",
       "| 2655941 | 2017 | 2 |\n",
       "| 2660892 | 2017 | 2 |\n",
       "| 2670940 | 2019 | 2 |\n",
       "| 2682938 | 2017 | 2 |\n",
       "| 2696047 | 2018 | 2 |\n",
       "| 2704302 | 2018 | 2 |\n",
       "| 2759067 | 2018 | 2 |\n",
       "| 2776448 | 2018 | 2 |\n",
       "| 2814645 | 2018 | 2 |\n",
       "| 2987151 | 2019 | 2 |\n",
       "| 2992532 | 2019 | 2 |\n",
       "| 3033121 | 2019 | 2 |\n",
       "| 3043280 | 2019 | 2 |\n",
       "\n"
      ],
      "text/plain": [
       "    companyid year n\n",
       "1    401      2010 2\n",
       "2    569      2012 2\n",
       "3    692      2006 2\n",
       "4    725      2008 2\n",
       "5    929      2014 2\n",
       "6   1477      2015 2\n",
       "7   1532      2010 2\n",
       "8   1558      2016 2\n",
       "9   1874      2005 2\n",
       "10  2148      2005 2\n",
       "11  2148      2011 2\n",
       "12  2175      2004 2\n",
       "13  2240      2004 2\n",
       "14  2240      2010 2\n",
       "15  2240      2016 2\n",
       "16  2256      2004 2\n",
       "17  2256      2010 2\n",
       "18  2256      2016 2\n",
       "19  2306      2006 2\n",
       "20  2365      2005 2\n",
       "21  2365      2011 2\n",
       "22  2365      2016 2\n",
       "23  2490      2012 2\n",
       "24  2507      2005 2\n",
       "25  2507      2011 2\n",
       "26  3210      2005 2\n",
       "27  3210      2011 2\n",
       "28  3210      2016 2\n",
       "29  3333      2004 2\n",
       "30  3383      2005 2\n",
       "⋮   ⋮         ⋮    ⋮\n",
       "549 2226780   2017 2\n",
       "550 2231001   2016 2\n",
       "551 2237438   2017 2\n",
       "552 2287919   2015 2\n",
       "553 2300302   2016 2\n",
       "554 2300990   2017 2\n",
       "555 2312125   2016 2\n",
       "556 2318615   2015 2\n",
       "557 2344865   2016 2\n",
       "558 2345888   2017 2\n",
       "559 2408287   2016 2\n",
       "560 2456763   2017 2\n",
       "561 2550972   2017 2\n",
       "562 2648085   2019 2\n",
       "563 2648322   2017 2\n",
       "564 2649311   2017 2\n",
       "565 2653372   2017 2\n",
       "566 2655941   2017 2\n",
       "567 2660892   2017 2\n",
       "568 2670940   2019 2\n",
       "569 2682938   2017 2\n",
       "570 2696047   2018 2\n",
       "571 2704302   2018 2\n",
       "572 2759067   2018 2\n",
       "573 2776448   2018 2\n",
       "574 2814645   2018 2\n",
       "575 2987151   2019 2\n",
       "576 2992532   2019 2\n",
       "577 3033121   2019 2\n",
       "578 3043280   2019 2"
      ]
     },
     "metadata": {},
     "output_type": "display_data"
    }
   ],
   "source": [
    "na_summary %>%\n",
    "    mutate(year = lubridate::year(annualreportdate)) %>%\n",
    "    group_by(companyid, year) %>%\n",
    "    summarize(n = n_distinct(annualreportdate)) %>%\n",
    "    filter(n > 1)"
   ]
  },
  {
   "cell_type": "code",
   "execution_count": null,
   "metadata": {},
   "outputs": [],
   "source": []
  }
 ],
 "metadata": {
  "jupytext": {
   "formats": "ipynb,Rmd"
  },
  "kernelspec": {
   "display_name": "R 3.6.1",
   "language": "R",
   "name": "ir361"
  },
  "language_info": {
   "codemirror_mode": "r",
   "file_extension": ".r",
   "mimetype": "text/x-r-source",
   "name": "R",
   "pygments_lexer": "r",
   "version": "3.6.3"
  }
 },
 "nbformat": 4,
 "nbformat_minor": 4
}
