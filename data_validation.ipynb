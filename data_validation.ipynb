{
 "cells": [
  {
   "cell_type": "markdown",
   "metadata": {
    "slideshow": {
     "slide_type": "slide"
    }
   },
   "source": [
    "# Data validation"
   ]
  },
  {
   "cell_type": "markdown",
   "metadata": {
    "slideshow": {
     "slide_type": "subslide"
    }
   },
   "source": [
    "## Setup"
   ]
  },
  {
   "cell_type": "code",
   "execution_count": 1,
   "metadata": {},
   "outputs": [
    {
     "name": "stderr",
     "output_type": "stream",
     "text": [
      "── \u001b[1mAttaching packages\u001b[22m ─────────────────────────────────────── tidyverse 1.3.0 ──\n",
      "\n",
      "\u001b[32m✔\u001b[39m \u001b[34mggplot2\u001b[39m 3.3.2     \u001b[32m✔\u001b[39m \u001b[34mpurrr  \u001b[39m 0.3.4\n",
      "\u001b[32m✔\u001b[39m \u001b[34mtibble \u001b[39m 3.0.3     \u001b[32m✔\u001b[39m \u001b[34mdplyr  \u001b[39m 1.0.0\n",
      "\u001b[32m✔\u001b[39m \u001b[34mtidyr  \u001b[39m 1.1.0     \u001b[32m✔\u001b[39m \u001b[34mstringr\u001b[39m 1.4.0\n",
      "\u001b[32m✔\u001b[39m \u001b[34mreadr  \u001b[39m 1.3.1     \u001b[32m✔\u001b[39m \u001b[34mforcats\u001b[39m 0.5.0\n",
      "\n",
      "── \u001b[1mConflicts\u001b[22m ────────────────────────────────────────── tidyverse_conflicts() ──\n",
      "\u001b[31m✖\u001b[39m \u001b[34mdplyr\u001b[39m::\u001b[32mfilter()\u001b[39m masks \u001b[34mstats\u001b[39m::filter()\n",
      "\u001b[31m✖\u001b[39m \u001b[34mdplyr\u001b[39m::\u001b[32mlag()\u001b[39m    masks \u001b[34mstats\u001b[39m::lag()\n",
      "\n",
      "\n",
      "Attaching package: ‘arrow’\n",
      "\n",
      "\n",
      "The following object is masked from ‘package:readr’:\n",
      "\n",
      "    read_table\n",
      "\n",
      "\n",
      "The following object is masked from ‘package:utils’:\n",
      "\n",
      "    timestamp\n",
      "\n",
      "\n"
     ]
    }
   ],
   "source": [
    "library(tidyverse)\n",
    "library(arrow)"
   ]
  },
  {
   "cell_type": "code",
   "execution_count": 2,
   "metadata": {
    "slideshow": {
     "slide_type": "subslide"
    }
   },
   "outputs": [
    {
     "data": {
      "text/html": [
       "<table>\n",
       "<caption>A tibble: 6 × 15</caption>\n",
       "<thead>\n",
       "\t<tr><th scope=col>boardname</th><th scope=col>ned</th><th scope=col>gender</th><th scope=col>boardid</th><th scope=col>directorid</th><th scope=col>timebrd</th><th scope=col>annualreportdate</th><th scope=col>totalcompensation</th><th scope=col>eqlinkremratio</th><th scope=col>isin</th><th scope=col>genderratio</th><th scope=col>nationalitymix</th><th scope=col>numberdirectors</th><th scope=col>stdevage</th><th scope=col>cusip</th></tr>\n",
       "\t<tr><th scope=col>&lt;chr&gt;</th><th scope=col>&lt;lgl&gt;</th><th scope=col>&lt;chr&gt;</th><th scope=col>&lt;dbl&gt;</th><th scope=col>&lt;dbl&gt;</th><th scope=col>&lt;dbl&gt;</th><th scope=col>&lt;date&gt;</th><th scope=col>&lt;dbl&gt;</th><th scope=col>&lt;dbl&gt;</th><th scope=col>&lt;chr&gt;</th><th scope=col>&lt;dbl&gt;</th><th scope=col>&lt;dbl&gt;</th><th scope=col>&lt;dbl&gt;</th><th scope=col>&lt;dbl&gt;</th><th scope=col>&lt;chr&gt;</th></tr>\n",
       "</thead>\n",
       "<tbody>\n",
       "\t<tr><td>EQUITY ONE INC (De-listed 03/2017)                          </td><td>TRUE</td><td>M</td><td>10925</td><td> 1</td><td>3.9</td><td>2014-12-01</td><td>NA</td><td>NA</td><td>US2947521009</td><td>0.778</td><td>0.4</td><td> 9</td><td>8.5</td><td>294752100</td></tr>\n",
       "\t<tr><td>EQUITY ONE INC (De-listed 03/2017)                          </td><td>TRUE</td><td>M</td><td>10925</td><td> 1</td><td>2.9</td><td>2013-12-01</td><td>NA</td><td>NA</td><td>US2947521009</td><td>0.778</td><td>0.4</td><td> 9</td><td>7.7</td><td>294752100</td></tr>\n",
       "\t<tr><td>EQUITY ONE INC (De-listed 03/2017)                          </td><td>TRUE</td><td>M</td><td>10925</td><td> 1</td><td>0.9</td><td>2011-12-01</td><td>NA</td><td>NA</td><td>US2947521009</td><td>0.900</td><td>0.4</td><td>10</td><td>6.9</td><td>294752100</td></tr>\n",
       "\t<tr><td>EQUITY ONE INC (De-listed 03/2017)                          </td><td>TRUE</td><td>M</td><td>10925</td><td> 1</td><td>4.9</td><td>2015-12-01</td><td>NA</td><td>NA</td><td>US2947521009</td><td>0.778</td><td>0.4</td><td> 9</td><td>8.5</td><td>294752100</td></tr>\n",
       "\t<tr><td>EQUITY ONE INC (De-listed 03/2017)                          </td><td>TRUE</td><td>M</td><td>10925</td><td> 1</td><td>1.9</td><td>2012-12-01</td><td>NA</td><td>NA</td><td>US2947521009</td><td>0.800</td><td>0.5</td><td>10</td><td>7.3</td><td>294752100</td></tr>\n",
       "\t<tr><td>NATIONAL MEDICAL HEALTH CARD SYSTEMS INC (De-listed 04/2008)</td><td>TRUE</td><td>M</td><td>21616</td><td>16</td><td>1.5</td><td>2006-06-01</td><td>NA</td><td>NA</td><td>US6369183024</td><td>1.000</td><td>0.0</td><td>10</td><td>9.4</td><td>636918302</td></tr>\n",
       "</tbody>\n",
       "</table>\n"
      ],
      "text/latex": [
       "A tibble: 6 × 15\n",
       "\\begin{tabular}{lllllllllllllll}\n",
       " boardname & ned & gender & boardid & directorid & timebrd & annualreportdate & totalcompensation & eqlinkremratio & isin & genderratio & nationalitymix & numberdirectors & stdevage & cusip\\\\\n",
       " <chr> & <lgl> & <chr> & <dbl> & <dbl> & <dbl> & <date> & <dbl> & <dbl> & <chr> & <dbl> & <dbl> & <dbl> & <dbl> & <chr>\\\\\n",
       "\\hline\n",
       "\t EQUITY ONE INC (De-listed 03/2017)                           & TRUE & M & 10925 &  1 & 3.9 & 2014-12-01 & NA & NA & US2947521009 & 0.778 & 0.4 &  9 & 8.5 & 294752100\\\\\n",
       "\t EQUITY ONE INC (De-listed 03/2017)                           & TRUE & M & 10925 &  1 & 2.9 & 2013-12-01 & NA & NA & US2947521009 & 0.778 & 0.4 &  9 & 7.7 & 294752100\\\\\n",
       "\t EQUITY ONE INC (De-listed 03/2017)                           & TRUE & M & 10925 &  1 & 0.9 & 2011-12-01 & NA & NA & US2947521009 & 0.900 & 0.4 & 10 & 6.9 & 294752100\\\\\n",
       "\t EQUITY ONE INC (De-listed 03/2017)                           & TRUE & M & 10925 &  1 & 4.9 & 2015-12-01 & NA & NA & US2947521009 & 0.778 & 0.4 &  9 & 8.5 & 294752100\\\\\n",
       "\t EQUITY ONE INC (De-listed 03/2017)                           & TRUE & M & 10925 &  1 & 1.9 & 2012-12-01 & NA & NA & US2947521009 & 0.800 & 0.5 & 10 & 7.3 & 294752100\\\\\n",
       "\t NATIONAL MEDICAL HEALTH CARD SYSTEMS INC (De-listed 04/2008) & TRUE & M & 21616 & 16 & 1.5 & 2006-06-01 & NA & NA & US6369183024 & 1.000 & 0.0 & 10 & 9.4 & 636918302\\\\\n",
       "\\end{tabular}\n"
      ],
      "text/markdown": [
       "\n",
       "A tibble: 6 × 15\n",
       "\n",
       "| boardname &lt;chr&gt; | ned &lt;lgl&gt; | gender &lt;chr&gt; | boardid &lt;dbl&gt; | directorid &lt;dbl&gt; | timebrd &lt;dbl&gt; | annualreportdate &lt;date&gt; | totalcompensation &lt;dbl&gt; | eqlinkremratio &lt;dbl&gt; | isin &lt;chr&gt; | genderratio &lt;dbl&gt; | nationalitymix &lt;dbl&gt; | numberdirectors &lt;dbl&gt; | stdevage &lt;dbl&gt; | cusip &lt;chr&gt; |\n",
       "|---|---|---|---|---|---|---|---|---|---|---|---|---|---|---|\n",
       "| EQUITY ONE INC (De-listed 03/2017)                           | TRUE | M | 10925 |  1 | 3.9 | 2014-12-01 | NA | NA | US2947521009 | 0.778 | 0.4 |  9 | 8.5 | 294752100 |\n",
       "| EQUITY ONE INC (De-listed 03/2017)                           | TRUE | M | 10925 |  1 | 2.9 | 2013-12-01 | NA | NA | US2947521009 | 0.778 | 0.4 |  9 | 7.7 | 294752100 |\n",
       "| EQUITY ONE INC (De-listed 03/2017)                           | TRUE | M | 10925 |  1 | 0.9 | 2011-12-01 | NA | NA | US2947521009 | 0.900 | 0.4 | 10 | 6.9 | 294752100 |\n",
       "| EQUITY ONE INC (De-listed 03/2017)                           | TRUE | M | 10925 |  1 | 4.9 | 2015-12-01 | NA | NA | US2947521009 | 0.778 | 0.4 |  9 | 8.5 | 294752100 |\n",
       "| EQUITY ONE INC (De-listed 03/2017)                           | TRUE | M | 10925 |  1 | 1.9 | 2012-12-01 | NA | NA | US2947521009 | 0.800 | 0.5 | 10 | 7.3 | 294752100 |\n",
       "| NATIONAL MEDICAL HEALTH CARD SYSTEMS INC (De-listed 04/2008) | TRUE | M | 21616 | 16 | 1.5 | 2006-06-01 | NA | NA | US6369183024 | 1.000 | 0.0 | 10 | 9.4 | 636918302 |\n",
       "\n"
      ],
      "text/plain": [
       "  boardname                                                    ned  gender\n",
       "1 EQUITY ONE INC (De-listed 03/2017)                           TRUE M     \n",
       "2 EQUITY ONE INC (De-listed 03/2017)                           TRUE M     \n",
       "3 EQUITY ONE INC (De-listed 03/2017)                           TRUE M     \n",
       "4 EQUITY ONE INC (De-listed 03/2017)                           TRUE M     \n",
       "5 EQUITY ONE INC (De-listed 03/2017)                           TRUE M     \n",
       "6 NATIONAL MEDICAL HEALTH CARD SYSTEMS INC (De-listed 04/2008) TRUE M     \n",
       "  boardid directorid timebrd annualreportdate totalcompensation eqlinkremratio\n",
       "1 10925    1         3.9     2014-12-01       NA                NA            \n",
       "2 10925    1         2.9     2013-12-01       NA                NA            \n",
       "3 10925    1         0.9     2011-12-01       NA                NA            \n",
       "4 10925    1         4.9     2015-12-01       NA                NA            \n",
       "5 10925    1         1.9     2012-12-01       NA                NA            \n",
       "6 21616   16         1.5     2006-06-01       NA                NA            \n",
       "  isin         genderratio nationalitymix numberdirectors stdevage cusip    \n",
       "1 US2947521009 0.778       0.4             9              8.5      294752100\n",
       "2 US2947521009 0.778       0.4             9              7.7      294752100\n",
       "3 US2947521009 0.900       0.4            10              6.9      294752100\n",
       "4 US2947521009 0.778       0.4             9              8.5      294752100\n",
       "5 US2947521009 0.800       0.5            10              7.3      294752100\n",
       "6 US6369183024 1.000       0.0            10              9.4      636918302"
      ]
     },
     "metadata": {},
     "output_type": "display_data"
    }
   ],
   "source": [
    "na_summary <- read_feather(\"data/na_summary_preprocessed.feather\")\n",
    "na_summary_original <- read_feather(\"data/na_summary.feather\")\n",
    "\n",
    "head(na_summary)"
   ]
  },
  {
   "cell_type": "markdown",
   "metadata": {
    "slideshow": {
     "slide_type": "slide"
    }
   },
   "source": [
    "## Check BoardEx dataset"
   ]
  },
  {
   "cell_type": "markdown",
   "metadata": {
    "slideshow": {
     "slide_type": "subslide"
    }
   },
   "source": [
    "### Annual report inconsistencies"
   ]
  },
  {
   "cell_type": "code",
   "execution_count": 3,
   "metadata": {
    "slideshow": {
     "slide_type": "subslide"
    }
   },
   "outputs": [
    {
     "name": "stderr",
     "output_type": "stream",
     "text": [
      "`summarise()` regrouping output by 'isin' (override with `.groups` argument)\n",
      "\n"
     ]
    },
    {
     "data": {
      "text/html": [
       "<table>\n",
       "<caption>A grouped_df: 6 × 3</caption>\n",
       "<thead>\n",
       "\t<tr><th scope=col>isin</th><th scope=col>annualreportdate</th><th scope=col>n</th></tr>\n",
       "\t<tr><th scope=col>&lt;chr&gt;</th><th scope=col>&lt;date&gt;</th><th scope=col>&lt;int&gt;</th></tr>\n",
       "</thead>\n",
       "<tbody>\n",
       "\t<tr><td>US30224P2002</td><td>2013-12-01</td><td>2</td></tr>\n",
       "\t<tr><td>US30224P2002</td><td>2014-12-01</td><td>2</td></tr>\n",
       "\t<tr><td>US30224P2002</td><td>2015-12-01</td><td>2</td></tr>\n",
       "\t<tr><td>US30224P2002</td><td>2016-12-01</td><td>2</td></tr>\n",
       "\t<tr><td>US30224P2002</td><td>2017-12-01</td><td>2</td></tr>\n",
       "\t<tr><td>US30224P2002</td><td>2018-12-01</td><td>2</td></tr>\n",
       "</tbody>\n",
       "</table>\n"
      ],
      "text/latex": [
       "A grouped\\_df: 6 × 3\n",
       "\\begin{tabular}{lll}\n",
       " isin & annualreportdate & n\\\\\n",
       " <chr> & <date> & <int>\\\\\n",
       "\\hline\n",
       "\t US30224P2002 & 2013-12-01 & 2\\\\\n",
       "\t US30224P2002 & 2014-12-01 & 2\\\\\n",
       "\t US30224P2002 & 2015-12-01 & 2\\\\\n",
       "\t US30224P2002 & 2016-12-01 & 2\\\\\n",
       "\t US30224P2002 & 2017-12-01 & 2\\\\\n",
       "\t US30224P2002 & 2018-12-01 & 2\\\\\n",
       "\\end{tabular}\n"
      ],
      "text/markdown": [
       "\n",
       "A grouped_df: 6 × 3\n",
       "\n",
       "| isin &lt;chr&gt; | annualreportdate &lt;date&gt; | n &lt;int&gt; |\n",
       "|---|---|---|\n",
       "| US30224P2002 | 2013-12-01 | 2 |\n",
       "| US30224P2002 | 2014-12-01 | 2 |\n",
       "| US30224P2002 | 2015-12-01 | 2 |\n",
       "| US30224P2002 | 2016-12-01 | 2 |\n",
       "| US30224P2002 | 2017-12-01 | 2 |\n",
       "| US30224P2002 | 2018-12-01 | 2 |\n",
       "\n"
      ],
      "text/plain": [
       "  isin         annualreportdate n\n",
       "1 US30224P2002 2013-12-01       2\n",
       "2 US30224P2002 2014-12-01       2\n",
       "3 US30224P2002 2015-12-01       2\n",
       "4 US30224P2002 2016-12-01       2\n",
       "5 US30224P2002 2017-12-01       2\n",
       "6 US30224P2002 2018-12-01       2"
      ]
     },
     "metadata": {},
     "output_type": "display_data"
    }
   ],
   "source": [
    "na_summary %>%\n",
    "    select(isin, annualreportdate, boardid) %>%\n",
    "    group_by(isin, annualreportdate) %>%\n",
    "    summarize(n = n_distinct(boardid)) %>%\n",
    "    filter(n > 1)"
   ]
  },
  {
   "cell_type": "code",
   "execution_count": 4,
   "metadata": {
    "slideshow": {
     "slide_type": "subslide"
    }
   },
   "outputs": [
    {
     "data": {
      "text/html": [
       "<table>\n",
       "<caption>A tibble: 6 × 15</caption>\n",
       "<thead>\n",
       "\t<tr><th scope=col>isin</th><th scope=col>annualreportdate</th><th scope=col>boardid</th><th scope=col>boardname</th><th scope=col>ned</th><th scope=col>gender</th><th scope=col>directorid</th><th scope=col>timebrd</th><th scope=col>totalcompensation</th><th scope=col>eqlinkremratio</th><th scope=col>genderratio</th><th scope=col>nationalitymix</th><th scope=col>numberdirectors</th><th scope=col>stdevage</th><th scope=col>cusip</th></tr>\n",
       "\t<tr><th scope=col>&lt;chr&gt;</th><th scope=col>&lt;date&gt;</th><th scope=col>&lt;dbl&gt;</th><th scope=col>&lt;chr&gt;</th><th scope=col>&lt;lgl&gt;</th><th scope=col>&lt;chr&gt;</th><th scope=col>&lt;dbl&gt;</th><th scope=col>&lt;dbl&gt;</th><th scope=col>&lt;dbl&gt;</th><th scope=col>&lt;dbl&gt;</th><th scope=col>&lt;dbl&gt;</th><th scope=col>&lt;dbl&gt;</th><th scope=col>&lt;dbl&gt;</th><th scope=col>&lt;dbl&gt;</th><th scope=col>&lt;chr&gt;</th></tr>\n",
       "</thead>\n",
       "<tbody>\n",
       "\t<tr><td>US30224P2002</td><td>2013-12-01</td><td>2009179</td><td>ESH Hospitality Inc (ESH Hospitality LLC prior to 11/2013)</td><td> TRUE</td><td>M</td><td> 36881</td><td>0.1</td><td>NA</td><td>NA</td><td>1</td><td>0</td><td>5</td><td>11.8</td><td>30224P200</td></tr>\n",
       "\t<tr><td>US30224P2002</td><td>2013-12-01</td><td>2009180</td><td>EXTENDED STAY AMERICA INC                                 </td><td> TRUE</td><td>M</td><td> 36881</td><td>0.1</td><td>NA</td><td>NA</td><td>1</td><td>0</td><td>7</td><td> 9.0</td><td>30224P200</td></tr>\n",
       "\t<tr><td>US30224P2002</td><td>2013-12-01</td><td>2009180</td><td>EXTENDED STAY AMERICA INC                                 </td><td> TRUE</td><td>M</td><td> 90572</td><td>0.1</td><td>NA</td><td>NA</td><td>1</td><td>0</td><td>7</td><td> 9.0</td><td>30224P200</td></tr>\n",
       "\t<tr><td>US30224P2002</td><td>2013-12-01</td><td>2009179</td><td>ESH Hospitality Inc (ESH Hospitality LLC prior to 11/2013)</td><td> TRUE</td><td>M</td><td> 90572</td><td>0.1</td><td>NA</td><td>NA</td><td>1</td><td>0</td><td>5</td><td>11.8</td><td>30224P200</td></tr>\n",
       "\t<tr><td>US30224P2002</td><td>2013-12-01</td><td>2009180</td><td>EXTENDED STAY AMERICA INC                                 </td><td>FALSE</td><td>M</td><td>203140</td><td>0.1</td><td>NA</td><td>NA</td><td>1</td><td>0</td><td>7</td><td> 9.0</td><td>30224P200</td></tr>\n",
       "\t<tr><td>US30224P2002</td><td>2013-12-01</td><td>2009180</td><td>EXTENDED STAY AMERICA INC                                 </td><td> TRUE</td><td>M</td><td>444845</td><td>0.1</td><td>NA</td><td>NA</td><td>1</td><td>0</td><td>7</td><td> 9.0</td><td>30224P200</td></tr>\n",
       "</tbody>\n",
       "</table>\n"
      ],
      "text/latex": [
       "A tibble: 6 × 15\n",
       "\\begin{tabular}{lllllllllllllll}\n",
       " isin & annualreportdate & boardid & boardname & ned & gender & directorid & timebrd & totalcompensation & eqlinkremratio & genderratio & nationalitymix & numberdirectors & stdevage & cusip\\\\\n",
       " <chr> & <date> & <dbl> & <chr> & <lgl> & <chr> & <dbl> & <dbl> & <dbl> & <dbl> & <dbl> & <dbl> & <dbl> & <dbl> & <chr>\\\\\n",
       "\\hline\n",
       "\t US30224P2002 & 2013-12-01 & 2009179 & ESH Hospitality Inc (ESH Hospitality LLC prior to 11/2013) &  TRUE & M &  36881 & 0.1 & NA & NA & 1 & 0 & 5 & 11.8 & 30224P200\\\\\n",
       "\t US30224P2002 & 2013-12-01 & 2009180 & EXTENDED STAY AMERICA INC                                  &  TRUE & M &  36881 & 0.1 & NA & NA & 1 & 0 & 7 &  9.0 & 30224P200\\\\\n",
       "\t US30224P2002 & 2013-12-01 & 2009180 & EXTENDED STAY AMERICA INC                                  &  TRUE & M &  90572 & 0.1 & NA & NA & 1 & 0 & 7 &  9.0 & 30224P200\\\\\n",
       "\t US30224P2002 & 2013-12-01 & 2009179 & ESH Hospitality Inc (ESH Hospitality LLC prior to 11/2013) &  TRUE & M &  90572 & 0.1 & NA & NA & 1 & 0 & 5 & 11.8 & 30224P200\\\\\n",
       "\t US30224P2002 & 2013-12-01 & 2009180 & EXTENDED STAY AMERICA INC                                  & FALSE & M & 203140 & 0.1 & NA & NA & 1 & 0 & 7 &  9.0 & 30224P200\\\\\n",
       "\t US30224P2002 & 2013-12-01 & 2009180 & EXTENDED STAY AMERICA INC                                  &  TRUE & M & 444845 & 0.1 & NA & NA & 1 & 0 & 7 &  9.0 & 30224P200\\\\\n",
       "\\end{tabular}\n"
      ],
      "text/markdown": [
       "\n",
       "A tibble: 6 × 15\n",
       "\n",
       "| isin &lt;chr&gt; | annualreportdate &lt;date&gt; | boardid &lt;dbl&gt; | boardname &lt;chr&gt; | ned &lt;lgl&gt; | gender &lt;chr&gt; | directorid &lt;dbl&gt; | timebrd &lt;dbl&gt; | totalcompensation &lt;dbl&gt; | eqlinkremratio &lt;dbl&gt; | genderratio &lt;dbl&gt; | nationalitymix &lt;dbl&gt; | numberdirectors &lt;dbl&gt; | stdevage &lt;dbl&gt; | cusip &lt;chr&gt; |\n",
       "|---|---|---|---|---|---|---|---|---|---|---|---|---|---|---|\n",
       "| US30224P2002 | 2013-12-01 | 2009179 | ESH Hospitality Inc (ESH Hospitality LLC prior to 11/2013) |  TRUE | M |  36881 | 0.1 | NA | NA | 1 | 0 | 5 | 11.8 | 30224P200 |\n",
       "| US30224P2002 | 2013-12-01 | 2009180 | EXTENDED STAY AMERICA INC                                  |  TRUE | M |  36881 | 0.1 | NA | NA | 1 | 0 | 7 |  9.0 | 30224P200 |\n",
       "| US30224P2002 | 2013-12-01 | 2009180 | EXTENDED STAY AMERICA INC                                  |  TRUE | M |  90572 | 0.1 | NA | NA | 1 | 0 | 7 |  9.0 | 30224P200 |\n",
       "| US30224P2002 | 2013-12-01 | 2009179 | ESH Hospitality Inc (ESH Hospitality LLC prior to 11/2013) |  TRUE | M |  90572 | 0.1 | NA | NA | 1 | 0 | 5 | 11.8 | 30224P200 |\n",
       "| US30224P2002 | 2013-12-01 | 2009180 | EXTENDED STAY AMERICA INC                                  | FALSE | M | 203140 | 0.1 | NA | NA | 1 | 0 | 7 |  9.0 | 30224P200 |\n",
       "| US30224P2002 | 2013-12-01 | 2009180 | EXTENDED STAY AMERICA INC                                  |  TRUE | M | 444845 | 0.1 | NA | NA | 1 | 0 | 7 |  9.0 | 30224P200 |\n",
       "\n"
      ],
      "text/plain": [
       "  isin         annualreportdate boardid\n",
       "1 US30224P2002 2013-12-01       2009179\n",
       "2 US30224P2002 2013-12-01       2009180\n",
       "3 US30224P2002 2013-12-01       2009180\n",
       "4 US30224P2002 2013-12-01       2009179\n",
       "5 US30224P2002 2013-12-01       2009180\n",
       "6 US30224P2002 2013-12-01       2009180\n",
       "  boardname                                                  ned   gender\n",
       "1 ESH Hospitality Inc (ESH Hospitality LLC prior to 11/2013)  TRUE M     \n",
       "2 EXTENDED STAY AMERICA INC                                   TRUE M     \n",
       "3 EXTENDED STAY AMERICA INC                                   TRUE M     \n",
       "4 ESH Hospitality Inc (ESH Hospitality LLC prior to 11/2013)  TRUE M     \n",
       "5 EXTENDED STAY AMERICA INC                                  FALSE M     \n",
       "6 EXTENDED STAY AMERICA INC                                   TRUE M     \n",
       "  directorid timebrd totalcompensation eqlinkremratio genderratio\n",
       "1  36881     0.1     NA                NA             1          \n",
       "2  36881     0.1     NA                NA             1          \n",
       "3  90572     0.1     NA                NA             1          \n",
       "4  90572     0.1     NA                NA             1          \n",
       "5 203140     0.1     NA                NA             1          \n",
       "6 444845     0.1     NA                NA             1          \n",
       "  nationalitymix numberdirectors stdevage cusip    \n",
       "1 0              5               11.8     30224P200\n",
       "2 0              7                9.0     30224P200\n",
       "3 0              7                9.0     30224P200\n",
       "4 0              5               11.8     30224P200\n",
       "5 0              7                9.0     30224P200\n",
       "6 0              7                9.0     30224P200"
      ]
     },
     "metadata": {},
     "output_type": "display_data"
    }
   ],
   "source": [
    "na_summary %>%\n",
    "    filter(isin == \"US30224P2002\" & annualreportdate == \"2013-12-01\") %>%\n",
    "    select(isin, annualreportdate, boardid, everything()) %>%\n",
    "    head()"
   ]
  },
  {
   "cell_type": "markdown",
   "metadata": {},
   "source": [
    "Looks like there is something funky going on with this one observation. Let's drop it."
   ]
  },
  {
   "cell_type": "markdown",
   "metadata": {
    "slideshow": {
     "slide_type": "subslide"
    }
   },
   "source": [
    "Drop offending observation"
   ]
  },
  {
   "cell_type": "code",
   "execution_count": 5,
   "metadata": {},
   "outputs": [],
   "source": [
    "na_summary <- filter(na_summary,isin != \"US30224P2002\")"
   ]
  },
  {
   "cell_type": "markdown",
   "metadata": {
    "slideshow": {
     "slide_type": "subslide"
    }
   },
   "source": [
    "### Check other variables"
   ]
  },
  {
   "cell_type": "code",
   "execution_count": 6,
   "metadata": {},
   "outputs": [
    {
     "data": {
      "text/html": [
       "96734"
      ],
      "text/latex": [
       "96734"
      ],
      "text/markdown": [
       "96734"
      ],
      "text/plain": [
       "[1] 96734"
      ]
     },
     "metadata": {},
     "output_type": "display_data"
    },
    {
     "data": {
      "text/html": [
       "96734"
      ],
      "text/latex": [
       "96734"
      ],
      "text/markdown": [
       "96734"
      ],
      "text/plain": [
       "[1] 96734"
      ]
     },
     "metadata": {},
     "output_type": "display_data"
    }
   ],
   "source": [
    "na_summary %>%\n",
    "    select(isin, annualreportdate) %>%\n",
    "    n_distinct()\n",
    "\n",
    "na_summary %>%\n",
    "    select(isin, annualreportdate, boardid, numberdirectors, nationalitymix, genderratio) %>%\n",
    "    n_distinct()"
   ]
  },
  {
   "cell_type": "markdown",
   "metadata": {},
   "source": [
    "Looks good"
   ]
  },
  {
   "cell_type": "markdown",
   "metadata": {
    "slideshow": {
     "slide_type": "subslide"
    }
   },
   "source": [
    "### Check for duplicate observations with different data"
   ]
  },
  {
   "cell_type": "code",
   "execution_count": 7,
   "metadata": {},
   "outputs": [
    {
     "data": {
      "text/html": [
       "808601"
      ],
      "text/latex": [
       "808601"
      ],
      "text/markdown": [
       "808601"
      ],
      "text/plain": [
       "[1] 808601"
      ]
     },
     "metadata": {},
     "output_type": "display_data"
    }
   ],
   "source": [
    "nrow(unique(select(na_summary, annualreportdate, isin, directorid)))"
   ]
  },
  {
   "cell_type": "code",
   "execution_count": 8,
   "metadata": {},
   "outputs": [
    {
     "data": {
      "text/html": [
       "808847"
      ],
      "text/latex": [
       "808847"
      ],
      "text/markdown": [
       "808847"
      ],
      "text/plain": [
       "[1] 808847"
      ]
     },
     "metadata": {},
     "output_type": "display_data"
    }
   ],
   "source": [
    "nrow(unique(na_summary))"
   ]
  },
  {
   "cell_type": "markdown",
   "metadata": {},
   "source": [
    "There are 94 observations with divergences."
   ]
  },
  {
   "cell_type": "code",
   "execution_count": 9,
   "metadata": {
    "slideshow": {
     "slide_type": "subslide"
    }
   },
   "outputs": [
    {
     "data": {
      "text/html": [
       "488"
      ],
      "text/latex": [
       "488"
      ],
      "text/markdown": [
       "488"
      ],
      "text/plain": [
       "[1] 488"
      ]
     },
     "metadata": {},
     "output_type": "display_data"
    }
   ],
   "source": [
    "inconsistencies <- na_summary %>%\n",
    "    group_by(isin, annualreportdate, directorid) %>%\n",
    "    distinct() %>%\n",
    "    mutate(n = n()) %>%\n",
    "    filter(n > 1)\n",
    "\n",
    "nrow(inconsistencies)"
   ]
  },
  {
   "cell_type": "markdown",
   "metadata": {},
   "source": [
    "We have successfully identified all diverging duplicate observations."
   ]
  },
  {
   "cell_type": "code",
   "execution_count": 10,
   "metadata": {
    "slideshow": {
     "slide_type": "subslide"
    }
   },
   "outputs": [
    {
     "data": {
      "text/html": [
       "<table>\n",
       "<caption>A grouped_df: 6 × 16</caption>\n",
       "<thead>\n",
       "\t<tr><th scope=col>isin</th><th scope=col>annualreportdate</th><th scope=col>directorid</th><th scope=col>boardname</th><th scope=col>ned</th><th scope=col>gender</th><th scope=col>boardid</th><th scope=col>timebrd</th><th scope=col>totalcompensation</th><th scope=col>eqlinkremratio</th><th scope=col>genderratio</th><th scope=col>nationalitymix</th><th scope=col>numberdirectors</th><th scope=col>stdevage</th><th scope=col>cusip</th><th scope=col>n</th></tr>\n",
       "\t<tr><th scope=col>&lt;chr&gt;</th><th scope=col>&lt;date&gt;</th><th scope=col>&lt;dbl&gt;</th><th scope=col>&lt;chr&gt;</th><th scope=col>&lt;lgl&gt;</th><th scope=col>&lt;chr&gt;</th><th scope=col>&lt;dbl&gt;</th><th scope=col>&lt;dbl&gt;</th><th scope=col>&lt;dbl&gt;</th><th scope=col>&lt;dbl&gt;</th><th scope=col>&lt;dbl&gt;</th><th scope=col>&lt;dbl&gt;</th><th scope=col>&lt;dbl&gt;</th><th scope=col>&lt;dbl&gt;</th><th scope=col>&lt;chr&gt;</th><th scope=col>&lt;int&gt;</th></tr>\n",
       "</thead>\n",
       "<tbody>\n",
       "\t<tr><td>US52186N1063</td><td>2006-12-01</td><td> 3708</td><td>LEAPFROG ENTERPRISES INC (De-listed 04/2016)          </td><td> TRUE</td><td>M</td><td>69432</td><td> 9.3</td><td>NA</td><td>NA</td><td>1.000</td><td>0.0</td><td> 8</td><td>3.8</td><td>52186N106</td><td>2</td></tr>\n",
       "\t<tr><td>US52186N1063</td><td>2006-12-01</td><td> 3708</td><td>LEAPFROG ENTERPRISES INC (De-listed 04/2016)          </td><td>FALSE</td><td>M</td><td>69432</td><td> 9.3</td><td>NA</td><td>NA</td><td>1.000</td><td>0.0</td><td> 8</td><td>3.8</td><td>52186N106</td><td>2</td></tr>\n",
       "\t<tr><td>US9497461015</td><td>2000-12-01</td><td>11522</td><td><span style=white-space:pre-wrap>WELLS FARGO &amp; CO                                      </span></td><td> TRUE</td><td>M</td><td>33264</td><td>19.9</td><td> 0</td><td>NA</td><td>0.737</td><td>0.1</td><td>19</td><td>4.4</td><td>949746101</td><td>2</td></tr>\n",
       "\t<tr><td>US9497461015</td><td>2000-12-01</td><td>11522</td><td><span style=white-space:pre-wrap>WELLS FARGO &amp; CO                                      </span></td><td> TRUE</td><td>M</td><td>33264</td><td>19.9</td><td>NA</td><td>NA</td><td>0.737</td><td>0.1</td><td>19</td><td>4.4</td><td>949746101</td><td>2</td></tr>\n",
       "\t<tr><td>US36866W1062</td><td>2007-12-01</td><td>15177</td><td>GEMSTAR TV GUIDE INTERNATIONAL INC (De-listed 05/2008)</td><td> TRUE</td><td>F</td><td>12961</td><td> 3.0</td><td>NA</td><td>NA</td><td>0.778</td><td>0.0</td><td> 9</td><td>9.2</td><td>36866W106</td><td>2</td></tr>\n",
       "\t<tr><td>US36866W1062</td><td>2007-12-01</td><td>15177</td><td>GEMSTAR TV GUIDE INTERNATIONAL INC (De-listed 05/2008)</td><td> TRUE</td><td>F</td><td>12961</td><td> 3.0</td><td> 0</td><td>NA</td><td>0.778</td><td>0.0</td><td> 9</td><td>9.2</td><td>36866W106</td><td>2</td></tr>\n",
       "</tbody>\n",
       "</table>\n"
      ],
      "text/latex": [
       "A grouped\\_df: 6 × 16\n",
       "\\begin{tabular}{llllllllllllllll}\n",
       " isin & annualreportdate & directorid & boardname & ned & gender & boardid & timebrd & totalcompensation & eqlinkremratio & genderratio & nationalitymix & numberdirectors & stdevage & cusip & n\\\\\n",
       " <chr> & <date> & <dbl> & <chr> & <lgl> & <chr> & <dbl> & <dbl> & <dbl> & <dbl> & <dbl> & <dbl> & <dbl> & <dbl> & <chr> & <int>\\\\\n",
       "\\hline\n",
       "\t US52186N1063 & 2006-12-01 &  3708 & LEAPFROG ENTERPRISES INC (De-listed 04/2016)           &  TRUE & M & 69432 &  9.3 & NA & NA & 1.000 & 0.0 &  8 & 3.8 & 52186N106 & 2\\\\\n",
       "\t US52186N1063 & 2006-12-01 &  3708 & LEAPFROG ENTERPRISES INC (De-listed 04/2016)           & FALSE & M & 69432 &  9.3 & NA & NA & 1.000 & 0.0 &  8 & 3.8 & 52186N106 & 2\\\\\n",
       "\t US9497461015 & 2000-12-01 & 11522 & WELLS FARGO \\& CO                                       &  TRUE & M & 33264 & 19.9 &  0 & NA & 0.737 & 0.1 & 19 & 4.4 & 949746101 & 2\\\\\n",
       "\t US9497461015 & 2000-12-01 & 11522 & WELLS FARGO \\& CO                                       &  TRUE & M & 33264 & 19.9 & NA & NA & 0.737 & 0.1 & 19 & 4.4 & 949746101 & 2\\\\\n",
       "\t US36866W1062 & 2007-12-01 & 15177 & GEMSTAR TV GUIDE INTERNATIONAL INC (De-listed 05/2008) &  TRUE & F & 12961 &  3.0 & NA & NA & 0.778 & 0.0 &  9 & 9.2 & 36866W106 & 2\\\\\n",
       "\t US36866W1062 & 2007-12-01 & 15177 & GEMSTAR TV GUIDE INTERNATIONAL INC (De-listed 05/2008) &  TRUE & F & 12961 &  3.0 &  0 & NA & 0.778 & 0.0 &  9 & 9.2 & 36866W106 & 2\\\\\n",
       "\\end{tabular}\n"
      ],
      "text/markdown": [
       "\n",
       "A grouped_df: 6 × 16\n",
       "\n",
       "| isin &lt;chr&gt; | annualreportdate &lt;date&gt; | directorid &lt;dbl&gt; | boardname &lt;chr&gt; | ned &lt;lgl&gt; | gender &lt;chr&gt; | boardid &lt;dbl&gt; | timebrd &lt;dbl&gt; | totalcompensation &lt;dbl&gt; | eqlinkremratio &lt;dbl&gt; | genderratio &lt;dbl&gt; | nationalitymix &lt;dbl&gt; | numberdirectors &lt;dbl&gt; | stdevage &lt;dbl&gt; | cusip &lt;chr&gt; | n &lt;int&gt; |\n",
       "|---|---|---|---|---|---|---|---|---|---|---|---|---|---|---|---|\n",
       "| US52186N1063 | 2006-12-01 |  3708 | LEAPFROG ENTERPRISES INC (De-listed 04/2016)           |  TRUE | M | 69432 |  9.3 | NA | NA | 1.000 | 0.0 |  8 | 3.8 | 52186N106 | 2 |\n",
       "| US52186N1063 | 2006-12-01 |  3708 | LEAPFROG ENTERPRISES INC (De-listed 04/2016)           | FALSE | M | 69432 |  9.3 | NA | NA | 1.000 | 0.0 |  8 | 3.8 | 52186N106 | 2 |\n",
       "| US9497461015 | 2000-12-01 | 11522 | WELLS FARGO &amp; CO                                       |  TRUE | M | 33264 | 19.9 |  0 | NA | 0.737 | 0.1 | 19 | 4.4 | 949746101 | 2 |\n",
       "| US9497461015 | 2000-12-01 | 11522 | WELLS FARGO &amp; CO                                       |  TRUE | M | 33264 | 19.9 | NA | NA | 0.737 | 0.1 | 19 | 4.4 | 949746101 | 2 |\n",
       "| US36866W1062 | 2007-12-01 | 15177 | GEMSTAR TV GUIDE INTERNATIONAL INC (De-listed 05/2008) |  TRUE | F | 12961 |  3.0 | NA | NA | 0.778 | 0.0 |  9 | 9.2 | 36866W106 | 2 |\n",
       "| US36866W1062 | 2007-12-01 | 15177 | GEMSTAR TV GUIDE INTERNATIONAL INC (De-listed 05/2008) |  TRUE | F | 12961 |  3.0 |  0 | NA | 0.778 | 0.0 |  9 | 9.2 | 36866W106 | 2 |\n",
       "\n"
      ],
      "text/plain": [
       "  isin         annualreportdate directorid\n",
       "1 US52186N1063 2006-12-01        3708     \n",
       "2 US52186N1063 2006-12-01        3708     \n",
       "3 US9497461015 2000-12-01       11522     \n",
       "4 US9497461015 2000-12-01       11522     \n",
       "5 US36866W1062 2007-12-01       15177     \n",
       "6 US36866W1062 2007-12-01       15177     \n",
       "  boardname                                              ned   gender boardid\n",
       "1 LEAPFROG ENTERPRISES INC (De-listed 04/2016)            TRUE M      69432  \n",
       "2 LEAPFROG ENTERPRISES INC (De-listed 04/2016)           FALSE M      69432  \n",
       "3 WELLS FARGO & CO                                        TRUE M      33264  \n",
       "4 WELLS FARGO & CO                                        TRUE M      33264  \n",
       "5 GEMSTAR TV GUIDE INTERNATIONAL INC (De-listed 05/2008)  TRUE F      12961  \n",
       "6 GEMSTAR TV GUIDE INTERNATIONAL INC (De-listed 05/2008)  TRUE F      12961  \n",
       "  timebrd totalcompensation eqlinkremratio genderratio nationalitymix\n",
       "1  9.3    NA                NA             1.000       0.0           \n",
       "2  9.3    NA                NA             1.000       0.0           \n",
       "3 19.9     0                NA             0.737       0.1           \n",
       "4 19.9    NA                NA             0.737       0.1           \n",
       "5  3.0    NA                NA             0.778       0.0           \n",
       "6  3.0     0                NA             0.778       0.0           \n",
       "  numberdirectors stdevage cusip     n\n",
       "1  8              3.8      52186N106 2\n",
       "2  8              3.8      52186N106 2\n",
       "3 19              4.4      949746101 2\n",
       "4 19              4.4      949746101 2\n",
       "5  9              9.2      36866W106 2\n",
       "6  9              9.2      36866W106 2"
      ]
     },
     "metadata": {},
     "output_type": "display_data"
    }
   ],
   "source": [
    "head(select(inconsistencies, isin, annualreportdate, directorid, everything()))"
   ]
  },
  {
   "cell_type": "markdown",
   "metadata": {
    "slideshow": {
     "slide_type": "subslide"
    }
   },
   "source": [
    "Looks like the issue might be missing values. If we fill them in, we might be able to resolve this problem."
   ]
  },
  {
   "cell_type": "code",
   "execution_count": 11,
   "metadata": {},
   "outputs": [
    {
     "data": {
      "text/html": [
       "488"
      ],
      "text/latex": [
       "488"
      ],
      "text/markdown": [
       "488"
      ],
      "text/plain": [
       "[1] 488"
      ]
     },
     "metadata": {},
     "output_type": "display_data"
    }
   ],
   "source": [
    "# In theory, we should be able to just arrange by variables and have NAs at the end, but for some reason it's not quite working.\n",
    "inconsistencies$nas <- rowSums(is.na(inconsistencies))\n",
    "\n",
    "inconsistencies <- inconsistencies %>%\n",
    "    group_by(isin, annualreportdate, directorid) %>%\n",
    "    arrange(nas) %>%\n",
    "    fill(totalcompensation, eqlinkremratio) %>%\n",
    "    select(-c(n, nas))\n",
    "\n",
    "nrow(inconsistencies)"
   ]
  },
  {
   "cell_type": "code",
   "execution_count": 12,
   "metadata": {},
   "outputs": [
    {
     "data": {
      "text/html": [
       "400"
      ],
      "text/latex": [
       "400"
      ],
      "text/markdown": [
       "400"
      ],
      "text/plain": [
       "[1] 400"
      ]
     },
     "metadata": {},
     "output_type": "display_data"
    }
   ],
   "source": [
    "inconsistencies_remaining <- inconsistencies %>%\n",
    "    group_by(isin, annualreportdate, directorid) %>%\n",
    "    distinct() %>%\n",
    "    mutate(n = n()) %>%\n",
    "    filter(n > 1)\n",
    "nrow(inconsistencies_remaining)"
   ]
  },
  {
   "cell_type": "markdown",
   "metadata": {
    "slideshow": {
     "slide_type": "subslide"
    }
   },
   "source": [
    "This has resolved problems for 44 observations, but the remaining ones we cannot resolve. The problem is probably data that was later updated (e.g., NAs filled in), but because we do not have a date of update, we do not know which data is more recent."
   ]
  },
  {
   "cell_type": "markdown",
   "metadata": {
    "slideshow": {
     "slide_type": "subslide"
    }
   },
   "source": [
    "### Multiple annual reports in a year"
   ]
  },
  {
   "cell_type": "markdown",
   "metadata": {},
   "source": [
    "If there are multple annual reports in any year, the number of entries should be reduced when we extract only the year from the annual report date column."
   ]
  },
  {
   "cell_type": "code",
   "execution_count": 13,
   "metadata": {},
   "outputs": [
    {
     "data": {
      "text/html": [
       "96734"
      ],
      "text/latex": [
       "96734"
      ],
      "text/markdown": [
       "96734"
      ],
      "text/plain": [
       "[1] 96734"
      ]
     },
     "metadata": {},
     "output_type": "display_data"
    }
   ],
   "source": [
    "na_summary %>%\n",
    "    select(isin, annualreportdate) %>%\n",
    "    n_distinct()"
   ]
  },
  {
   "cell_type": "code",
   "execution_count": 14,
   "metadata": {},
   "outputs": [
    {
     "data": {
      "text/html": [
       "96099"
      ],
      "text/latex": [
       "96099"
      ],
      "text/markdown": [
       "96099"
      ],
      "text/plain": [
       "[1] 96099"
      ]
     },
     "metadata": {},
     "output_type": "display_data"
    }
   ],
   "source": [
    "na_summary %>%\n",
    "    mutate(year = lubridate::year(annualreportdate)) %>%\n",
    "    select(isin, year) %>%\n",
    "    n_distinct()"
   ]
  },
  {
   "cell_type": "markdown",
   "metadata": {},
   "source": [
    "There 635 instances of duplicate company-year observation, meaning 1270 observations to be removed."
   ]
  },
  {
   "cell_type": "markdown",
   "metadata": {
    "slideshow": {
     "slide_type": "subslide"
    }
   },
   "source": [
    "We could drop these, too."
   ]
  },
  {
   "cell_type": "code",
   "execution_count": 15,
   "metadata": {},
   "outputs": [],
   "source": [
    "# na_summary <- na_summary %>%\n",
    "#     mutate(year = lubridate::year(annualreportdate)) %>%\n",
    "#     group_by(companyid, year) %>%\n",
    "#     mutate(n = n_distinct(annualreportdate)) %>%\n",
    "#     filter(n == 1) %>%\n",
    "#     ungroup() %>%\n",
    "#     select(-year, - n)\n",
    "\n",
    "# n_distinct(select(na_summary, isin, annualreportdate))"
   ]
  },
  {
   "cell_type": "markdown",
   "metadata": {},
   "source": [
    "That would remove 1,270 observations."
   ]
  },
  {
   "cell_type": "markdown",
   "metadata": {
    "slideshow": {
     "slide_type": "subslide"
    }
   },
   "source": [
    "### Duplicate observations of directors"
   ]
  },
  {
   "cell_type": "code",
   "execution_count": 16,
   "metadata": {},
   "outputs": [
    {
     "name": "stderr",
     "output_type": "stream",
     "text": [
      "`summarise()` regrouping output by 'directorid', 'boardid' (override with `.groups` argument)\n",
      "\n"
     ]
    },
    {
     "data": {
      "text/plain": [
       "\n",
       "     1      2      3      4      5      6      8     10 \n",
       "678428  49254   6309   1666    602    362    141      1 "
      ]
     },
     "metadata": {},
     "output_type": "display_data"
    }
   ],
   "source": [
    "na_summary %>%\n",
    "    group_by(directorid, boardid, annualreportdate) %>%\n",
    "    summarize(n = n()) %>%\n",
    "    {table(.$n)}"
   ]
  },
  {
   "cell_type": "markdown",
   "metadata": {},
   "source": [
    "For some reasons, there are a lot of instances of duplicate observations for directors."
   ]
  },
  {
   "cell_type": "code",
   "execution_count": 17,
   "metadata": {
    "slideshow": {
     "slide_type": "subslide"
    }
   },
   "outputs": [
    {
     "data": {
      "text/html": [
       "<table>\n",
       "<caption>A grouped_df: 6 × 69</caption>\n",
       "<thead>\n",
       "\t<tr><th scope=col>directorid</th><th scope=col>annualreportdate</th><th scope=col>rowtype</th><th scope=col>boardname</th><th scope=col>ned</th><th scope=col>directorname</th><th scope=col>rolename</th><th scope=col>rolestatus</th><th scope=col>gender</th><th scope=col>nationality</th><th scope=col>⋯</th><th scope=col>numberdirectors</th><th scope=col>stdevtimebrd</th><th scope=col>stdevtimeinco</th><th scope=col>stdevtotnolstdbrd</th><th scope=col>stdevtotcurrnolstdbrd</th><th scope=col>stdevnoquals</th><th scope=col>stdevage</th><th scope=col>networksize</th><th scope=col>companyid</th><th scope=col>n</th></tr>\n",
       "\t<tr><th scope=col>&lt;dbl&gt;</th><th scope=col>&lt;date&gt;</th><th scope=col>&lt;chr&gt;</th><th scope=col>&lt;chr&gt;</th><th scope=col>&lt;chr&gt;</th><th scope=col>&lt;chr&gt;</th><th scope=col>&lt;chr&gt;</th><th scope=col>&lt;chr&gt;</th><th scope=col>&lt;chr&gt;</th><th scope=col>&lt;chr&gt;</th><th scope=col>⋯</th><th scope=col>&lt;dbl&gt;</th><th scope=col>&lt;dbl&gt;</th><th scope=col>&lt;dbl&gt;</th><th scope=col>&lt;dbl&gt;</th><th scope=col>&lt;dbl&gt;</th><th scope=col>&lt;dbl&gt;</th><th scope=col>&lt;dbl&gt;</th><th scope=col>&lt;dbl&gt;</th><th scope=col>&lt;dbl&gt;</th><th scope=col>&lt;int&gt;</th></tr>\n",
       "</thead>\n",
       "<tbody>\n",
       "\t<tr><td>33628</td><td>2013-12-01</td><td>Board Member    </td><td>LIBERTY MEDIA CORP</td><td>No</td><td>Greg Maffei</td><td>President/CEO</td><td>Greg Maffei joined this role on 14 Jan 2013</td><td>M</td><td>American</td><td>⋯</td><td>9</td><td>0</td><td>0</td><td>7.9</td><td>2.3</td><td>1.3</td><td>11.7</td><td>4646</td><td>1924862</td><td>16</td></tr>\n",
       "\t<tr><td>33628</td><td>2013-12-01</td><td>Board Member    </td><td>LIBERTY MEDIA CORP</td><td>No</td><td>Greg Maffei</td><td>President/CEO</td><td>Greg Maffei joined this role on 14 Jan 2013</td><td>M</td><td>American</td><td>⋯</td><td>9</td><td>0</td><td>0</td><td>7.9</td><td>2.3</td><td>1.3</td><td>11.7</td><td>4646</td><td>1924862</td><td>16</td></tr>\n",
       "\t<tr><td>33628</td><td>2013-12-01</td><td>Board Member    </td><td>LIBERTY MEDIA CORP</td><td>No</td><td>Greg Maffei</td><td>President/CEO</td><td>Greg Maffei joined this role on 14 Jan 2013</td><td>M</td><td>American</td><td>⋯</td><td>9</td><td>0</td><td>0</td><td>7.9</td><td>2.3</td><td>1.3</td><td>11.7</td><td>4646</td><td>1924862</td><td>16</td></tr>\n",
       "\t<tr><td>33628</td><td>2013-12-01</td><td>Disclosed Earner</td><td>LIBERTY MEDIA CORP</td><td>No</td><td>Greg Maffei</td><td>President/CEO</td><td>Greg Maffei joined this role on 14 Jan 2013</td><td>M</td><td>American</td><td>⋯</td><td>9</td><td>0</td><td>0</td><td>7.9</td><td>2.3</td><td>1.3</td><td>11.7</td><td>4646</td><td>1924862</td><td>16</td></tr>\n",
       "\t<tr><td>33628</td><td>2013-12-01</td><td>Board Member    </td><td>LIBERTY MEDIA CORP</td><td>No</td><td>Greg Maffei</td><td>President/CEO</td><td>Greg Maffei joined this role on 14 Jan 2013</td><td>M</td><td>American</td><td>⋯</td><td>9</td><td>0</td><td>0</td><td>7.9</td><td>2.3</td><td>1.3</td><td>11.7</td><td>4646</td><td>1924862</td><td>16</td></tr>\n",
       "\t<tr><td>33628</td><td>2013-12-01</td><td>Disclosed Earner</td><td>LIBERTY MEDIA CORP</td><td>No</td><td>Greg Maffei</td><td>President/CEO</td><td>Greg Maffei joined this role on 14 Jan 2013</td><td>M</td><td>American</td><td>⋯</td><td>9</td><td>0</td><td>0</td><td>7.9</td><td>2.3</td><td>1.3</td><td>11.7</td><td>4646</td><td>1924862</td><td>16</td></tr>\n",
       "</tbody>\n",
       "</table>\n"
      ],
      "text/latex": [
       "A grouped\\_df: 6 × 69\n",
       "\\begin{tabular}{lllllllllllllllllllll}\n",
       " directorid & annualreportdate & rowtype & boardname & ned & directorname & rolename & rolestatus & gender & nationality & ⋯ & numberdirectors & stdevtimebrd & stdevtimeinco & stdevtotnolstdbrd & stdevtotcurrnolstdbrd & stdevnoquals & stdevage & networksize & companyid & n\\\\\n",
       " <dbl> & <date> & <chr> & <chr> & <chr> & <chr> & <chr> & <chr> & <chr> & <chr> & ⋯ & <dbl> & <dbl> & <dbl> & <dbl> & <dbl> & <dbl> & <dbl> & <dbl> & <dbl> & <int>\\\\\n",
       "\\hline\n",
       "\t 33628 & 2013-12-01 & Board Member     & LIBERTY MEDIA CORP & No & Greg Maffei & President/CEO & Greg Maffei joined this role on 14 Jan 2013 & M & American & ⋯ & 9 & 0 & 0 & 7.9 & 2.3 & 1.3 & 11.7 & 4646 & 1924862 & 16\\\\\n",
       "\t 33628 & 2013-12-01 & Board Member     & LIBERTY MEDIA CORP & No & Greg Maffei & President/CEO & Greg Maffei joined this role on 14 Jan 2013 & M & American & ⋯ & 9 & 0 & 0 & 7.9 & 2.3 & 1.3 & 11.7 & 4646 & 1924862 & 16\\\\\n",
       "\t 33628 & 2013-12-01 & Board Member     & LIBERTY MEDIA CORP & No & Greg Maffei & President/CEO & Greg Maffei joined this role on 14 Jan 2013 & M & American & ⋯ & 9 & 0 & 0 & 7.9 & 2.3 & 1.3 & 11.7 & 4646 & 1924862 & 16\\\\\n",
       "\t 33628 & 2013-12-01 & Disclosed Earner & LIBERTY MEDIA CORP & No & Greg Maffei & President/CEO & Greg Maffei joined this role on 14 Jan 2013 & M & American & ⋯ & 9 & 0 & 0 & 7.9 & 2.3 & 1.3 & 11.7 & 4646 & 1924862 & 16\\\\\n",
       "\t 33628 & 2013-12-01 & Board Member     & LIBERTY MEDIA CORP & No & Greg Maffei & President/CEO & Greg Maffei joined this role on 14 Jan 2013 & M & American & ⋯ & 9 & 0 & 0 & 7.9 & 2.3 & 1.3 & 11.7 & 4646 & 1924862 & 16\\\\\n",
       "\t 33628 & 2013-12-01 & Disclosed Earner & LIBERTY MEDIA CORP & No & Greg Maffei & President/CEO & Greg Maffei joined this role on 14 Jan 2013 & M & American & ⋯ & 9 & 0 & 0 & 7.9 & 2.3 & 1.3 & 11.7 & 4646 & 1924862 & 16\\\\\n",
       "\\end{tabular}\n"
      ],
      "text/markdown": [
       "\n",
       "A grouped_df: 6 × 69\n",
       "\n",
       "| directorid &lt;dbl&gt; | annualreportdate &lt;date&gt; | rowtype &lt;chr&gt; | boardname &lt;chr&gt; | ned &lt;chr&gt; | directorname &lt;chr&gt; | rolename &lt;chr&gt; | rolestatus &lt;chr&gt; | gender &lt;chr&gt; | nationality &lt;chr&gt; | ⋯ ⋯ | numberdirectors &lt;dbl&gt; | stdevtimebrd &lt;dbl&gt; | stdevtimeinco &lt;dbl&gt; | stdevtotnolstdbrd &lt;dbl&gt; | stdevtotcurrnolstdbrd &lt;dbl&gt; | stdevnoquals &lt;dbl&gt; | stdevage &lt;dbl&gt; | networksize &lt;dbl&gt; | companyid &lt;dbl&gt; | n &lt;int&gt; |\n",
       "|---|---|---|---|---|---|---|---|---|---|---|---|---|---|---|---|---|---|---|---|---|\n",
       "| 33628 | 2013-12-01 | Board Member     | LIBERTY MEDIA CORP | No | Greg Maffei | President/CEO | Greg Maffei joined this role on 14 Jan 2013 | M | American | ⋯ | 9 | 0 | 0 | 7.9 | 2.3 | 1.3 | 11.7 | 4646 | 1924862 | 16 |\n",
       "| 33628 | 2013-12-01 | Board Member     | LIBERTY MEDIA CORP | No | Greg Maffei | President/CEO | Greg Maffei joined this role on 14 Jan 2013 | M | American | ⋯ | 9 | 0 | 0 | 7.9 | 2.3 | 1.3 | 11.7 | 4646 | 1924862 | 16 |\n",
       "| 33628 | 2013-12-01 | Board Member     | LIBERTY MEDIA CORP | No | Greg Maffei | President/CEO | Greg Maffei joined this role on 14 Jan 2013 | M | American | ⋯ | 9 | 0 | 0 | 7.9 | 2.3 | 1.3 | 11.7 | 4646 | 1924862 | 16 |\n",
       "| 33628 | 2013-12-01 | Disclosed Earner | LIBERTY MEDIA CORP | No | Greg Maffei | President/CEO | Greg Maffei joined this role on 14 Jan 2013 | M | American | ⋯ | 9 | 0 | 0 | 7.9 | 2.3 | 1.3 | 11.7 | 4646 | 1924862 | 16 |\n",
       "| 33628 | 2013-12-01 | Board Member     | LIBERTY MEDIA CORP | No | Greg Maffei | President/CEO | Greg Maffei joined this role on 14 Jan 2013 | M | American | ⋯ | 9 | 0 | 0 | 7.9 | 2.3 | 1.3 | 11.7 | 4646 | 1924862 | 16 |\n",
       "| 33628 | 2013-12-01 | Disclosed Earner | LIBERTY MEDIA CORP | No | Greg Maffei | President/CEO | Greg Maffei joined this role on 14 Jan 2013 | M | American | ⋯ | 9 | 0 | 0 | 7.9 | 2.3 | 1.3 | 11.7 | 4646 | 1924862 | 16 |\n",
       "\n"
      ],
      "text/plain": [
       "  directorid annualreportdate rowtype          boardname          ned\n",
       "1 33628      2013-12-01       Board Member     LIBERTY MEDIA CORP No \n",
       "2 33628      2013-12-01       Board Member     LIBERTY MEDIA CORP No \n",
       "3 33628      2013-12-01       Board Member     LIBERTY MEDIA CORP No \n",
       "4 33628      2013-12-01       Disclosed Earner LIBERTY MEDIA CORP No \n",
       "5 33628      2013-12-01       Board Member     LIBERTY MEDIA CORP No \n",
       "6 33628      2013-12-01       Disclosed Earner LIBERTY MEDIA CORP No \n",
       "  directorname rolename      rolestatus                                  gender\n",
       "1 Greg Maffei  President/CEO Greg Maffei joined this role on 14 Jan 2013 M     \n",
       "2 Greg Maffei  President/CEO Greg Maffei joined this role on 14 Jan 2013 M     \n",
       "3 Greg Maffei  President/CEO Greg Maffei joined this role on 14 Jan 2013 M     \n",
       "4 Greg Maffei  President/CEO Greg Maffei joined this role on 14 Jan 2013 M     \n",
       "5 Greg Maffei  President/CEO Greg Maffei joined this role on 14 Jan 2013 M     \n",
       "6 Greg Maffei  President/CEO Greg Maffei joined this role on 14 Jan 2013 M     \n",
       "  nationality ⋯ numberdirectors stdevtimebrd stdevtimeinco stdevtotnolstdbrd\n",
       "1 American    ⋯ 9               0            0             7.9              \n",
       "2 American    ⋯ 9               0            0             7.9              \n",
       "3 American    ⋯ 9               0            0             7.9              \n",
       "4 American    ⋯ 9               0            0             7.9              \n",
       "5 American    ⋯ 9               0            0             7.9              \n",
       "6 American    ⋯ 9               0            0             7.9              \n",
       "  stdevtotcurrnolstdbrd stdevnoquals stdevage networksize companyid n \n",
       "1 2.3                   1.3          11.7     4646        1924862   16\n",
       "2 2.3                   1.3          11.7     4646        1924862   16\n",
       "3 2.3                   1.3          11.7     4646        1924862   16\n",
       "4 2.3                   1.3          11.7     4646        1924862   16\n",
       "5 2.3                   1.3          11.7     4646        1924862   16\n",
       "6 2.3                   1.3          11.7     4646        1924862   16"
      ]
     },
     "metadata": {},
     "output_type": "display_data"
    }
   ],
   "source": [
    "na_summary_original %>%\n",
    "    group_by(directorid, boardid, annualreportdate) %>%\n",
    "    mutate(n = n()) %>%\n",
    "    arrange(desc(n), annualreportdate) %>%\n",
    "    select(directorid, annualreportdate, everything()) %>%\n",
    "    head()"
   ]
  },
  {
   "cell_type": "markdown",
   "metadata": {
    "slideshow": {
     "slide_type": "subslide"
    }
   },
   "source": [
    "At least in this case, it seems that the entries are just duplicates. Some of the duplicates seem to be the same person taking different roles."
   ]
  },
  {
   "cell_type": "markdown",
   "metadata": {
    "slideshow": {
     "slide_type": "slide"
    }
   },
   "source": [
    "### Validate other columns"
   ]
  },
  {
   "cell_type": "markdown",
   "metadata": {
    "slideshow": {
     "slide_type": "subslide"
    }
   },
   "source": [
    "#### Gender variable"
   ]
  },
  {
   "cell_type": "code",
   "execution_count": 18,
   "metadata": {},
   "outputs": [
    {
     "data": {
      "text/plain": [
       "\n",
       "     F      M \n",
       " 89777 719070 "
      ]
     },
     "metadata": {},
     "output_type": "display_data"
    }
   ],
   "source": [
    "table(na_summary$gender) "
   ]
  },
  {
   "cell_type": "markdown",
   "metadata": {},
   "source": [
    "The data does not contain any values other than F and M."
   ]
  },
  {
   "cell_type": "code",
   "execution_count": 19,
   "metadata": {
    "slideshow": {
     "slide_type": "subslide"
    }
   },
   "outputs": [
    {
     "name": "stderr",
     "output_type": "stream",
     "text": [
      "`summarise()` ungrouping output (override with `.groups` argument)\n",
      "\n"
     ]
    },
    {
     "data": {
      "text/html": [
       "<table>\n",
       "<caption>A tibble: 3 × 2</caption>\n",
       "<thead>\n",
       "\t<tr><th scope=col>directorid</th><th scope=col>n</th></tr>\n",
       "\t<tr><th scope=col>&lt;dbl&gt;</th><th scope=col>&lt;int&gt;</th></tr>\n",
       "</thead>\n",
       "<tbody>\n",
       "\t<tr><td> 1</td><td>1</td></tr>\n",
       "\t<tr><td>16</td><td>1</td></tr>\n",
       "\t<tr><td>27</td><td>1</td></tr>\n",
       "</tbody>\n",
       "</table>\n"
      ],
      "text/latex": [
       "A tibble: 3 × 2\n",
       "\\begin{tabular}{ll}\n",
       " directorid & n\\\\\n",
       " <dbl> & <int>\\\\\n",
       "\\hline\n",
       "\t  1 & 1\\\\\n",
       "\t 16 & 1\\\\\n",
       "\t 27 & 1\\\\\n",
       "\\end{tabular}\n"
      ],
      "text/markdown": [
       "\n",
       "A tibble: 3 × 2\n",
       "\n",
       "| directorid &lt;dbl&gt; | n &lt;int&gt; |\n",
       "|---|---|\n",
       "|  1 | 1 |\n",
       "| 16 | 1 |\n",
       "| 27 | 1 |\n",
       "\n"
      ],
      "text/plain": [
       "  directorid n\n",
       "1  1         1\n",
       "2 16         1\n",
       "3 27         1"
      ]
     },
     "metadata": {},
     "output_type": "display_data"
    }
   ],
   "source": [
    "na_summary %>%\n",
    "    group_by(directorid) %>%\n",
    "    summarize(n = n_distinct(gender)) %>%\n",
    "    arrange(desc(n)) %>%\n",
    "    head(3)"
   ]
  },
  {
   "cell_type": "markdown",
   "metadata": {},
   "source": [
    "All directors have the same gender across all reports, that's also good to know."
   ]
  },
  {
   "cell_type": "markdown",
   "metadata": {
    "slideshow": {
     "slide_type": "subslide"
    }
   },
   "source": [
    "#### boardid vs companyid"
   ]
  },
  {
   "cell_type": "code",
   "execution_count": 20,
   "metadata": {},
   "outputs": [
    {
     "data": {
      "text/plain": [
       "\n",
       "   TRUE \n",
       "1322206 "
      ]
     },
     "metadata": {},
     "output_type": "display_data"
    }
   ],
   "source": [
    "table(na_summary_original$boardid == na_summary_original$companyid)"
   ]
  },
  {
   "cell_type": "markdown",
   "metadata": {},
   "source": [
    "Interesting"
   ]
  },
  {
   "cell_type": "markdown",
   "metadata": {
    "slideshow": {
     "slide_type": "subslide"
    }
   },
   "source": [
    "#### Validate cusip and ISIN"
   ]
  },
  {
   "cell_type": "markdown",
   "metadata": {},
   "source": [
    "Length for ISIN should always be 12: country code + cusip + check digit."
   ]
  },
  {
   "cell_type": "code",
   "execution_count": 21,
   "metadata": {},
   "outputs": [
    {
     "data": {
      "text/plain": [
       "\n",
       "    12 \n",
       "808847 "
      ]
     },
     "metadata": {},
     "output_type": "display_data"
    }
   ],
   "source": [
    "table(nchar(na_summary$isin))"
   ]
  },
  {
   "cell_type": "markdown",
   "metadata": {},
   "source": [
    "That's good."
   ]
  },
  {
   "cell_type": "markdown",
   "metadata": {
    "slideshow": {
     "slide_type": "subslide"
    }
   },
   "source": [
    "Make sure that compa always provides 9 char cusip."
   ]
  },
  {
   "cell_type": "code",
   "execution_count": 22,
   "metadata": {},
   "outputs": [],
   "source": [
    "compa_cusip <- read_feather(\"data/compa.feather\")$cusip\n",
    "invisible(gc())"
   ]
  },
  {
   "cell_type": "code",
   "execution_count": 23,
   "metadata": {},
   "outputs": [
    {
     "data": {
      "text/plain": [
       "\n",
       "     9 \n",
       "803402 "
      ]
     },
     "metadata": {},
     "output_type": "display_data"
    }
   ],
   "source": [
    "table(nchar(compa_cusip))"
   ]
  },
  {
   "cell_type": "markdown",
   "metadata": {
    "slideshow": {
     "slide_type": "subslide"
    }
   },
   "source": [
    "See how great the overlap is between the two."
   ]
  },
  {
   "cell_type": "code",
   "execution_count": 24,
   "metadata": {},
   "outputs": [
    {
     "data": {
      "text/plain": [
       "\n",
       " FALSE   TRUE \n",
       "122666 686181 "
      ]
     },
     "metadata": {},
     "output_type": "display_data"
    }
   ],
   "source": [
    "table(stringr::str_sub(na_summary$isin, 3, 11) %in% compa_cusip)"
   ]
  },
  {
   "cell_type": "markdown",
   "metadata": {},
   "source": [
    "That's a pretty good coverage."
   ]
  },
  {
   "cell_type": "markdown",
   "metadata": {
    "slideshow": {
     "slide_type": "slide"
    }
   },
   "source": [
    "## Board characteristics dataset"
   ]
  },
  {
   "cell_type": "code",
   "execution_count": 25,
   "metadata": {
    "slideshow": {
     "slide_type": "subslide"
    }
   },
   "outputs": [
    {
     "data": {
      "text/html": [
       "<table>\n",
       "<caption>A tibble: 6 × 14</caption>\n",
       "<thead>\n",
       "\t<tr><th scope=col>boardname</th><th scope=col>annualreportdate</th><th scope=col>committeename</th><th scope=col>directorname</th><th scope=col>committeerolename</th><th scope=col>functionalexperience</th><th scope=col>boardrole</th><th scope=col>brdposition</th><th scope=col>dirrolestatus</th><th scope=col>boardid</th><th scope=col>clientcompanyid</th><th scope=col>ned</th><th scope=col>directorid</th><th scope=col>clientdirectorid</th></tr>\n",
       "\t<tr><th scope=col>&lt;chr&gt;</th><th scope=col>&lt;date&gt;</th><th scope=col>&lt;chr&gt;</th><th scope=col>&lt;chr&gt;</th><th scope=col>&lt;chr&gt;</th><th scope=col>&lt;chr&gt;</th><th scope=col>&lt;chr&gt;</th><th scope=col>&lt;chr&gt;</th><th scope=col>&lt;chr&gt;</th><th scope=col>&lt;dbl&gt;</th><th scope=col>&lt;???&gt;</th><th scope=col>&lt;chr&gt;</th><th scope=col>&lt;dbl&gt;</th><th scope=col>&lt;???&gt;</th></tr>\n",
       "</thead>\n",
       "<tbody>\n",
       "\t<tr><td>1 800 CONTACTS INC (De-listed 09/2007)</td><td>2006-12-01</td><td>Compensation</td><td>Steve Key</td><td>Member                     </td><td>NA                  </td><td>Independent Director</td><td>Yes</td><td>Steve Key joined this role in 28 Jul 2005</td><td>3</td><td>NA</td><td>Yes</td><td>59796</td><td>NA</td></tr>\n",
       "\t<tr><td>1 800 CONTACTS INC (De-listed 09/2007)</td><td>2006-12-01</td><td>Audit       </td><td>Steve Key</td><td>Chairman / Financial Expert</td><td>Executive VP/CFO(2) </td><td>Independent Director</td><td>Yes</td><td>Steve Key joined this role in 02 Aug 2005</td><td>3</td><td>NA</td><td>Yes</td><td>59796</td><td>NA</td></tr>\n",
       "\t<tr><td>1 800 CONTACTS INC (De-listed 09/2007)</td><td>2006-12-01</td><td>Audit       </td><td>Steve Key</td><td>Chairman / Financial Expert</td><td>Vice Chairman/CFO(1)</td><td>Independent Director</td><td>Yes</td><td>Steve Key joined this role in 02 Aug 2005</td><td>3</td><td>NA</td><td>Yes</td><td>59796</td><td>NA</td></tr>\n",
       "\t<tr><td>1 800 CONTACTS INC (De-listed 09/2007)</td><td>2005-12-01</td><td>Compensation</td><td>Steve Key</td><td>Member                     </td><td>NA                  </td><td>Independent Director</td><td>Yes</td><td>Steve Key joined this role in 28 Jul 2005</td><td>3</td><td>NA</td><td>Yes</td><td>59796</td><td>NA</td></tr>\n",
       "\t<tr><td>1 800 CONTACTS INC (De-listed 09/2007)</td><td>2005-12-01</td><td>Audit       </td><td>Steve Key</td><td>Chairman / Financial Expert</td><td>Executive VP/CFO(2) </td><td>Independent Director</td><td>Yes</td><td>Steve Key joined this role in 02 Aug 2005</td><td>3</td><td>NA</td><td>Yes</td><td>59796</td><td>NA</td></tr>\n",
       "\t<tr><td>1 800 CONTACTS INC (De-listed 09/2007)</td><td>2005-12-01</td><td>Audit       </td><td>Steve Key</td><td>Chairman / Financial Expert</td><td>Vice Chairman/CFO(1)</td><td>Independent Director</td><td>Yes</td><td>Steve Key joined this role in 02 Aug 2005</td><td>3</td><td>NA</td><td>Yes</td><td>59796</td><td>NA</td></tr>\n",
       "</tbody>\n",
       "</table>\n"
      ],
      "text/latex": [
       "A tibble: 6 × 14\n",
       "\\begin{tabular}{llllllllllllll}\n",
       " boardname & annualreportdate & committeename & directorname & committeerolename & functionalexperience & boardrole & brdposition & dirrolestatus & boardid & clientcompanyid & ned & directorid & clientdirectorid\\\\\n",
       " <chr> & <date> & <chr> & <chr> & <chr> & <chr> & <chr> & <chr> & <chr> & <dbl> & <???> & <chr> & <dbl> & <???>\\\\\n",
       "\\hline\n",
       "\t 1 800 CONTACTS INC (De-listed 09/2007) & 2006-12-01 & Compensation & Steve Key & Member                      & NA                   & Independent Director & Yes & Steve Key joined this role in 28 Jul 2005 & 3 & NA & Yes & 59796 & NA\\\\\n",
       "\t 1 800 CONTACTS INC (De-listed 09/2007) & 2006-12-01 & Audit        & Steve Key & Chairman / Financial Expert & Executive VP/CFO(2)  & Independent Director & Yes & Steve Key joined this role in 02 Aug 2005 & 3 & NA & Yes & 59796 & NA\\\\\n",
       "\t 1 800 CONTACTS INC (De-listed 09/2007) & 2006-12-01 & Audit        & Steve Key & Chairman / Financial Expert & Vice Chairman/CFO(1) & Independent Director & Yes & Steve Key joined this role in 02 Aug 2005 & 3 & NA & Yes & 59796 & NA\\\\\n",
       "\t 1 800 CONTACTS INC (De-listed 09/2007) & 2005-12-01 & Compensation & Steve Key & Member                      & NA                   & Independent Director & Yes & Steve Key joined this role in 28 Jul 2005 & 3 & NA & Yes & 59796 & NA\\\\\n",
       "\t 1 800 CONTACTS INC (De-listed 09/2007) & 2005-12-01 & Audit        & Steve Key & Chairman / Financial Expert & Executive VP/CFO(2)  & Independent Director & Yes & Steve Key joined this role in 02 Aug 2005 & 3 & NA & Yes & 59796 & NA\\\\\n",
       "\t 1 800 CONTACTS INC (De-listed 09/2007) & 2005-12-01 & Audit        & Steve Key & Chairman / Financial Expert & Vice Chairman/CFO(1) & Independent Director & Yes & Steve Key joined this role in 02 Aug 2005 & 3 & NA & Yes & 59796 & NA\\\\\n",
       "\\end{tabular}\n"
      ],
      "text/markdown": [
       "\n",
       "A tibble: 6 × 14\n",
       "\n",
       "| boardname &lt;chr&gt; | annualreportdate &lt;date&gt; | committeename &lt;chr&gt; | directorname &lt;chr&gt; | committeerolename &lt;chr&gt; | functionalexperience &lt;chr&gt; | boardrole &lt;chr&gt; | brdposition &lt;chr&gt; | dirrolestatus &lt;chr&gt; | boardid &lt;dbl&gt; | clientcompanyid &lt;???&gt; | ned &lt;chr&gt; | directorid &lt;dbl&gt; | clientdirectorid &lt;???&gt; |\n",
       "|---|---|---|---|---|---|---|---|---|---|---|---|---|---|\n",
       "| 1 800 CONTACTS INC (De-listed 09/2007) | 2006-12-01 | Compensation | Steve Key | Member                      | NA                   | Independent Director | Yes | Steve Key joined this role in 28 Jul 2005 | 3 | NA | Yes | 59796 | NA |\n",
       "| 1 800 CONTACTS INC (De-listed 09/2007) | 2006-12-01 | Audit        | Steve Key | Chairman / Financial Expert | Executive VP/CFO(2)  | Independent Director | Yes | Steve Key joined this role in 02 Aug 2005 | 3 | NA | Yes | 59796 | NA |\n",
       "| 1 800 CONTACTS INC (De-listed 09/2007) | 2006-12-01 | Audit        | Steve Key | Chairman / Financial Expert | Vice Chairman/CFO(1) | Independent Director | Yes | Steve Key joined this role in 02 Aug 2005 | 3 | NA | Yes | 59796 | NA |\n",
       "| 1 800 CONTACTS INC (De-listed 09/2007) | 2005-12-01 | Compensation | Steve Key | Member                      | NA                   | Independent Director | Yes | Steve Key joined this role in 28 Jul 2005 | 3 | NA | Yes | 59796 | NA |\n",
       "| 1 800 CONTACTS INC (De-listed 09/2007) | 2005-12-01 | Audit        | Steve Key | Chairman / Financial Expert | Executive VP/CFO(2)  | Independent Director | Yes | Steve Key joined this role in 02 Aug 2005 | 3 | NA | Yes | 59796 | NA |\n",
       "| 1 800 CONTACTS INC (De-listed 09/2007) | 2005-12-01 | Audit        | Steve Key | Chairman / Financial Expert | Vice Chairman/CFO(1) | Independent Director | Yes | Steve Key joined this role in 02 Aug 2005 | 3 | NA | Yes | 59796 | NA |\n",
       "\n"
      ],
      "text/plain": [
       "  boardname                              annualreportdate committeename\n",
       "1 1 800 CONTACTS INC (De-listed 09/2007) 2006-12-01       Compensation \n",
       "2 1 800 CONTACTS INC (De-listed 09/2007) 2006-12-01       Audit        \n",
       "3 1 800 CONTACTS INC (De-listed 09/2007) 2006-12-01       Audit        \n",
       "4 1 800 CONTACTS INC (De-listed 09/2007) 2005-12-01       Compensation \n",
       "5 1 800 CONTACTS INC (De-listed 09/2007) 2005-12-01       Audit        \n",
       "6 1 800 CONTACTS INC (De-listed 09/2007) 2005-12-01       Audit        \n",
       "  directorname committeerolename           functionalexperience\n",
       "1 Steve Key    Member                      NA                  \n",
       "2 Steve Key    Chairman / Financial Expert Executive VP/CFO(2) \n",
       "3 Steve Key    Chairman / Financial Expert Vice Chairman/CFO(1)\n",
       "4 Steve Key    Member                      NA                  \n",
       "5 Steve Key    Chairman / Financial Expert Executive VP/CFO(2) \n",
       "6 Steve Key    Chairman / Financial Expert Vice Chairman/CFO(1)\n",
       "  boardrole            brdposition dirrolestatus                            \n",
       "1 Independent Director Yes         Steve Key joined this role in 28 Jul 2005\n",
       "2 Independent Director Yes         Steve Key joined this role in 02 Aug 2005\n",
       "3 Independent Director Yes         Steve Key joined this role in 02 Aug 2005\n",
       "4 Independent Director Yes         Steve Key joined this role in 28 Jul 2005\n",
       "5 Independent Director Yes         Steve Key joined this role in 02 Aug 2005\n",
       "6 Independent Director Yes         Steve Key joined this role in 02 Aug 2005\n",
       "  boardid clientcompanyid ned directorid clientdirectorid\n",
       "1 3       NA              Yes 59796      NA              \n",
       "2 3       NA              Yes 59796      NA              \n",
       "3 3       NA              Yes 59796      NA              \n",
       "4 3       NA              Yes 59796      NA              \n",
       "5 3       NA              Yes 59796      NA              \n",
       "6 3       NA              Yes 59796      NA              "
      ]
     },
     "metadata": {},
     "output_type": "display_data"
    }
   ],
   "source": [
    "board <- read_feather(\"data/na_boards.feather\")\n",
    "head(board)"
   ]
  },
  {
   "cell_type": "code",
   "execution_count": 26,
   "metadata": {
    "slideshow": {
     "slide_type": "subslide"
    }
   },
   "outputs": [
    {
     "data": {
      "text/html": [
       "1821999"
      ],
      "text/latex": [
       "1821999"
      ],
      "text/markdown": [
       "1821999"
      ],
      "text/plain": [
       "[1] 1821999"
      ]
     },
     "metadata": {},
     "output_type": "display_data"
    },
    {
     "data": {
      "text/html": [
       "1821992"
      ],
      "text/latex": [
       "1821992"
      ],
      "text/markdown": [
       "1821992"
      ],
      "text/plain": [
       "[1] 1821992"
      ]
     },
     "metadata": {},
     "output_type": "display_data"
    },
    {
     "data": {
      "text/html": [
       "1524147"
      ],
      "text/latex": [
       "1524147"
      ],
      "text/markdown": [
       "1524147"
      ],
      "text/plain": [
       "[1] 1524147"
      ]
     },
     "metadata": {},
     "output_type": "display_data"
    },
    {
     "data": {
      "text/html": [
       "1524147"
      ],
      "text/latex": [
       "1524147"
      ],
      "text/markdown": [
       "1524147"
      ],
      "text/plain": [
       "[1] 1524147"
      ]
     },
     "metadata": {},
     "output_type": "display_data"
    }
   ],
   "source": [
    "nrow(board)\n",
    "\n",
    "nrow(unique(board))\n",
    "\n",
    "nrow(unique(select(board, -c(functionalexperience, ned, boardrole, brdposition))))\n",
    "\n",
    "board %>%\n",
    "    select(boardid, directorid, annualreportdate, committeename) %>%\n",
    "    unique() %>%\n",
    "    {nrow(.)}"
   ]
  },
  {
   "cell_type": "markdown",
   "metadata": {},
   "source": [
    "There are some duplicates with diverging data, but only in variables that are not relevant."
   ]
  },
  {
   "cell_type": "markdown",
   "metadata": {
    "slideshow": {
     "slide_type": "slide"
    }
   },
   "source": [
    "## Compa dataset"
   ]
  },
  {
   "cell_type": "code",
   "execution_count": 27,
   "metadata": {
    "slideshow": {
     "slide_type": "subslide"
    }
   },
   "outputs": [
    {
     "data": {
      "text/html": [
       "<table>\n",
       "<caption>A tibble: 6 × 12</caption>\n",
       "<thead>\n",
       "\t<tr><th scope=col>gvkey</th><th scope=col>fyear</th><th scope=col>cusip</th><th scope=col>apdedate</th><th scope=col>at</th><th scope=col>emp</th><th scope=col>dltt</th><th scope=col>ceq</th><th scope=col>act</th><th scope=col>lct</th><th scope=col>bkvlps</th><th scope=col>csho</th></tr>\n",
       "\t<tr><th scope=col>&lt;chr&gt;</th><th scope=col>&lt;dbl&gt;</th><th scope=col>&lt;chr&gt;</th><th scope=col>&lt;date&gt;</th><th scope=col>&lt;dbl&gt;</th><th scope=col>&lt;dbl&gt;</th><th scope=col>&lt;dbl&gt;</th><th scope=col>&lt;dbl&gt;</th><th scope=col>&lt;dbl&gt;</th><th scope=col>&lt;dbl&gt;</th><th scope=col>&lt;dbl&gt;</th><th scope=col>&lt;dbl&gt;</th></tr>\n",
       "</thead>\n",
       "<tbody>\n",
       "\t<tr><td>001000</td><td>1961</td><td>000032102</td><td>NA</td><td>   NA</td><td>NA</td><td>0.100</td><td>   NA</td><td>   NA</td><td>   NA</td><td>2.4342</td><td>0.152</td></tr>\n",
       "\t<tr><td>001000</td><td>1962</td><td>000032102</td><td>NA</td><td>   NA</td><td>NA</td><td>0.000</td><td>0.552</td><td>   NA</td><td>   NA</td><td>3.0497</td><td>0.181</td></tr>\n",
       "\t<tr><td>001000</td><td>1963</td><td>000032102</td><td>NA</td><td>   NA</td><td>NA</td><td>0.015</td><td>0.553</td><td>0.408</td><td>0.322</td><td>2.9731</td><td>0.186</td></tr>\n",
       "\t<tr><td>001000</td><td>1964</td><td>000032102</td><td>NA</td><td>1.416</td><td>NA</td><td>0.522</td><td>0.607</td><td>0.718</td><td>0.267</td><td>3.0969</td><td>0.196</td></tr>\n",
       "\t<tr><td>001000</td><td>1965</td><td>000032102</td><td>NA</td><td>2.310</td><td>NA</td><td>1.154</td><td>0.491</td><td>0.725</td><td>0.623</td><td>2.3835</td><td>0.206</td></tr>\n",
       "\t<tr><td>001000</td><td>1966</td><td>000032102</td><td>NA</td><td>2.430</td><td>NA</td><td>1.109</td><td>0.834</td><td>1.015</td><td>0.446</td><td>3.8082</td><td>0.219</td></tr>\n",
       "</tbody>\n",
       "</table>\n"
      ],
      "text/latex": [
       "A tibble: 6 × 12\n",
       "\\begin{tabular}{llllllllllll}\n",
       " gvkey & fyear & cusip & apdedate & at & emp & dltt & ceq & act & lct & bkvlps & csho\\\\\n",
       " <chr> & <dbl> & <chr> & <date> & <dbl> & <dbl> & <dbl> & <dbl> & <dbl> & <dbl> & <dbl> & <dbl>\\\\\n",
       "\\hline\n",
       "\t 001000 & 1961 & 000032102 & NA &    NA & NA & 0.100 &    NA &    NA &    NA & 2.4342 & 0.152\\\\\n",
       "\t 001000 & 1962 & 000032102 & NA &    NA & NA & 0.000 & 0.552 &    NA &    NA & 3.0497 & 0.181\\\\\n",
       "\t 001000 & 1963 & 000032102 & NA &    NA & NA & 0.015 & 0.553 & 0.408 & 0.322 & 2.9731 & 0.186\\\\\n",
       "\t 001000 & 1964 & 000032102 & NA & 1.416 & NA & 0.522 & 0.607 & 0.718 & 0.267 & 3.0969 & 0.196\\\\\n",
       "\t 001000 & 1965 & 000032102 & NA & 2.310 & NA & 1.154 & 0.491 & 0.725 & 0.623 & 2.3835 & 0.206\\\\\n",
       "\t 001000 & 1966 & 000032102 & NA & 2.430 & NA & 1.109 & 0.834 & 1.015 & 0.446 & 3.8082 & 0.219\\\\\n",
       "\\end{tabular}\n"
      ],
      "text/markdown": [
       "\n",
       "A tibble: 6 × 12\n",
       "\n",
       "| gvkey &lt;chr&gt; | fyear &lt;dbl&gt; | cusip &lt;chr&gt; | apdedate &lt;date&gt; | at &lt;dbl&gt; | emp &lt;dbl&gt; | dltt &lt;dbl&gt; | ceq &lt;dbl&gt; | act &lt;dbl&gt; | lct &lt;dbl&gt; | bkvlps &lt;dbl&gt; | csho &lt;dbl&gt; |\n",
       "|---|---|---|---|---|---|---|---|---|---|---|---|\n",
       "| 001000 | 1961 | 000032102 | NA |    NA | NA | 0.100 |    NA |    NA |    NA | 2.4342 | 0.152 |\n",
       "| 001000 | 1962 | 000032102 | NA |    NA | NA | 0.000 | 0.552 |    NA |    NA | 3.0497 | 0.181 |\n",
       "| 001000 | 1963 | 000032102 | NA |    NA | NA | 0.015 | 0.553 | 0.408 | 0.322 | 2.9731 | 0.186 |\n",
       "| 001000 | 1964 | 000032102 | NA | 1.416 | NA | 0.522 | 0.607 | 0.718 | 0.267 | 3.0969 | 0.196 |\n",
       "| 001000 | 1965 | 000032102 | NA | 2.310 | NA | 1.154 | 0.491 | 0.725 | 0.623 | 2.3835 | 0.206 |\n",
       "| 001000 | 1966 | 000032102 | NA | 2.430 | NA | 1.109 | 0.834 | 1.015 | 0.446 | 3.8082 | 0.219 |\n",
       "\n"
      ],
      "text/plain": [
       "  gvkey  fyear cusip     apdedate at    emp dltt  ceq   act   lct   bkvlps\n",
       "1 001000 1961  000032102 <NA>        NA NA  0.100    NA    NA    NA 2.4342\n",
       "2 001000 1962  000032102 <NA>        NA NA  0.000 0.552    NA    NA 3.0497\n",
       "3 001000 1963  000032102 <NA>        NA NA  0.015 0.553 0.408 0.322 2.9731\n",
       "4 001000 1964  000032102 <NA>     1.416 NA  0.522 0.607 0.718 0.267 3.0969\n",
       "5 001000 1965  000032102 <NA>     2.310 NA  1.154 0.491 0.725 0.623 2.3835\n",
       "6 001000 1966  000032102 <NA>     2.430 NA  1.109 0.834 1.015 0.446 3.8082\n",
       "  csho \n",
       "1 0.152\n",
       "2 0.181\n",
       "3 0.186\n",
       "4 0.196\n",
       "5 0.206\n",
       "6 0.219"
      ]
     },
     "metadata": {},
     "output_type": "display_data"
    }
   ],
   "source": [
    "compa <- read_feather(\"data/compa_preprocessed.feather\")\n",
    "head(compa)"
   ]
  },
  {
   "cell_type": "code",
   "execution_count": 28,
   "metadata": {
    "slideshow": {
     "slide_type": "subslide"
    }
   },
   "outputs": [
    {
     "data": {
      "text/html": [
       "<table>\n",
       "<caption>A grouped_df: 10 × 13</caption>\n",
       "<thead>\n",
       "\t<tr><th scope=col>gvkey</th><th scope=col>fyear</th><th scope=col>cusip</th><th scope=col>apdedate</th><th scope=col>at</th><th scope=col>emp</th><th scope=col>dltt</th><th scope=col>ceq</th><th scope=col>act</th><th scope=col>lct</th><th scope=col>bkvlps</th><th scope=col>csho</th><th scope=col>n</th></tr>\n",
       "\t<tr><th scope=col>&lt;chr&gt;</th><th scope=col>&lt;dbl&gt;</th><th scope=col>&lt;chr&gt;</th><th scope=col>&lt;date&gt;</th><th scope=col>&lt;dbl&gt;</th><th scope=col>&lt;dbl&gt;</th><th scope=col>&lt;dbl&gt;</th><th scope=col>&lt;dbl&gt;</th><th scope=col>&lt;dbl&gt;</th><th scope=col>&lt;dbl&gt;</th><th scope=col>&lt;dbl&gt;</th><th scope=col>&lt;dbl&gt;</th><th scope=col>&lt;int&gt;</th></tr>\n",
       "</thead>\n",
       "<tbody>\n",
       "\t<tr><td>001004</td><td>2006</td><td>000361105</td><td>2007-05-31</td><td>1067.633</td><td>3.90</td><td>253.611</td><td>494.243</td><td> 645.721</td><td>256.506</td><td>13.0998</td><td>37.729</td><td>2</td></tr>\n",
       "\t<tr><td>001004</td><td>2006</td><td>000361105</td><td>NA</td><td>      NA</td><td>  NA</td><td>     NA</td><td>     NA</td><td>      NA</td><td>     NA</td><td>     NA</td><td>    NA</td><td>2</td></tr>\n",
       "\t<tr><td>001004</td><td>2010</td><td>000361105</td><td>2011-05-31</td><td>1703.727</td><td>6.10</td><td>329.802</td><td>835.845</td><td> 913.985</td><td>416.010</td><td>21.0112</td><td>39.781</td><td>2</td></tr>\n",
       "\t<tr><td>001004</td><td>2010</td><td>000361105</td><td>NA</td><td>      NA</td><td>  NA</td><td>     NA</td><td>     NA</td><td>      NA</td><td>     NA</td><td>     NA</td><td>    NA</td><td>2</td></tr>\n",
       "\t<tr><td>001004</td><td>2011</td><td>000361105</td><td>2012-05-31</td><td>2195.653</td><td>6.70</td><td>669.489</td><td>864.649</td><td>1063.272</td><td>473.226</td><td>21.4697</td><td>40.273</td><td>2</td></tr>\n",
       "\t<tr><td>001004</td><td>2011</td><td>000361105</td><td>NA</td><td>      NA</td><td>  NA</td><td>     NA</td><td>     NA</td><td>      NA</td><td>     NA</td><td>     NA</td><td>    NA</td><td>2</td></tr>\n",
       "\t<tr><td>001004</td><td>2013</td><td>000361105</td><td>2014-05-31</td><td>2199.500</td><td>5.80</td><td>564.300</td><td>999.500</td><td>1116.900</td><td>402.100</td><td>25.2654</td><td>39.560</td><td>2</td></tr>\n",
       "\t<tr><td>001004</td><td>2013</td><td>000361105</td><td>NA</td><td>2159.800</td><td>  NA</td><td>     NA</td><td>     NA</td><td>      NA</td><td>     NA</td><td>     NA</td><td>    NA</td><td>2</td></tr>\n",
       "\t<tr><td>001004</td><td>2014</td><td>000361105</td><td>2015-05-31</td><td>1515.000</td><td>4.85</td><td> 85.000</td><td>845.100</td><td> 954.100</td><td>412.000</td><td>23.8574</td><td>35.423</td><td>2</td></tr>\n",
       "\t<tr><td>001004</td><td>2014</td><td>000361105</td><td>NA</td><td>1454.100</td><td>  NA</td><td>     NA</td><td>     NA</td><td>      NA</td><td>     NA</td><td>     NA</td><td>    NA</td><td>2</td></tr>\n",
       "</tbody>\n",
       "</table>\n"
      ],
      "text/latex": [
       "A grouped\\_df: 10 × 13\n",
       "\\begin{tabular}{lllllllllllll}\n",
       " gvkey & fyear & cusip & apdedate & at & emp & dltt & ceq & act & lct & bkvlps & csho & n\\\\\n",
       " <chr> & <dbl> & <chr> & <date> & <dbl> & <dbl> & <dbl> & <dbl> & <dbl> & <dbl> & <dbl> & <dbl> & <int>\\\\\n",
       "\\hline\n",
       "\t 001004 & 2006 & 000361105 & 2007-05-31 & 1067.633 & 3.90 & 253.611 & 494.243 &  645.721 & 256.506 & 13.0998 & 37.729 & 2\\\\\n",
       "\t 001004 & 2006 & 000361105 & NA &       NA &   NA &      NA &      NA &       NA &      NA &      NA &     NA & 2\\\\\n",
       "\t 001004 & 2010 & 000361105 & 2011-05-31 & 1703.727 & 6.10 & 329.802 & 835.845 &  913.985 & 416.010 & 21.0112 & 39.781 & 2\\\\\n",
       "\t 001004 & 2010 & 000361105 & NA &       NA &   NA &      NA &      NA &       NA &      NA &      NA &     NA & 2\\\\\n",
       "\t 001004 & 2011 & 000361105 & 2012-05-31 & 2195.653 & 6.70 & 669.489 & 864.649 & 1063.272 & 473.226 & 21.4697 & 40.273 & 2\\\\\n",
       "\t 001004 & 2011 & 000361105 & NA &       NA &   NA &      NA &      NA &       NA &      NA &      NA &     NA & 2\\\\\n",
       "\t 001004 & 2013 & 000361105 & 2014-05-31 & 2199.500 & 5.80 & 564.300 & 999.500 & 1116.900 & 402.100 & 25.2654 & 39.560 & 2\\\\\n",
       "\t 001004 & 2013 & 000361105 & NA & 2159.800 &   NA &      NA &      NA &       NA &      NA &      NA &     NA & 2\\\\\n",
       "\t 001004 & 2014 & 000361105 & 2015-05-31 & 1515.000 & 4.85 &  85.000 & 845.100 &  954.100 & 412.000 & 23.8574 & 35.423 & 2\\\\\n",
       "\t 001004 & 2014 & 000361105 & NA & 1454.100 &   NA &      NA &      NA &       NA &      NA &      NA &     NA & 2\\\\\n",
       "\\end{tabular}\n"
      ],
      "text/markdown": [
       "\n",
       "A grouped_df: 10 × 13\n",
       "\n",
       "| gvkey &lt;chr&gt; | fyear &lt;dbl&gt; | cusip &lt;chr&gt; | apdedate &lt;date&gt; | at &lt;dbl&gt; | emp &lt;dbl&gt; | dltt &lt;dbl&gt; | ceq &lt;dbl&gt; | act &lt;dbl&gt; | lct &lt;dbl&gt; | bkvlps &lt;dbl&gt; | csho &lt;dbl&gt; | n &lt;int&gt; |\n",
       "|---|---|---|---|---|---|---|---|---|---|---|---|---|\n",
       "| 001004 | 2006 | 000361105 | 2007-05-31 | 1067.633 | 3.90 | 253.611 | 494.243 |  645.721 | 256.506 | 13.0998 | 37.729 | 2 |\n",
       "| 001004 | 2006 | 000361105 | NA |       NA |   NA |      NA |      NA |       NA |      NA |      NA |     NA | 2 |\n",
       "| 001004 | 2010 | 000361105 | 2011-05-31 | 1703.727 | 6.10 | 329.802 | 835.845 |  913.985 | 416.010 | 21.0112 | 39.781 | 2 |\n",
       "| 001004 | 2010 | 000361105 | NA |       NA |   NA |      NA |      NA |       NA |      NA |      NA |     NA | 2 |\n",
       "| 001004 | 2011 | 000361105 | 2012-05-31 | 2195.653 | 6.70 | 669.489 | 864.649 | 1063.272 | 473.226 | 21.4697 | 40.273 | 2 |\n",
       "| 001004 | 2011 | 000361105 | NA |       NA |   NA |      NA |      NA |       NA |      NA |      NA |     NA | 2 |\n",
       "| 001004 | 2013 | 000361105 | 2014-05-31 | 2199.500 | 5.80 | 564.300 | 999.500 | 1116.900 | 402.100 | 25.2654 | 39.560 | 2 |\n",
       "| 001004 | 2013 | 000361105 | NA | 2159.800 |   NA |      NA |      NA |       NA |      NA |      NA |     NA | 2 |\n",
       "| 001004 | 2014 | 000361105 | 2015-05-31 | 1515.000 | 4.85 |  85.000 | 845.100 |  954.100 | 412.000 | 23.8574 | 35.423 | 2 |\n",
       "| 001004 | 2014 | 000361105 | NA | 1454.100 |   NA |      NA |      NA |       NA |      NA |      NA |     NA | 2 |\n",
       "\n"
      ],
      "text/plain": [
       "   gvkey  fyear cusip     apdedate   at       emp  dltt    ceq     act     \n",
       "1  001004 2006  000361105 2007-05-31 1067.633 3.90 253.611 494.243  645.721\n",
       "2  001004 2006  000361105 <NA>             NA   NA      NA      NA       NA\n",
       "3  001004 2010  000361105 2011-05-31 1703.727 6.10 329.802 835.845  913.985\n",
       "4  001004 2010  000361105 <NA>             NA   NA      NA      NA       NA\n",
       "5  001004 2011  000361105 2012-05-31 2195.653 6.70 669.489 864.649 1063.272\n",
       "6  001004 2011  000361105 <NA>             NA   NA      NA      NA       NA\n",
       "7  001004 2013  000361105 2014-05-31 2199.500 5.80 564.300 999.500 1116.900\n",
       "8  001004 2013  000361105 <NA>       2159.800   NA      NA      NA       NA\n",
       "9  001004 2014  000361105 2015-05-31 1515.000 4.85  85.000 845.100  954.100\n",
       "10 001004 2014  000361105 <NA>       1454.100   NA      NA      NA       NA\n",
       "   lct     bkvlps  csho   n\n",
       "1  256.506 13.0998 37.729 2\n",
       "2       NA      NA     NA 2\n",
       "3  416.010 21.0112 39.781 2\n",
       "4       NA      NA     NA 2\n",
       "5  473.226 21.4697 40.273 2\n",
       "6       NA      NA     NA 2\n",
       "7  402.100 25.2654 39.560 2\n",
       "8       NA      NA     NA 2\n",
       "9  412.000 23.8574 35.423 2\n",
       "10      NA      NA     NA 2"
      ]
     },
     "metadata": {},
     "output_type": "display_data"
    }
   ],
   "source": [
    "compa %>%\n",
    "    group_by(cusip, fyear) %>%\n",
    "    mutate(n = n()) %>%\n",
    "    filter(n > 1) %>%\n",
    "    head(10)"
   ]
  },
  {
   "cell_type": "markdown",
   "metadata": {},
   "source": [
    "There is a weird thing going on here, where there are many almost empty observations that we can drop."
   ]
  },
  {
   "cell_type": "code",
   "execution_count": 29,
   "metadata": {
    "slideshow": {
     "slide_type": "subslide"
    }
   },
   "outputs": [
    {
     "data": {
      "text/html": [
       "<table>\n",
       "<caption>A grouped_df: 0 × 13</caption>\n",
       "<thead>\n",
       "\t<tr><th scope=col>gvkey</th><th scope=col>fyear</th><th scope=col>cusip</th><th scope=col>apdedate</th><th scope=col>at</th><th scope=col>emp</th><th scope=col>dltt</th><th scope=col>ceq</th><th scope=col>act</th><th scope=col>lct</th><th scope=col>bkvlps</th><th scope=col>csho</th><th scope=col>n</th></tr>\n",
       "\t<tr><th scope=col>&lt;chr&gt;</th><th scope=col>&lt;dbl&gt;</th><th scope=col>&lt;chr&gt;</th><th scope=col>&lt;date&gt;</th><th scope=col>&lt;dbl&gt;</th><th scope=col>&lt;dbl&gt;</th><th scope=col>&lt;dbl&gt;</th><th scope=col>&lt;dbl&gt;</th><th scope=col>&lt;dbl&gt;</th><th scope=col>&lt;dbl&gt;</th><th scope=col>&lt;dbl&gt;</th><th scope=col>&lt;dbl&gt;</th><th scope=col>&lt;int&gt;</th></tr>\n",
       "</thead>\n",
       "<tbody>\n",
       "</tbody>\n",
       "</table>\n"
      ],
      "text/latex": [
       "A grouped\\_df: 0 × 13\n",
       "\\begin{tabular}{lllllllllllll}\n",
       " gvkey & fyear & cusip & apdedate & at & emp & dltt & ceq & act & lct & bkvlps & csho & n\\\\\n",
       " <chr> & <dbl> & <chr> & <date> & <dbl> & <dbl> & <dbl> & <dbl> & <dbl> & <dbl> & <dbl> & <dbl> & <int>\\\\\n",
       "\\hline\n",
       "\\end{tabular}\n"
      ],
      "text/markdown": [
       "\n",
       "A grouped_df: 0 × 13\n",
       "\n",
       "| gvkey &lt;chr&gt; | fyear &lt;dbl&gt; | cusip &lt;chr&gt; | apdedate &lt;date&gt; | at &lt;dbl&gt; | emp &lt;dbl&gt; | dltt &lt;dbl&gt; | ceq &lt;dbl&gt; | act &lt;dbl&gt; | lct &lt;dbl&gt; | bkvlps &lt;dbl&gt; | csho &lt;dbl&gt; | n &lt;int&gt; |\n",
       "|---|---|---|---|---|---|---|---|---|---|---|---|---|\n",
       "\n"
      ],
      "text/plain": [
       "     gvkey fyear cusip apdedate at emp dltt ceq act lct bkvlps csho n"
      ]
     },
     "metadata": {},
     "output_type": "display_data"
    }
   ],
   "source": [
    "compa_cleaned <- read_feather(\"data/compa_cleaned.feather\")\n",
    "compa_cleaned %>%\n",
    "    group_by(gvkey, fyear) %>%\n",
    "    mutate(n = n()) %>%\n",
    "    filter(n > 1) %>%\n",
    "    arrange(desc(gvkey, fyear))"
   ]
  },
  {
   "cell_type": "markdown",
   "metadata": {},
   "source": [
    "That method allowed us to clean up compa."
   ]
  }
 ],
 "metadata": {
  "jupytext": {
   "formats": "ipynb,Rmd"
  },
  "kernelspec": {
   "display_name": "R 3.6.1",
   "language": "R",
   "name": "ir361"
  },
  "language_info": {
   "codemirror_mode": "r",
   "file_extension": ".r",
   "mimetype": "text/x-r-source",
   "name": "R",
   "pygments_lexer": "r",
   "version": "3.6.3"
  }
 },
 "nbformat": 4,
 "nbformat_minor": 4
}
