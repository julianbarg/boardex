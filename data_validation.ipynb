{
 "cells": [
  {
   "cell_type": "markdown",
   "metadata": {
    "slideshow": {
     "slide_type": "slide"
    }
   },
   "source": [
    "# Data validation"
   ]
  },
  {
   "cell_type": "markdown",
   "metadata": {
    "slideshow": {
     "slide_type": "subslide"
    }
   },
   "source": [
    "## Setup"
   ]
  },
  {
   "cell_type": "code",
   "execution_count": 1,
   "metadata": {},
   "outputs": [
    {
     "name": "stderr",
     "output_type": "stream",
     "text": [
      "── \u001b[1mAttaching packages\u001b[22m ─────────────────────────────────────── tidyverse 1.3.0 ──\n",
      "\n",
      "\u001b[32m✔\u001b[39m \u001b[34mggplot2\u001b[39m 3.3.2     \u001b[32m✔\u001b[39m \u001b[34mpurrr  \u001b[39m 0.3.4\n",
      "\u001b[32m✔\u001b[39m \u001b[34mtibble \u001b[39m 3.0.3     \u001b[32m✔\u001b[39m \u001b[34mdplyr  \u001b[39m 1.0.0\n",
      "\u001b[32m✔\u001b[39m \u001b[34mtidyr  \u001b[39m 1.1.0     \u001b[32m✔\u001b[39m \u001b[34mstringr\u001b[39m 1.4.0\n",
      "\u001b[32m✔\u001b[39m \u001b[34mreadr  \u001b[39m 1.3.1     \u001b[32m✔\u001b[39m \u001b[34mforcats\u001b[39m 0.5.0\n",
      "\n",
      "── \u001b[1mConflicts\u001b[22m ────────────────────────────────────────── tidyverse_conflicts() ──\n",
      "\u001b[31m✖\u001b[39m \u001b[34mdplyr\u001b[39m::\u001b[32mfilter()\u001b[39m masks \u001b[34mstats\u001b[39m::filter()\n",
      "\u001b[31m✖\u001b[39m \u001b[34mdplyr\u001b[39m::\u001b[32mlag()\u001b[39m    masks \u001b[34mstats\u001b[39m::lag()\n",
      "\n",
      "\n",
      "Attaching package: ‘arrow’\n",
      "\n",
      "\n",
      "The following object is masked from ‘package:readr’:\n",
      "\n",
      "    read_table\n",
      "\n",
      "\n",
      "The following object is masked from ‘package:utils’:\n",
      "\n",
      "    timestamp\n",
      "\n",
      "\n"
     ]
    }
   ],
   "source": [
    "library(tidyverse)\n",
    "library(arrow)"
   ]
  },
  {
   "cell_type": "code",
   "execution_count": 2,
   "metadata": {
    "slideshow": {
     "slide_type": "subslide"
    }
   },
   "outputs": [
    {
     "data": {
      "text/html": [
       "<table>\n",
       "<caption>A tibble: 6 × 13</caption>\n",
       "<thead>\n",
       "\t<tr><th scope=col>boardname</th><th scope=col>gender</th><th scope=col>boardid</th><th scope=col>directorid</th><th scope=col>timebrd</th><th scope=col>annualreportdate</th><th scope=col>totalcompensation</th><th scope=col>eqlinkremratio</th><th scope=col>isin</th><th scope=col>genderratio</th><th scope=col>nationalitymix</th><th scope=col>numberdirectors</th><th scope=col>cusip</th></tr>\n",
       "\t<tr><th scope=col>&lt;chr&gt;</th><th scope=col>&lt;chr&gt;</th><th scope=col>&lt;dbl&gt;</th><th scope=col>&lt;dbl&gt;</th><th scope=col>&lt;dbl&gt;</th><th scope=col>&lt;date&gt;</th><th scope=col>&lt;dbl&gt;</th><th scope=col>&lt;dbl&gt;</th><th scope=col>&lt;chr&gt;</th><th scope=col>&lt;dbl&gt;</th><th scope=col>&lt;dbl&gt;</th><th scope=col>&lt;dbl&gt;</th><th scope=col>&lt;chr&gt;</th></tr>\n",
       "</thead>\n",
       "<tbody>\n",
       "\t<tr><td>EQUITY ONE INC (De-listed 03/2017)                          </td><td>M</td><td>10925</td><td> 1</td><td>3.9</td><td>2014-12-01</td><td>NA</td><td>NA</td><td>US2947521009</td><td>0.778</td><td>0.4</td><td> 9</td><td>294752100</td></tr>\n",
       "\t<tr><td>EQUITY ONE INC (De-listed 03/2017)                          </td><td>M</td><td>10925</td><td> 1</td><td>2.9</td><td>2013-12-01</td><td>NA</td><td>NA</td><td>US2947521009</td><td>0.778</td><td>0.4</td><td> 9</td><td>294752100</td></tr>\n",
       "\t<tr><td>EQUITY ONE INC (De-listed 03/2017)                          </td><td>M</td><td>10925</td><td> 1</td><td>0.9</td><td>2011-12-01</td><td>NA</td><td>NA</td><td>US2947521009</td><td>0.900</td><td>0.4</td><td>10</td><td>294752100</td></tr>\n",
       "\t<tr><td>EQUITY ONE INC (De-listed 03/2017)                          </td><td>M</td><td>10925</td><td> 1</td><td>4.9</td><td>2015-12-01</td><td>NA</td><td>NA</td><td>US2947521009</td><td>0.778</td><td>0.4</td><td> 9</td><td>294752100</td></tr>\n",
       "\t<tr><td>EQUITY ONE INC (De-listed 03/2017)                          </td><td>M</td><td>10925</td><td> 1</td><td>1.9</td><td>2012-12-01</td><td>NA</td><td>NA</td><td>US2947521009</td><td>0.800</td><td>0.5</td><td>10</td><td>294752100</td></tr>\n",
       "\t<tr><td>NATIONAL MEDICAL HEALTH CARD SYSTEMS INC (De-listed 04/2008)</td><td>M</td><td>21616</td><td>16</td><td>1.5</td><td>2006-06-01</td><td>NA</td><td>NA</td><td>US6369183024</td><td>1.000</td><td>0.0</td><td>10</td><td>636918302</td></tr>\n",
       "</tbody>\n",
       "</table>\n"
      ],
      "text/latex": [
       "A tibble: 6 × 13\n",
       "\\begin{tabular}{lllllllllllll}\n",
       " boardname & gender & boardid & directorid & timebrd & annualreportdate & totalcompensation & eqlinkremratio & isin & genderratio & nationalitymix & numberdirectors & cusip\\\\\n",
       " <chr> & <chr> & <dbl> & <dbl> & <dbl> & <date> & <dbl> & <dbl> & <chr> & <dbl> & <dbl> & <dbl> & <chr>\\\\\n",
       "\\hline\n",
       "\t EQUITY ONE INC (De-listed 03/2017)                           & M & 10925 &  1 & 3.9 & 2014-12-01 & NA & NA & US2947521009 & 0.778 & 0.4 &  9 & 294752100\\\\\n",
       "\t EQUITY ONE INC (De-listed 03/2017)                           & M & 10925 &  1 & 2.9 & 2013-12-01 & NA & NA & US2947521009 & 0.778 & 0.4 &  9 & 294752100\\\\\n",
       "\t EQUITY ONE INC (De-listed 03/2017)                           & M & 10925 &  1 & 0.9 & 2011-12-01 & NA & NA & US2947521009 & 0.900 & 0.4 & 10 & 294752100\\\\\n",
       "\t EQUITY ONE INC (De-listed 03/2017)                           & M & 10925 &  1 & 4.9 & 2015-12-01 & NA & NA & US2947521009 & 0.778 & 0.4 &  9 & 294752100\\\\\n",
       "\t EQUITY ONE INC (De-listed 03/2017)                           & M & 10925 &  1 & 1.9 & 2012-12-01 & NA & NA & US2947521009 & 0.800 & 0.5 & 10 & 294752100\\\\\n",
       "\t NATIONAL MEDICAL HEALTH CARD SYSTEMS INC (De-listed 04/2008) & M & 21616 & 16 & 1.5 & 2006-06-01 & NA & NA & US6369183024 & 1.000 & 0.0 & 10 & 636918302\\\\\n",
       "\\end{tabular}\n"
      ],
      "text/markdown": [
       "\n",
       "A tibble: 6 × 13\n",
       "\n",
       "| boardname &lt;chr&gt; | gender &lt;chr&gt; | boardid &lt;dbl&gt; | directorid &lt;dbl&gt; | timebrd &lt;dbl&gt; | annualreportdate &lt;date&gt; | totalcompensation &lt;dbl&gt; | eqlinkremratio &lt;dbl&gt; | isin &lt;chr&gt; | genderratio &lt;dbl&gt; | nationalitymix &lt;dbl&gt; | numberdirectors &lt;dbl&gt; | cusip &lt;chr&gt; |\n",
       "|---|---|---|---|---|---|---|---|---|---|---|---|---|\n",
       "| EQUITY ONE INC (De-listed 03/2017)                           | M | 10925 |  1 | 3.9 | 2014-12-01 | NA | NA | US2947521009 | 0.778 | 0.4 |  9 | 294752100 |\n",
       "| EQUITY ONE INC (De-listed 03/2017)                           | M | 10925 |  1 | 2.9 | 2013-12-01 | NA | NA | US2947521009 | 0.778 | 0.4 |  9 | 294752100 |\n",
       "| EQUITY ONE INC (De-listed 03/2017)                           | M | 10925 |  1 | 0.9 | 2011-12-01 | NA | NA | US2947521009 | 0.900 | 0.4 | 10 | 294752100 |\n",
       "| EQUITY ONE INC (De-listed 03/2017)                           | M | 10925 |  1 | 4.9 | 2015-12-01 | NA | NA | US2947521009 | 0.778 | 0.4 |  9 | 294752100 |\n",
       "| EQUITY ONE INC (De-listed 03/2017)                           | M | 10925 |  1 | 1.9 | 2012-12-01 | NA | NA | US2947521009 | 0.800 | 0.5 | 10 | 294752100 |\n",
       "| NATIONAL MEDICAL HEALTH CARD SYSTEMS INC (De-listed 04/2008) | M | 21616 | 16 | 1.5 | 2006-06-01 | NA | NA | US6369183024 | 1.000 | 0.0 | 10 | 636918302 |\n",
       "\n"
      ],
      "text/plain": [
       "  boardname                                                    gender boardid\n",
       "1 EQUITY ONE INC (De-listed 03/2017)                           M      10925  \n",
       "2 EQUITY ONE INC (De-listed 03/2017)                           M      10925  \n",
       "3 EQUITY ONE INC (De-listed 03/2017)                           M      10925  \n",
       "4 EQUITY ONE INC (De-listed 03/2017)                           M      10925  \n",
       "5 EQUITY ONE INC (De-listed 03/2017)                           M      10925  \n",
       "6 NATIONAL MEDICAL HEALTH CARD SYSTEMS INC (De-listed 04/2008) M      21616  \n",
       "  directorid timebrd annualreportdate totalcompensation eqlinkremratio\n",
       "1  1         3.9     2014-12-01       NA                NA            \n",
       "2  1         2.9     2013-12-01       NA                NA            \n",
       "3  1         0.9     2011-12-01       NA                NA            \n",
       "4  1         4.9     2015-12-01       NA                NA            \n",
       "5  1         1.9     2012-12-01       NA                NA            \n",
       "6 16         1.5     2006-06-01       NA                NA            \n",
       "  isin         genderratio nationalitymix numberdirectors cusip    \n",
       "1 US2947521009 0.778       0.4             9              294752100\n",
       "2 US2947521009 0.778       0.4             9              294752100\n",
       "3 US2947521009 0.900       0.4            10              294752100\n",
       "4 US2947521009 0.778       0.4             9              294752100\n",
       "5 US2947521009 0.800       0.5            10              294752100\n",
       "6 US6369183024 1.000       0.0            10              636918302"
      ]
     },
     "metadata": {},
     "output_type": "display_data"
    }
   ],
   "source": [
    "na_summary <- read_feather(\"data/na_summary_preprocessed.feather\")\n",
    "na_summary_original <- read_feather(\"data/na_summary.feather\")\n",
    "\n",
    "head(na_summary)"
   ]
  },
  {
   "cell_type": "markdown",
   "metadata": {
    "slideshow": {
     "slide_type": "slide"
    }
   },
   "source": [
    "## Check BoardEx dataset"
   ]
  },
  {
   "cell_type": "markdown",
   "metadata": {
    "slideshow": {
     "slide_type": "subslide"
    }
   },
   "source": [
    "### Annual report inconsistencies"
   ]
  },
  {
   "cell_type": "code",
   "execution_count": 3,
   "metadata": {
    "slideshow": {
     "slide_type": "subslide"
    }
   },
   "outputs": [
    {
     "name": "stderr",
     "output_type": "stream",
     "text": [
      "`summarise()` regrouping output by 'isin' (override with `.groups` argument)\n",
      "\n"
     ]
    },
    {
     "data": {
      "text/html": [
       "<table>\n",
       "<caption>A grouped_df: 6 × 3</caption>\n",
       "<thead>\n",
       "\t<tr><th scope=col>isin</th><th scope=col>annualreportdate</th><th scope=col>n</th></tr>\n",
       "\t<tr><th scope=col>&lt;chr&gt;</th><th scope=col>&lt;date&gt;</th><th scope=col>&lt;int&gt;</th></tr>\n",
       "</thead>\n",
       "<tbody>\n",
       "\t<tr><td>US30224P2002</td><td>2013-12-01</td><td>2</td></tr>\n",
       "\t<tr><td>US30224P2002</td><td>2014-12-01</td><td>2</td></tr>\n",
       "\t<tr><td>US30224P2002</td><td>2015-12-01</td><td>2</td></tr>\n",
       "\t<tr><td>US30224P2002</td><td>2016-12-01</td><td>2</td></tr>\n",
       "\t<tr><td>US30224P2002</td><td>2017-12-01</td><td>2</td></tr>\n",
       "\t<tr><td>US30224P2002</td><td>2018-12-01</td><td>2</td></tr>\n",
       "</tbody>\n",
       "</table>\n"
      ],
      "text/latex": [
       "A grouped\\_df: 6 × 3\n",
       "\\begin{tabular}{lll}\n",
       " isin & annualreportdate & n\\\\\n",
       " <chr> & <date> & <int>\\\\\n",
       "\\hline\n",
       "\t US30224P2002 & 2013-12-01 & 2\\\\\n",
       "\t US30224P2002 & 2014-12-01 & 2\\\\\n",
       "\t US30224P2002 & 2015-12-01 & 2\\\\\n",
       "\t US30224P2002 & 2016-12-01 & 2\\\\\n",
       "\t US30224P2002 & 2017-12-01 & 2\\\\\n",
       "\t US30224P2002 & 2018-12-01 & 2\\\\\n",
       "\\end{tabular}\n"
      ],
      "text/markdown": [
       "\n",
       "A grouped_df: 6 × 3\n",
       "\n",
       "| isin &lt;chr&gt; | annualreportdate &lt;date&gt; | n &lt;int&gt; |\n",
       "|---|---|---|\n",
       "| US30224P2002 | 2013-12-01 | 2 |\n",
       "| US30224P2002 | 2014-12-01 | 2 |\n",
       "| US30224P2002 | 2015-12-01 | 2 |\n",
       "| US30224P2002 | 2016-12-01 | 2 |\n",
       "| US30224P2002 | 2017-12-01 | 2 |\n",
       "| US30224P2002 | 2018-12-01 | 2 |\n",
       "\n"
      ],
      "text/plain": [
       "  isin         annualreportdate n\n",
       "1 US30224P2002 2013-12-01       2\n",
       "2 US30224P2002 2014-12-01       2\n",
       "3 US30224P2002 2015-12-01       2\n",
       "4 US30224P2002 2016-12-01       2\n",
       "5 US30224P2002 2017-12-01       2\n",
       "6 US30224P2002 2018-12-01       2"
      ]
     },
     "metadata": {},
     "output_type": "display_data"
    }
   ],
   "source": [
    "na_summary %>%\n",
    "    select(isin, annualreportdate, boardid) %>%\n",
    "    group_by(isin, annualreportdate) %>%\n",
    "    summarize(n = n_distinct(boardid)) %>%\n",
    "    filter(n > 1)"
   ]
  },
  {
   "cell_type": "code",
   "execution_count": 4,
   "metadata": {
    "slideshow": {
     "slide_type": "subslide"
    }
   },
   "outputs": [
    {
     "data": {
      "text/html": [
       "<table>\n",
       "<caption>A tibble: 6 × 13</caption>\n",
       "<thead>\n",
       "\t<tr><th scope=col>isin</th><th scope=col>annualreportdate</th><th scope=col>boardid</th><th scope=col>boardname</th><th scope=col>gender</th><th scope=col>directorid</th><th scope=col>timebrd</th><th scope=col>totalcompensation</th><th scope=col>eqlinkremratio</th><th scope=col>genderratio</th><th scope=col>nationalitymix</th><th scope=col>numberdirectors</th><th scope=col>cusip</th></tr>\n",
       "\t<tr><th scope=col>&lt;chr&gt;</th><th scope=col>&lt;date&gt;</th><th scope=col>&lt;dbl&gt;</th><th scope=col>&lt;chr&gt;</th><th scope=col>&lt;chr&gt;</th><th scope=col>&lt;dbl&gt;</th><th scope=col>&lt;dbl&gt;</th><th scope=col>&lt;dbl&gt;</th><th scope=col>&lt;dbl&gt;</th><th scope=col>&lt;dbl&gt;</th><th scope=col>&lt;dbl&gt;</th><th scope=col>&lt;dbl&gt;</th><th scope=col>&lt;chr&gt;</th></tr>\n",
       "</thead>\n",
       "<tbody>\n",
       "\t<tr><td>US30224P2002</td><td>2013-12-01</td><td>2009179</td><td>ESH Hospitality Inc (ESH Hospitality LLC prior to 11/2013)</td><td>M</td><td> 36881</td><td>0.1</td><td>NA</td><td>NA</td><td>1</td><td>0</td><td>5</td><td>30224P200</td></tr>\n",
       "\t<tr><td>US30224P2002</td><td>2013-12-01</td><td>2009180</td><td>EXTENDED STAY AMERICA INC                                 </td><td>M</td><td> 36881</td><td>0.1</td><td>NA</td><td>NA</td><td>1</td><td>0</td><td>7</td><td>30224P200</td></tr>\n",
       "\t<tr><td>US30224P2002</td><td>2013-12-01</td><td>2009180</td><td>EXTENDED STAY AMERICA INC                                 </td><td>M</td><td> 90572</td><td>0.1</td><td>NA</td><td>NA</td><td>1</td><td>0</td><td>7</td><td>30224P200</td></tr>\n",
       "\t<tr><td>US30224P2002</td><td>2013-12-01</td><td>2009179</td><td>ESH Hospitality Inc (ESH Hospitality LLC prior to 11/2013)</td><td>M</td><td> 90572</td><td>0.1</td><td>NA</td><td>NA</td><td>1</td><td>0</td><td>5</td><td>30224P200</td></tr>\n",
       "\t<tr><td>US30224P2002</td><td>2013-12-01</td><td>2009180</td><td>EXTENDED STAY AMERICA INC                                 </td><td>M</td><td>203140</td><td>0.1</td><td>NA</td><td>NA</td><td>1</td><td>0</td><td>7</td><td>30224P200</td></tr>\n",
       "\t<tr><td>US30224P2002</td><td>2013-12-01</td><td>2009180</td><td>EXTENDED STAY AMERICA INC                                 </td><td>M</td><td>444845</td><td>0.1</td><td>NA</td><td>NA</td><td>1</td><td>0</td><td>7</td><td>30224P200</td></tr>\n",
       "</tbody>\n",
       "</table>\n"
      ],
      "text/latex": [
       "A tibble: 6 × 13\n",
       "\\begin{tabular}{lllllllllllll}\n",
       " isin & annualreportdate & boardid & boardname & gender & directorid & timebrd & totalcompensation & eqlinkremratio & genderratio & nationalitymix & numberdirectors & cusip\\\\\n",
       " <chr> & <date> & <dbl> & <chr> & <chr> & <dbl> & <dbl> & <dbl> & <dbl> & <dbl> & <dbl> & <dbl> & <chr>\\\\\n",
       "\\hline\n",
       "\t US30224P2002 & 2013-12-01 & 2009179 & ESH Hospitality Inc (ESH Hospitality LLC prior to 11/2013) & M &  36881 & 0.1 & NA & NA & 1 & 0 & 5 & 30224P200\\\\\n",
       "\t US30224P2002 & 2013-12-01 & 2009180 & EXTENDED STAY AMERICA INC                                  & M &  36881 & 0.1 & NA & NA & 1 & 0 & 7 & 30224P200\\\\\n",
       "\t US30224P2002 & 2013-12-01 & 2009180 & EXTENDED STAY AMERICA INC                                  & M &  90572 & 0.1 & NA & NA & 1 & 0 & 7 & 30224P200\\\\\n",
       "\t US30224P2002 & 2013-12-01 & 2009179 & ESH Hospitality Inc (ESH Hospitality LLC prior to 11/2013) & M &  90572 & 0.1 & NA & NA & 1 & 0 & 5 & 30224P200\\\\\n",
       "\t US30224P2002 & 2013-12-01 & 2009180 & EXTENDED STAY AMERICA INC                                  & M & 203140 & 0.1 & NA & NA & 1 & 0 & 7 & 30224P200\\\\\n",
       "\t US30224P2002 & 2013-12-01 & 2009180 & EXTENDED STAY AMERICA INC                                  & M & 444845 & 0.1 & NA & NA & 1 & 0 & 7 & 30224P200\\\\\n",
       "\\end{tabular}\n"
      ],
      "text/markdown": [
       "\n",
       "A tibble: 6 × 13\n",
       "\n",
       "| isin &lt;chr&gt; | annualreportdate &lt;date&gt; | boardid &lt;dbl&gt; | boardname &lt;chr&gt; | gender &lt;chr&gt; | directorid &lt;dbl&gt; | timebrd &lt;dbl&gt; | totalcompensation &lt;dbl&gt; | eqlinkremratio &lt;dbl&gt; | genderratio &lt;dbl&gt; | nationalitymix &lt;dbl&gt; | numberdirectors &lt;dbl&gt; | cusip &lt;chr&gt; |\n",
       "|---|---|---|---|---|---|---|---|---|---|---|---|---|\n",
       "| US30224P2002 | 2013-12-01 | 2009179 | ESH Hospitality Inc (ESH Hospitality LLC prior to 11/2013) | M |  36881 | 0.1 | NA | NA | 1 | 0 | 5 | 30224P200 |\n",
       "| US30224P2002 | 2013-12-01 | 2009180 | EXTENDED STAY AMERICA INC                                  | M |  36881 | 0.1 | NA | NA | 1 | 0 | 7 | 30224P200 |\n",
       "| US30224P2002 | 2013-12-01 | 2009180 | EXTENDED STAY AMERICA INC                                  | M |  90572 | 0.1 | NA | NA | 1 | 0 | 7 | 30224P200 |\n",
       "| US30224P2002 | 2013-12-01 | 2009179 | ESH Hospitality Inc (ESH Hospitality LLC prior to 11/2013) | M |  90572 | 0.1 | NA | NA | 1 | 0 | 5 | 30224P200 |\n",
       "| US30224P2002 | 2013-12-01 | 2009180 | EXTENDED STAY AMERICA INC                                  | M | 203140 | 0.1 | NA | NA | 1 | 0 | 7 | 30224P200 |\n",
       "| US30224P2002 | 2013-12-01 | 2009180 | EXTENDED STAY AMERICA INC                                  | M | 444845 | 0.1 | NA | NA | 1 | 0 | 7 | 30224P200 |\n",
       "\n"
      ],
      "text/plain": [
       "  isin         annualreportdate boardid\n",
       "1 US30224P2002 2013-12-01       2009179\n",
       "2 US30224P2002 2013-12-01       2009180\n",
       "3 US30224P2002 2013-12-01       2009180\n",
       "4 US30224P2002 2013-12-01       2009179\n",
       "5 US30224P2002 2013-12-01       2009180\n",
       "6 US30224P2002 2013-12-01       2009180\n",
       "  boardname                                                  gender directorid\n",
       "1 ESH Hospitality Inc (ESH Hospitality LLC prior to 11/2013) M       36881    \n",
       "2 EXTENDED STAY AMERICA INC                                  M       36881    \n",
       "3 EXTENDED STAY AMERICA INC                                  M       90572    \n",
       "4 ESH Hospitality Inc (ESH Hospitality LLC prior to 11/2013) M       90572    \n",
       "5 EXTENDED STAY AMERICA INC                                  M      203140    \n",
       "6 EXTENDED STAY AMERICA INC                                  M      444845    \n",
       "  timebrd totalcompensation eqlinkremratio genderratio nationalitymix\n",
       "1 0.1     NA                NA             1           0             \n",
       "2 0.1     NA                NA             1           0             \n",
       "3 0.1     NA                NA             1           0             \n",
       "4 0.1     NA                NA             1           0             \n",
       "5 0.1     NA                NA             1           0             \n",
       "6 0.1     NA                NA             1           0             \n",
       "  numberdirectors cusip    \n",
       "1 5               30224P200\n",
       "2 7               30224P200\n",
       "3 7               30224P200\n",
       "4 5               30224P200\n",
       "5 7               30224P200\n",
       "6 7               30224P200"
      ]
     },
     "metadata": {},
     "output_type": "display_data"
    }
   ],
   "source": [
    "na_summary %>%\n",
    "    filter(isin == \"US30224P2002\" & annualreportdate == \"2013-12-01\") %>%\n",
    "    select(isin, annualreportdate, boardid, everything()) %>%\n",
    "    head()"
   ]
  },
  {
   "cell_type": "markdown",
   "metadata": {},
   "source": [
    "Looks like there is something funky going on with this one observation. Let's drop it."
   ]
  },
  {
   "cell_type": "markdown",
   "metadata": {
    "slideshow": {
     "slide_type": "subslide"
    }
   },
   "source": [
    "Drop offending observation"
   ]
  },
  {
   "cell_type": "code",
   "execution_count": 5,
   "metadata": {},
   "outputs": [],
   "source": [
    "na_summary <- filter(na_summary,isin != \"US30224P2002\")"
   ]
  },
  {
   "cell_type": "markdown",
   "metadata": {
    "slideshow": {
     "slide_type": "subslide"
    }
   },
   "source": [
    "### Check other variables"
   ]
  },
  {
   "cell_type": "code",
   "execution_count": 6,
   "metadata": {},
   "outputs": [
    {
     "data": {
      "text/html": [
       "96734"
      ],
      "text/latex": [
       "96734"
      ],
      "text/markdown": [
       "96734"
      ],
      "text/plain": [
       "[1] 96734"
      ]
     },
     "metadata": {},
     "output_type": "display_data"
    },
    {
     "data": {
      "text/html": [
       "96734"
      ],
      "text/latex": [
       "96734"
      ],
      "text/markdown": [
       "96734"
      ],
      "text/plain": [
       "[1] 96734"
      ]
     },
     "metadata": {},
     "output_type": "display_data"
    }
   ],
   "source": [
    "na_summary %>%\n",
    "    select(isin, annualreportdate) %>%\n",
    "    n_distinct()\n",
    "\n",
    "na_summary %>%\n",
    "    select(isin, annualreportdate, boardid, numberdirectors, nationalitymix, genderratio) %>%\n",
    "    n_distinct()"
   ]
  },
  {
   "cell_type": "markdown",
   "metadata": {},
   "source": [
    "Looks good"
   ]
  },
  {
   "cell_type": "markdown",
   "metadata": {
    "slideshow": {
     "slide_type": "subslide"
    }
   },
   "source": [
    "### Check for duplicate observations with different data"
   ]
  },
  {
   "cell_type": "code",
   "execution_count": 7,
   "metadata": {},
   "outputs": [
    {
     "data": {
      "text/html": [
       "901104"
      ],
      "text/latex": [
       "901104"
      ],
      "text/markdown": [
       "901104"
      ],
      "text/plain": [
       "[1] 901104"
      ]
     },
     "metadata": {},
     "output_type": "display_data"
    }
   ],
   "source": [
    "nrow(unique(select(na_summary, annualreportdate, isin, directorid)))"
   ]
  },
  {
   "cell_type": "code",
   "execution_count": 8,
   "metadata": {},
   "outputs": [
    {
     "data": {
      "text/html": [
       "901198"
      ],
      "text/latex": [
       "901198"
      ],
      "text/markdown": [
       "901198"
      ],
      "text/plain": [
       "[1] 901198"
      ]
     },
     "metadata": {},
     "output_type": "display_data"
    }
   ],
   "source": [
    "nrow(unique(na_summary))"
   ]
  },
  {
   "cell_type": "markdown",
   "metadata": {},
   "source": [
    "There are 94 observations with divergences."
   ]
  },
  {
   "cell_type": "code",
   "execution_count": 9,
   "metadata": {
    "slideshow": {
     "slide_type": "subslide"
    }
   },
   "outputs": [
    {
     "data": {
      "text/html": [
       "188"
      ],
      "text/latex": [
       "188"
      ],
      "text/markdown": [
       "188"
      ],
      "text/plain": [
       "[1] 188"
      ]
     },
     "metadata": {},
     "output_type": "display_data"
    }
   ],
   "source": [
    "inconsistencies <- na_summary %>%\n",
    "    group_by(isin, annualreportdate, directorid) %>%\n",
    "    distinct() %>%\n",
    "    mutate(n = n()) %>%\n",
    "    filter(n > 1)\n",
    "\n",
    "nrow(inconsistencies)"
   ]
  },
  {
   "cell_type": "markdown",
   "metadata": {},
   "source": [
    "We have successfully identified all diverging duplicate observations."
   ]
  },
  {
   "cell_type": "code",
   "execution_count": 10,
   "metadata": {
    "slideshow": {
     "slide_type": "subslide"
    }
   },
   "outputs": [
    {
     "data": {
      "text/html": [
       "<table>\n",
       "<caption>A grouped_df: 6 × 14</caption>\n",
       "<thead>\n",
       "\t<tr><th scope=col>isin</th><th scope=col>annualreportdate</th><th scope=col>directorid</th><th scope=col>boardname</th><th scope=col>gender</th><th scope=col>boardid</th><th scope=col>timebrd</th><th scope=col>totalcompensation</th><th scope=col>eqlinkremratio</th><th scope=col>genderratio</th><th scope=col>nationalitymix</th><th scope=col>numberdirectors</th><th scope=col>cusip</th><th scope=col>n</th></tr>\n",
       "\t<tr><th scope=col>&lt;chr&gt;</th><th scope=col>&lt;date&gt;</th><th scope=col>&lt;dbl&gt;</th><th scope=col>&lt;chr&gt;</th><th scope=col>&lt;chr&gt;</th><th scope=col>&lt;dbl&gt;</th><th scope=col>&lt;dbl&gt;</th><th scope=col>&lt;dbl&gt;</th><th scope=col>&lt;dbl&gt;</th><th scope=col>&lt;dbl&gt;</th><th scope=col>&lt;dbl&gt;</th><th scope=col>&lt;dbl&gt;</th><th scope=col>&lt;chr&gt;</th><th scope=col>&lt;int&gt;</th></tr>\n",
       "</thead>\n",
       "<tbody>\n",
       "\t<tr><td>US9497461015</td><td>2000-12-01</td><td>11522</td><td><span style=white-space:pre-wrap>WELLS FARGO &amp; CO                                      </span></td><td>M</td><td>33264</td><td>19.9</td><td> 0</td><td><span style=white-space:pre-wrap>  NA</span></td><td>0.737</td><td>0.1</td><td>19</td><td>949746101</td><td>2</td></tr>\n",
       "\t<tr><td>US9497461015</td><td>2000-12-01</td><td>11522</td><td><span style=white-space:pre-wrap>WELLS FARGO &amp; CO                                      </span></td><td>M</td><td>33264</td><td>19.9</td><td>NA</td><td><span style=white-space:pre-wrap>  NA</span></td><td>0.737</td><td>0.1</td><td>19</td><td>949746101</td><td>2</td></tr>\n",
       "\t<tr><td>US36866W1062</td><td>2007-12-01</td><td>15177</td><td>GEMSTAR TV GUIDE INTERNATIONAL INC (De-listed 05/2008)</td><td>F</td><td>12961</td><td> 3.0</td><td>NA</td><td>  NA</td><td>0.778</td><td>0.0</td><td> 9</td><td>36866W106</td><td>2</td></tr>\n",
       "\t<tr><td>US36866W1062</td><td>2007-12-01</td><td>15177</td><td>GEMSTAR TV GUIDE INTERNATIONAL INC (De-listed 05/2008)</td><td>F</td><td>12961</td><td> 3.0</td><td> 0</td><td>  NA</td><td>0.778</td><td>0.0</td><td> 9</td><td>36866W106</td><td>2</td></tr>\n",
       "\t<tr><td>US00971T1016</td><td>2011-12-01</td><td>25015</td><td>AKAMAI TECHNOLOGIES INC                               </td><td>M</td><td> 1221</td><td>12.2</td><td>59</td><td>0.79</td><td>0.636</td><td>0.0</td><td>11</td><td>00971T101</td><td>2</td></tr>\n",
       "\t<tr><td>US00971T1016</td><td>2011-12-01</td><td>25015</td><td>AKAMAI TECHNOLOGIES INC                               </td><td>M</td><td> 1221</td><td>12.2</td><td>NA</td><td>  NA</td><td>0.636</td><td>0.0</td><td>11</td><td>00971T101</td><td>2</td></tr>\n",
       "</tbody>\n",
       "</table>\n"
      ],
      "text/latex": [
       "A grouped\\_df: 6 × 14\n",
       "\\begin{tabular}{llllllllllllll}\n",
       " isin & annualreportdate & directorid & boardname & gender & boardid & timebrd & totalcompensation & eqlinkremratio & genderratio & nationalitymix & numberdirectors & cusip & n\\\\\n",
       " <chr> & <date> & <dbl> & <chr> & <chr> & <dbl> & <dbl> & <dbl> & <dbl> & <dbl> & <dbl> & <dbl> & <chr> & <int>\\\\\n",
       "\\hline\n",
       "\t US9497461015 & 2000-12-01 & 11522 & WELLS FARGO \\& CO                                       & M & 33264 & 19.9 &  0 &   NA & 0.737 & 0.1 & 19 & 949746101 & 2\\\\\n",
       "\t US9497461015 & 2000-12-01 & 11522 & WELLS FARGO \\& CO                                       & M & 33264 & 19.9 & NA &   NA & 0.737 & 0.1 & 19 & 949746101 & 2\\\\\n",
       "\t US36866W1062 & 2007-12-01 & 15177 & GEMSTAR TV GUIDE INTERNATIONAL INC (De-listed 05/2008) & F & 12961 &  3.0 & NA &   NA & 0.778 & 0.0 &  9 & 36866W106 & 2\\\\\n",
       "\t US36866W1062 & 2007-12-01 & 15177 & GEMSTAR TV GUIDE INTERNATIONAL INC (De-listed 05/2008) & F & 12961 &  3.0 &  0 &   NA & 0.778 & 0.0 &  9 & 36866W106 & 2\\\\\n",
       "\t US00971T1016 & 2011-12-01 & 25015 & AKAMAI TECHNOLOGIES INC                                & M &  1221 & 12.2 & 59 & 0.79 & 0.636 & 0.0 & 11 & 00971T101 & 2\\\\\n",
       "\t US00971T1016 & 2011-12-01 & 25015 & AKAMAI TECHNOLOGIES INC                                & M &  1221 & 12.2 & NA &   NA & 0.636 & 0.0 & 11 & 00971T101 & 2\\\\\n",
       "\\end{tabular}\n"
      ],
      "text/markdown": [
       "\n",
       "A grouped_df: 6 × 14\n",
       "\n",
       "| isin &lt;chr&gt; | annualreportdate &lt;date&gt; | directorid &lt;dbl&gt; | boardname &lt;chr&gt; | gender &lt;chr&gt; | boardid &lt;dbl&gt; | timebrd &lt;dbl&gt; | totalcompensation &lt;dbl&gt; | eqlinkremratio &lt;dbl&gt; | genderratio &lt;dbl&gt; | nationalitymix &lt;dbl&gt; | numberdirectors &lt;dbl&gt; | cusip &lt;chr&gt; | n &lt;int&gt; |\n",
       "|---|---|---|---|---|---|---|---|---|---|---|---|---|---|\n",
       "| US9497461015 | 2000-12-01 | 11522 | WELLS FARGO &amp; CO                                       | M | 33264 | 19.9 |  0 |   NA | 0.737 | 0.1 | 19 | 949746101 | 2 |\n",
       "| US9497461015 | 2000-12-01 | 11522 | WELLS FARGO &amp; CO                                       | M | 33264 | 19.9 | NA |   NA | 0.737 | 0.1 | 19 | 949746101 | 2 |\n",
       "| US36866W1062 | 2007-12-01 | 15177 | GEMSTAR TV GUIDE INTERNATIONAL INC (De-listed 05/2008) | F | 12961 |  3.0 | NA |   NA | 0.778 | 0.0 |  9 | 36866W106 | 2 |\n",
       "| US36866W1062 | 2007-12-01 | 15177 | GEMSTAR TV GUIDE INTERNATIONAL INC (De-listed 05/2008) | F | 12961 |  3.0 |  0 |   NA | 0.778 | 0.0 |  9 | 36866W106 | 2 |\n",
       "| US00971T1016 | 2011-12-01 | 25015 | AKAMAI TECHNOLOGIES INC                                | M |  1221 | 12.2 | 59 | 0.79 | 0.636 | 0.0 | 11 | 00971T101 | 2 |\n",
       "| US00971T1016 | 2011-12-01 | 25015 | AKAMAI TECHNOLOGIES INC                                | M |  1221 | 12.2 | NA |   NA | 0.636 | 0.0 | 11 | 00971T101 | 2 |\n",
       "\n"
      ],
      "text/plain": [
       "  isin         annualreportdate directorid\n",
       "1 US9497461015 2000-12-01       11522     \n",
       "2 US9497461015 2000-12-01       11522     \n",
       "3 US36866W1062 2007-12-01       15177     \n",
       "4 US36866W1062 2007-12-01       15177     \n",
       "5 US00971T1016 2011-12-01       25015     \n",
       "6 US00971T1016 2011-12-01       25015     \n",
       "  boardname                                              gender boardid timebrd\n",
       "1 WELLS FARGO & CO                                       M      33264   19.9   \n",
       "2 WELLS FARGO & CO                                       M      33264   19.9   \n",
       "3 GEMSTAR TV GUIDE INTERNATIONAL INC (De-listed 05/2008) F      12961    3.0   \n",
       "4 GEMSTAR TV GUIDE INTERNATIONAL INC (De-listed 05/2008) F      12961    3.0   \n",
       "5 AKAMAI TECHNOLOGIES INC                                M       1221   12.2   \n",
       "6 AKAMAI TECHNOLOGIES INC                                M       1221   12.2   \n",
       "  totalcompensation eqlinkremratio genderratio nationalitymix numberdirectors\n",
       "1  0                  NA           0.737       0.1            19             \n",
       "2 NA                  NA           0.737       0.1            19             \n",
       "3 NA                  NA           0.778       0.0             9             \n",
       "4  0                  NA           0.778       0.0             9             \n",
       "5 59                0.79           0.636       0.0            11             \n",
       "6 NA                  NA           0.636       0.0            11             \n",
       "  cusip     n\n",
       "1 949746101 2\n",
       "2 949746101 2\n",
       "3 36866W106 2\n",
       "4 36866W106 2\n",
       "5 00971T101 2\n",
       "6 00971T101 2"
      ]
     },
     "metadata": {},
     "output_type": "display_data"
    }
   ],
   "source": [
    "head(select(inconsistencies, isin, annualreportdate, directorid, everything()))"
   ]
  },
  {
   "cell_type": "markdown",
   "metadata": {
    "slideshow": {
     "slide_type": "subslide"
    }
   },
   "source": [
    "Looks like the issue might be missing values. If we fill them in, we might be able to resolve this problem."
   ]
  },
  {
   "cell_type": "code",
   "execution_count": 11,
   "metadata": {},
   "outputs": [
    {
     "data": {
      "text/html": [
       "188"
      ],
      "text/latex": [
       "188"
      ],
      "text/markdown": [
       "188"
      ],
      "text/plain": [
       "[1] 188"
      ]
     },
     "metadata": {},
     "output_type": "display_data"
    }
   ],
   "source": [
    "# In theory, we should be able to just arrange by variables and have NAs at the end, but for some reason it's not quite working.\n",
    "inconsistencies$nas <- rowSums(is.na(inconsistencies))\n",
    "\n",
    "inconsistencies <- inconsistencies %>%\n",
    "    group_by(isin, annualreportdate, directorid) %>%\n",
    "    arrange(nas) %>%\n",
    "    fill(totalcompensation, eqlinkremratio) %>%\n",
    "    select(-c(n, nas))\n",
    "\n",
    "nrow(inconsistencies)"
   ]
  },
  {
   "cell_type": "code",
   "execution_count": 12,
   "metadata": {},
   "outputs": [
    {
     "data": {
      "text/html": [
       "100"
      ],
      "text/latex": [
       "100"
      ],
      "text/markdown": [
       "100"
      ],
      "text/plain": [
       "[1] 100"
      ]
     },
     "metadata": {},
     "output_type": "display_data"
    }
   ],
   "source": [
    "inconsistencies_remaining <- inconsistencies %>%\n",
    "    group_by(isin, annualreportdate, directorid) %>%\n",
    "    distinct() %>%\n",
    "    mutate(n = n()) %>%\n",
    "    filter(n > 1)\n",
    "nrow(inconsistencies_remaining)"
   ]
  },
  {
   "cell_type": "markdown",
   "metadata": {
    "slideshow": {
     "slide_type": "subslide"
    }
   },
   "source": [
    "This has resolved problems for 44 observations, but the remaining ones we cannot resolve. The problem is probably data that was later updated (e.g., NAs filled in), but because we do not have a date of update, we do not know which data is more recent."
   ]
  },
  {
   "cell_type": "markdown",
   "metadata": {
    "slideshow": {
     "slide_type": "subslide"
    }
   },
   "source": [
    "### Multiple annual reports in a year"
   ]
  },
  {
   "cell_type": "markdown",
   "metadata": {},
   "source": [
    "If there are multple annual reports in any year, the number of entries should be reduced when we extract only the year from the annual report date column."
   ]
  },
  {
   "cell_type": "code",
   "execution_count": 13,
   "metadata": {},
   "outputs": [
    {
     "data": {
      "text/html": [
       "96734"
      ],
      "text/latex": [
       "96734"
      ],
      "text/markdown": [
       "96734"
      ],
      "text/plain": [
       "[1] 96734"
      ]
     },
     "metadata": {},
     "output_type": "display_data"
    }
   ],
   "source": [
    "na_summary %>%\n",
    "    select(isin, annualreportdate) %>%\n",
    "    n_distinct()"
   ]
  },
  {
   "cell_type": "code",
   "execution_count": 14,
   "metadata": {},
   "outputs": [
    {
     "data": {
      "text/html": [
       "96099"
      ],
      "text/latex": [
       "96099"
      ],
      "text/markdown": [
       "96099"
      ],
      "text/plain": [
       "[1] 96099"
      ]
     },
     "metadata": {},
     "output_type": "display_data"
    }
   ],
   "source": [
    "na_summary %>%\n",
    "    mutate(year = lubridate::year(annualreportdate)) %>%\n",
    "    select(isin, year) %>%\n",
    "    n_distinct()"
   ]
  },
  {
   "cell_type": "markdown",
   "metadata": {},
   "source": [
    "There 635 instances of duplicate company-year observation, meaning 1270 observations to be removed."
   ]
  },
  {
   "cell_type": "markdown",
   "metadata": {
    "slideshow": {
     "slide_type": "subslide"
    }
   },
   "source": [
    "We could drop these, too."
   ]
  },
  {
   "cell_type": "code",
   "execution_count": 15,
   "metadata": {},
   "outputs": [],
   "source": [
    "# na_summary <- na_summary %>%\n",
    "#     mutate(year = lubridate::year(annualreportdate)) %>%\n",
    "#     group_by(companyid, year) %>%\n",
    "#     mutate(n = n_distinct(annualreportdate)) %>%\n",
    "#     filter(n == 1) %>%\n",
    "#     ungroup() %>%\n",
    "#     select(-year, - n)\n",
    "\n",
    "# n_distinct(select(na_summary, isin, annualreportdate))"
   ]
  },
  {
   "cell_type": "markdown",
   "metadata": {},
   "source": [
    "That would remove 1,270 observations."
   ]
  },
  {
   "cell_type": "markdown",
   "metadata": {
    "slideshow": {
     "slide_type": "subslide"
    }
   },
   "source": [
    "### Duplicate observations of directors"
   ]
  },
  {
   "cell_type": "code",
   "execution_count": 16,
   "metadata": {},
   "outputs": [
    {
     "name": "stderr",
     "output_type": "stream",
     "text": [
      "`summarise()` regrouping output by 'directorid', 'boardid' (override with `.groups` argument)\n",
      "\n"
     ]
    },
    {
     "data": {
      "text/plain": [
       "\n",
       "     1      2      3      4      5      6      8     10 \n",
       "757733  54322   6800   1762    679    452    157      1 "
      ]
     },
     "metadata": {},
     "output_type": "display_data"
    }
   ],
   "source": [
    "na_summary %>%\n",
    "    group_by(directorid, boardid, annualreportdate) %>%\n",
    "    summarize(n = n()) %>%\n",
    "    {table(.$n)}"
   ]
  },
  {
   "cell_type": "markdown",
   "metadata": {},
   "source": [
    "For some reasons, there are a lot of instances of duplicate observations for directors."
   ]
  },
  {
   "cell_type": "code",
   "execution_count": 17,
   "metadata": {
    "slideshow": {
     "slide_type": "subslide"
    }
   },
   "outputs": [
    {
     "data": {
      "text/html": [
       "<table>\n",
       "<caption>A grouped_df: 6 × 69</caption>\n",
       "<thead>\n",
       "\t<tr><th scope=col>directorid</th><th scope=col>annualreportdate</th><th scope=col>rowtype</th><th scope=col>boardname</th><th scope=col>ned</th><th scope=col>directorname</th><th scope=col>rolename</th><th scope=col>rolestatus</th><th scope=col>gender</th><th scope=col>nationality</th><th scope=col>⋯</th><th scope=col>numberdirectors</th><th scope=col>stdevtimebrd</th><th scope=col>stdevtimeinco</th><th scope=col>stdevtotnolstdbrd</th><th scope=col>stdevtotcurrnolstdbrd</th><th scope=col>stdevnoquals</th><th scope=col>stdevage</th><th scope=col>networksize</th><th scope=col>companyid</th><th scope=col>n</th></tr>\n",
       "\t<tr><th scope=col>&lt;dbl&gt;</th><th scope=col>&lt;date&gt;</th><th scope=col>&lt;chr&gt;</th><th scope=col>&lt;chr&gt;</th><th scope=col>&lt;chr&gt;</th><th scope=col>&lt;chr&gt;</th><th scope=col>&lt;chr&gt;</th><th scope=col>&lt;chr&gt;</th><th scope=col>&lt;chr&gt;</th><th scope=col>&lt;chr&gt;</th><th scope=col>⋯</th><th scope=col>&lt;dbl&gt;</th><th scope=col>&lt;dbl&gt;</th><th scope=col>&lt;dbl&gt;</th><th scope=col>&lt;dbl&gt;</th><th scope=col>&lt;dbl&gt;</th><th scope=col>&lt;dbl&gt;</th><th scope=col>&lt;dbl&gt;</th><th scope=col>&lt;dbl&gt;</th><th scope=col>&lt;dbl&gt;</th><th scope=col>&lt;int&gt;</th></tr>\n",
       "</thead>\n",
       "<tbody>\n",
       "\t<tr><td>33628</td><td>2013-12-01</td><td>Board Member    </td><td>LIBERTY MEDIA CORP</td><td>No</td><td>Greg Maffei</td><td>President/CEO</td><td>Greg Maffei joined this role on 14 Jan 2013</td><td>M</td><td>American</td><td>⋯</td><td>9</td><td>0</td><td>0</td><td>7.9</td><td>2.3</td><td>1.3</td><td>11.7</td><td>4646</td><td>1924862</td><td>16</td></tr>\n",
       "\t<tr><td>33628</td><td>2013-12-01</td><td>Board Member    </td><td>LIBERTY MEDIA CORP</td><td>No</td><td>Greg Maffei</td><td>President/CEO</td><td>Greg Maffei joined this role on 14 Jan 2013</td><td>M</td><td>American</td><td>⋯</td><td>9</td><td>0</td><td>0</td><td>7.9</td><td>2.3</td><td>1.3</td><td>11.7</td><td>4646</td><td>1924862</td><td>16</td></tr>\n",
       "\t<tr><td>33628</td><td>2013-12-01</td><td>Board Member    </td><td>LIBERTY MEDIA CORP</td><td>No</td><td>Greg Maffei</td><td>President/CEO</td><td>Greg Maffei joined this role on 14 Jan 2013</td><td>M</td><td>American</td><td>⋯</td><td>9</td><td>0</td><td>0</td><td>7.9</td><td>2.3</td><td>1.3</td><td>11.7</td><td>4646</td><td>1924862</td><td>16</td></tr>\n",
       "\t<tr><td>33628</td><td>2013-12-01</td><td>Disclosed Earner</td><td>LIBERTY MEDIA CORP</td><td>No</td><td>Greg Maffei</td><td>President/CEO</td><td>Greg Maffei joined this role on 14 Jan 2013</td><td>M</td><td>American</td><td>⋯</td><td>9</td><td>0</td><td>0</td><td>7.9</td><td>2.3</td><td>1.3</td><td>11.7</td><td>4646</td><td>1924862</td><td>16</td></tr>\n",
       "\t<tr><td>33628</td><td>2013-12-01</td><td>Board Member    </td><td>LIBERTY MEDIA CORP</td><td>No</td><td>Greg Maffei</td><td>President/CEO</td><td>Greg Maffei joined this role on 14 Jan 2013</td><td>M</td><td>American</td><td>⋯</td><td>9</td><td>0</td><td>0</td><td>7.9</td><td>2.3</td><td>1.3</td><td>11.7</td><td>4646</td><td>1924862</td><td>16</td></tr>\n",
       "\t<tr><td>33628</td><td>2013-12-01</td><td>Disclosed Earner</td><td>LIBERTY MEDIA CORP</td><td>No</td><td>Greg Maffei</td><td>President/CEO</td><td>Greg Maffei joined this role on 14 Jan 2013</td><td>M</td><td>American</td><td>⋯</td><td>9</td><td>0</td><td>0</td><td>7.9</td><td>2.3</td><td>1.3</td><td>11.7</td><td>4646</td><td>1924862</td><td>16</td></tr>\n",
       "</tbody>\n",
       "</table>\n"
      ],
      "text/latex": [
       "A grouped\\_df: 6 × 69\n",
       "\\begin{tabular}{lllllllllllllllllllll}\n",
       " directorid & annualreportdate & rowtype & boardname & ned & directorname & rolename & rolestatus & gender & nationality & ⋯ & numberdirectors & stdevtimebrd & stdevtimeinco & stdevtotnolstdbrd & stdevtotcurrnolstdbrd & stdevnoquals & stdevage & networksize & companyid & n\\\\\n",
       " <dbl> & <date> & <chr> & <chr> & <chr> & <chr> & <chr> & <chr> & <chr> & <chr> & ⋯ & <dbl> & <dbl> & <dbl> & <dbl> & <dbl> & <dbl> & <dbl> & <dbl> & <dbl> & <int>\\\\\n",
       "\\hline\n",
       "\t 33628 & 2013-12-01 & Board Member     & LIBERTY MEDIA CORP & No & Greg Maffei & President/CEO & Greg Maffei joined this role on 14 Jan 2013 & M & American & ⋯ & 9 & 0 & 0 & 7.9 & 2.3 & 1.3 & 11.7 & 4646 & 1924862 & 16\\\\\n",
       "\t 33628 & 2013-12-01 & Board Member     & LIBERTY MEDIA CORP & No & Greg Maffei & President/CEO & Greg Maffei joined this role on 14 Jan 2013 & M & American & ⋯ & 9 & 0 & 0 & 7.9 & 2.3 & 1.3 & 11.7 & 4646 & 1924862 & 16\\\\\n",
       "\t 33628 & 2013-12-01 & Board Member     & LIBERTY MEDIA CORP & No & Greg Maffei & President/CEO & Greg Maffei joined this role on 14 Jan 2013 & M & American & ⋯ & 9 & 0 & 0 & 7.9 & 2.3 & 1.3 & 11.7 & 4646 & 1924862 & 16\\\\\n",
       "\t 33628 & 2013-12-01 & Disclosed Earner & LIBERTY MEDIA CORP & No & Greg Maffei & President/CEO & Greg Maffei joined this role on 14 Jan 2013 & M & American & ⋯ & 9 & 0 & 0 & 7.9 & 2.3 & 1.3 & 11.7 & 4646 & 1924862 & 16\\\\\n",
       "\t 33628 & 2013-12-01 & Board Member     & LIBERTY MEDIA CORP & No & Greg Maffei & President/CEO & Greg Maffei joined this role on 14 Jan 2013 & M & American & ⋯ & 9 & 0 & 0 & 7.9 & 2.3 & 1.3 & 11.7 & 4646 & 1924862 & 16\\\\\n",
       "\t 33628 & 2013-12-01 & Disclosed Earner & LIBERTY MEDIA CORP & No & Greg Maffei & President/CEO & Greg Maffei joined this role on 14 Jan 2013 & M & American & ⋯ & 9 & 0 & 0 & 7.9 & 2.3 & 1.3 & 11.7 & 4646 & 1924862 & 16\\\\\n",
       "\\end{tabular}\n"
      ],
      "text/markdown": [
       "\n",
       "A grouped_df: 6 × 69\n",
       "\n",
       "| directorid &lt;dbl&gt; | annualreportdate &lt;date&gt; | rowtype &lt;chr&gt; | boardname &lt;chr&gt; | ned &lt;chr&gt; | directorname &lt;chr&gt; | rolename &lt;chr&gt; | rolestatus &lt;chr&gt; | gender &lt;chr&gt; | nationality &lt;chr&gt; | ⋯ ⋯ | numberdirectors &lt;dbl&gt; | stdevtimebrd &lt;dbl&gt; | stdevtimeinco &lt;dbl&gt; | stdevtotnolstdbrd &lt;dbl&gt; | stdevtotcurrnolstdbrd &lt;dbl&gt; | stdevnoquals &lt;dbl&gt; | stdevage &lt;dbl&gt; | networksize &lt;dbl&gt; | companyid &lt;dbl&gt; | n &lt;int&gt; |\n",
       "|---|---|---|---|---|---|---|---|---|---|---|---|---|---|---|---|---|---|---|---|---|\n",
       "| 33628 | 2013-12-01 | Board Member     | LIBERTY MEDIA CORP | No | Greg Maffei | President/CEO | Greg Maffei joined this role on 14 Jan 2013 | M | American | ⋯ | 9 | 0 | 0 | 7.9 | 2.3 | 1.3 | 11.7 | 4646 | 1924862 | 16 |\n",
       "| 33628 | 2013-12-01 | Board Member     | LIBERTY MEDIA CORP | No | Greg Maffei | President/CEO | Greg Maffei joined this role on 14 Jan 2013 | M | American | ⋯ | 9 | 0 | 0 | 7.9 | 2.3 | 1.3 | 11.7 | 4646 | 1924862 | 16 |\n",
       "| 33628 | 2013-12-01 | Board Member     | LIBERTY MEDIA CORP | No | Greg Maffei | President/CEO | Greg Maffei joined this role on 14 Jan 2013 | M | American | ⋯ | 9 | 0 | 0 | 7.9 | 2.3 | 1.3 | 11.7 | 4646 | 1924862 | 16 |\n",
       "| 33628 | 2013-12-01 | Disclosed Earner | LIBERTY MEDIA CORP | No | Greg Maffei | President/CEO | Greg Maffei joined this role on 14 Jan 2013 | M | American | ⋯ | 9 | 0 | 0 | 7.9 | 2.3 | 1.3 | 11.7 | 4646 | 1924862 | 16 |\n",
       "| 33628 | 2013-12-01 | Board Member     | LIBERTY MEDIA CORP | No | Greg Maffei | President/CEO | Greg Maffei joined this role on 14 Jan 2013 | M | American | ⋯ | 9 | 0 | 0 | 7.9 | 2.3 | 1.3 | 11.7 | 4646 | 1924862 | 16 |\n",
       "| 33628 | 2013-12-01 | Disclosed Earner | LIBERTY MEDIA CORP | No | Greg Maffei | President/CEO | Greg Maffei joined this role on 14 Jan 2013 | M | American | ⋯ | 9 | 0 | 0 | 7.9 | 2.3 | 1.3 | 11.7 | 4646 | 1924862 | 16 |\n",
       "\n"
      ],
      "text/plain": [
       "  directorid annualreportdate rowtype          boardname          ned\n",
       "1 33628      2013-12-01       Board Member     LIBERTY MEDIA CORP No \n",
       "2 33628      2013-12-01       Board Member     LIBERTY MEDIA CORP No \n",
       "3 33628      2013-12-01       Board Member     LIBERTY MEDIA CORP No \n",
       "4 33628      2013-12-01       Disclosed Earner LIBERTY MEDIA CORP No \n",
       "5 33628      2013-12-01       Board Member     LIBERTY MEDIA CORP No \n",
       "6 33628      2013-12-01       Disclosed Earner LIBERTY MEDIA CORP No \n",
       "  directorname rolename      rolestatus                                  gender\n",
       "1 Greg Maffei  President/CEO Greg Maffei joined this role on 14 Jan 2013 M     \n",
       "2 Greg Maffei  President/CEO Greg Maffei joined this role on 14 Jan 2013 M     \n",
       "3 Greg Maffei  President/CEO Greg Maffei joined this role on 14 Jan 2013 M     \n",
       "4 Greg Maffei  President/CEO Greg Maffei joined this role on 14 Jan 2013 M     \n",
       "5 Greg Maffei  President/CEO Greg Maffei joined this role on 14 Jan 2013 M     \n",
       "6 Greg Maffei  President/CEO Greg Maffei joined this role on 14 Jan 2013 M     \n",
       "  nationality ⋯ numberdirectors stdevtimebrd stdevtimeinco stdevtotnolstdbrd\n",
       "1 American    ⋯ 9               0            0             7.9              \n",
       "2 American    ⋯ 9               0            0             7.9              \n",
       "3 American    ⋯ 9               0            0             7.9              \n",
       "4 American    ⋯ 9               0            0             7.9              \n",
       "5 American    ⋯ 9               0            0             7.9              \n",
       "6 American    ⋯ 9               0            0             7.9              \n",
       "  stdevtotcurrnolstdbrd stdevnoquals stdevage networksize companyid n \n",
       "1 2.3                   1.3          11.7     4646        1924862   16\n",
       "2 2.3                   1.3          11.7     4646        1924862   16\n",
       "3 2.3                   1.3          11.7     4646        1924862   16\n",
       "4 2.3                   1.3          11.7     4646        1924862   16\n",
       "5 2.3                   1.3          11.7     4646        1924862   16\n",
       "6 2.3                   1.3          11.7     4646        1924862   16"
      ]
     },
     "metadata": {},
     "output_type": "display_data"
    }
   ],
   "source": [
    "na_summary_original %>%\n",
    "    group_by(directorid, boardid, annualreportdate) %>%\n",
    "    mutate(n = n()) %>%\n",
    "    arrange(desc(n), annualreportdate) %>%\n",
    "    select(directorid, annualreportdate, everything()) %>%\n",
    "    head()"
   ]
  },
  {
   "cell_type": "markdown",
   "metadata": {
    "slideshow": {
     "slide_type": "subslide"
    }
   },
   "source": [
    "At least in this case, it seems that the entries are just duplicates. Some of the duplicates seem to be the same person taking different roles."
   ]
  },
  {
   "cell_type": "markdown",
   "metadata": {
    "slideshow": {
     "slide_type": "slide"
    }
   },
   "source": [
    "### Validate other columns"
   ]
  },
  {
   "cell_type": "markdown",
   "metadata": {
    "slideshow": {
     "slide_type": "subslide"
    }
   },
   "source": [
    "#### Gender variable"
   ]
  },
  {
   "cell_type": "code",
   "execution_count": 18,
   "metadata": {},
   "outputs": [
    {
     "data": {
      "text/plain": [
       "\n",
       "     F      M \n",
       " 98309 802889 "
      ]
     },
     "metadata": {},
     "output_type": "display_data"
    }
   ],
   "source": [
    "table(na_summary$gender) "
   ]
  },
  {
   "cell_type": "markdown",
   "metadata": {},
   "source": [
    "The data does not contain any values other than F and M."
   ]
  },
  {
   "cell_type": "code",
   "execution_count": 19,
   "metadata": {
    "slideshow": {
     "slide_type": "subslide"
    }
   },
   "outputs": [
    {
     "name": "stderr",
     "output_type": "stream",
     "text": [
      "`summarise()` ungrouping output (override with `.groups` argument)\n",
      "\n"
     ]
    },
    {
     "data": {
      "text/html": [
       "<table>\n",
       "<caption>A tibble: 3 × 2</caption>\n",
       "<thead>\n",
       "\t<tr><th scope=col>directorid</th><th scope=col>n</th></tr>\n",
       "\t<tr><th scope=col>&lt;dbl&gt;</th><th scope=col>&lt;int&gt;</th></tr>\n",
       "</thead>\n",
       "<tbody>\n",
       "\t<tr><td> 1</td><td>1</td></tr>\n",
       "\t<tr><td>16</td><td>1</td></tr>\n",
       "\t<tr><td>27</td><td>1</td></tr>\n",
       "</tbody>\n",
       "</table>\n"
      ],
      "text/latex": [
       "A tibble: 3 × 2\n",
       "\\begin{tabular}{ll}\n",
       " directorid & n\\\\\n",
       " <dbl> & <int>\\\\\n",
       "\\hline\n",
       "\t  1 & 1\\\\\n",
       "\t 16 & 1\\\\\n",
       "\t 27 & 1\\\\\n",
       "\\end{tabular}\n"
      ],
      "text/markdown": [
       "\n",
       "A tibble: 3 × 2\n",
       "\n",
       "| directorid &lt;dbl&gt; | n &lt;int&gt; |\n",
       "|---|---|\n",
       "|  1 | 1 |\n",
       "| 16 | 1 |\n",
       "| 27 | 1 |\n",
       "\n"
      ],
      "text/plain": [
       "  directorid n\n",
       "1  1         1\n",
       "2 16         1\n",
       "3 27         1"
      ]
     },
     "metadata": {},
     "output_type": "display_data"
    }
   ],
   "source": [
    "na_summary %>%\n",
    "    group_by(directorid) %>%\n",
    "    summarize(n = n_distinct(gender)) %>%\n",
    "    arrange(desc(n)) %>%\n",
    "    head(3)"
   ]
  },
  {
   "cell_type": "markdown",
   "metadata": {},
   "source": [
    "All directors have the same gender across all reports, that's also good to know."
   ]
  },
  {
   "cell_type": "markdown",
   "metadata": {
    "slideshow": {
     "slide_type": "subslide"
    }
   },
   "source": [
    "#### boardid vs companyid"
   ]
  },
  {
   "cell_type": "code",
   "execution_count": 20,
   "metadata": {},
   "outputs": [
    {
     "data": {
      "text/plain": [
       "\n",
       "   TRUE \n",
       "1322206 "
      ]
     },
     "metadata": {},
     "output_type": "display_data"
    }
   ],
   "source": [
    "table(na_summary_original$boardid == na_summary_original$companyid)"
   ]
  },
  {
   "cell_type": "markdown",
   "metadata": {},
   "source": [
    "Interesting"
   ]
  },
  {
   "cell_type": "markdown",
   "metadata": {
    "slideshow": {
     "slide_type": "subslide"
    }
   },
   "source": [
    "#### Validate cusip and ISIN"
   ]
  },
  {
   "cell_type": "markdown",
   "metadata": {},
   "source": [
    "Length for ISIN should always be 12: country code + cusip + check digit."
   ]
  },
  {
   "cell_type": "code",
   "execution_count": 21,
   "metadata": {},
   "outputs": [
    {
     "data": {
      "text/plain": [
       "\n",
       "    12 \n",
       "901198 "
      ]
     },
     "metadata": {},
     "output_type": "display_data"
    }
   ],
   "source": [
    "table(nchar(na_summary$isin))"
   ]
  },
  {
   "cell_type": "markdown",
   "metadata": {},
   "source": [
    "That's good."
   ]
  },
  {
   "cell_type": "markdown",
   "metadata": {
    "slideshow": {
     "slide_type": "subslide"
    }
   },
   "source": [
    "Make sure that compa always provides 9 char cusip."
   ]
  },
  {
   "cell_type": "code",
   "execution_count": 22,
   "metadata": {},
   "outputs": [],
   "source": [
    "compa_cusip <- read_feather(\"data/compa.feather\")$cusip\n",
    "invisible(gc())"
   ]
  },
  {
   "cell_type": "code",
   "execution_count": 23,
   "metadata": {},
   "outputs": [
    {
     "data": {
      "text/plain": [
       "\n",
       "     9 \n",
       "803402 "
      ]
     },
     "metadata": {},
     "output_type": "display_data"
    }
   ],
   "source": [
    "table(nchar(compa_cusip))"
   ]
  },
  {
   "cell_type": "markdown",
   "metadata": {
    "slideshow": {
     "slide_type": "subslide"
    }
   },
   "source": [
    "See how great the overlap is between the two."
   ]
  },
  {
   "cell_type": "code",
   "execution_count": 24,
   "metadata": {},
   "outputs": [
    {
     "data": {
      "text/plain": [
       "\n",
       " FALSE   TRUE \n",
       "137040 764158 "
      ]
     },
     "metadata": {},
     "output_type": "display_data"
    }
   ],
   "source": [
    "table(stringr::str_sub(na_summary$isin, 3, 11) %in% compa_cusip)"
   ]
  },
  {
   "cell_type": "markdown",
   "metadata": {},
   "source": [
    "That's a pretty good coverage."
   ]
  }
 ],
 "metadata": {
  "jupytext": {
   "formats": "ipynb,Rmd"
  },
  "kernelspec": {
   "display_name": "R 3.6.1",
   "language": "R",
   "name": "ir361"
  },
  "language_info": {
   "codemirror_mode": "r",
   "file_extension": ".r",
   "mimetype": "text/x-r-source",
   "name": "R",
   "pygments_lexer": "r",
   "version": "3.6.3"
  }
 },
 "nbformat": 4,
 "nbformat_minor": 4
}
