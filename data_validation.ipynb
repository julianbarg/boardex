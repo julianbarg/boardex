{
 "cells": [
  {
   "cell_type": "markdown",
   "metadata": {
    "slideshow": {
     "slide_type": "slide"
    }
   },
   "source": [
    "# Data validation"
   ]
  },
  {
   "cell_type": "markdown",
   "metadata": {
    "slideshow": {
     "slide_type": "subslide"
    }
   },
   "source": [
    "## Setup"
   ]
  },
  {
   "cell_type": "code",
   "execution_count": 1,
   "metadata": {},
   "outputs": [
    {
     "name": "stderr",
     "output_type": "stream",
     "text": [
      "── \u001b[1mAttaching packages\u001b[22m ─────────────────────────────────────────────────────────────── tidyverse 1.3.0 ──\n",
      "\n",
      "\u001b[32m✓\u001b[39m \u001b[34mggplot2\u001b[39m 3.3.2     \u001b[32m✓\u001b[39m \u001b[34mpurrr  \u001b[39m 0.3.4\n",
      "\u001b[32m✓\u001b[39m \u001b[34mtibble \u001b[39m 3.0.3     \u001b[32m✓\u001b[39m \u001b[34mdplyr  \u001b[39m 1.0.0\n",
      "\u001b[32m✓\u001b[39m \u001b[34mtidyr  \u001b[39m 1.1.0     \u001b[32m✓\u001b[39m \u001b[34mstringr\u001b[39m 1.4.0\n",
      "\u001b[32m✓\u001b[39m \u001b[34mreadr  \u001b[39m 1.3.1     \u001b[32m✓\u001b[39m \u001b[34mforcats\u001b[39m 0.5.0\n",
      "\n",
      "── \u001b[1mConflicts\u001b[22m ────────────────────────────────────────────────────────────────── tidyverse_conflicts() ──\n",
      "\u001b[31mx\u001b[39m \u001b[34mdplyr\u001b[39m::\u001b[32mfilter()\u001b[39m masks \u001b[34mstats\u001b[39m::filter()\n",
      "\u001b[31mx\u001b[39m \u001b[34mdplyr\u001b[39m::\u001b[32mlag()\u001b[39m    masks \u001b[34mstats\u001b[39m::lag()\n",
      "\n"
     ]
    }
   ],
   "source": [
    "library(tidyverse)"
   ]
  },
  {
   "cell_type": "code",
   "execution_count": 2,
   "metadata": {
    "slideshow": {
     "slide_type": "subslide"
    }
   },
   "outputs": [
    {
     "data": {
      "text/html": [
       "<table>\n",
       "<caption>A tibble: 6 × 68</caption>\n",
       "<thead>\n",
       "\t<tr><th scope=col>rowtype</th><th scope=col>boardname</th><th scope=col>ned</th><th scope=col>directorname</th><th scope=col>rolename</th><th scope=col>rolestatus</th><th scope=col>gender</th><th scope=col>nationality</th><th scope=col>boardid</th><th scope=col>clientcompanyid</th><th scope=col>⋯</th><th scope=col>nationalitymix</th><th scope=col>numberdirectors</th><th scope=col>stdevtimebrd</th><th scope=col>stdevtimeinco</th><th scope=col>stdevtotnolstdbrd</th><th scope=col>stdevtotcurrnolstdbrd</th><th scope=col>stdevnoquals</th><th scope=col>stdevage</th><th scope=col>networksize</th><th scope=col>companyid</th></tr>\n",
       "\t<tr><th scope=col>&lt;chr&gt;</th><th scope=col>&lt;chr&gt;</th><th scope=col>&lt;chr&gt;</th><th scope=col>&lt;chr&gt;</th><th scope=col>&lt;chr&gt;</th><th scope=col>&lt;chr&gt;</th><th scope=col>&lt;chr&gt;</th><th scope=col>&lt;chr&gt;</th><th scope=col>&lt;dbl&gt;</th><th scope=col>&lt;???&gt;</th><th scope=col>⋯</th><th scope=col>&lt;dbl&gt;</th><th scope=col>&lt;dbl&gt;</th><th scope=col>&lt;dbl&gt;</th><th scope=col>&lt;dbl&gt;</th><th scope=col>&lt;dbl&gt;</th><th scope=col>&lt;dbl&gt;</th><th scope=col>&lt;dbl&gt;</th><th scope=col>&lt;dbl&gt;</th><th scope=col>&lt;dbl&gt;</th><th scope=col>&lt;dbl&gt;</th></tr>\n",
       "</thead>\n",
       "<tbody>\n",
       "\t<tr><td>Board Member</td><td>EQUITY ONE INC (De-listed 03/2017)                          </td><td>Yes</td><td>David Fischel</td><td>Independent Director</td><td>David Fischel joined this role on 04 Jan 2011</td><td>M</td><td>British </td><td>10925</td><td>NA</td><td>⋯</td><td>0.4</td><td> 9</td><td>7.1</td><td>7.1</td><td>3.1</td><td>1.3</td><td>1.5</td><td>8.5</td><td>6092</td><td>10925</td></tr>\n",
       "\t<tr><td>Board Member</td><td>EQUITY ONE INC (De-listed 03/2017)                          </td><td>Yes</td><td>David Fischel</td><td>Independent Director</td><td>David Fischel joined this role on 04 Jan 2011</td><td>M</td><td>British </td><td>10925</td><td>NA</td><td>⋯</td><td>0.4</td><td> 9</td><td>5.8</td><td>5.8</td><td>3.2</td><td>1.2</td><td>1.2</td><td>7.7</td><td>6092</td><td>10925</td></tr>\n",
       "\t<tr><td>Board Member</td><td>EQUITY ONE INC (De-listed 03/2017)                          </td><td>Yes</td><td>David Fischel</td><td>Independent Director</td><td>David Fischel joined this role on 04 Jan 2011</td><td>M</td><td>British </td><td>10925</td><td>NA</td><td>⋯</td><td>0.4</td><td>10</td><td>5.3</td><td>5.3</td><td>3.0</td><td>1.8</td><td>1.1</td><td>6.9</td><td>6092</td><td>10925</td></tr>\n",
       "\t<tr><td>Board Member</td><td>EQUITY ONE INC (De-listed 03/2017)                          </td><td>Yes</td><td>David Fischel</td><td>Independent Director</td><td>David Fischel joined this role on 04 Jan 2011</td><td>M</td><td>British </td><td>10925</td><td>NA</td><td>⋯</td><td>0.4</td><td> 9</td><td>7.1</td><td>7.1</td><td>3.1</td><td>1.4</td><td>1.5</td><td>8.5</td><td>6092</td><td>10925</td></tr>\n",
       "\t<tr><td>Board Member</td><td>EQUITY ONE INC (De-listed 03/2017)                          </td><td>Yes</td><td>David Fischel</td><td>Independent Director</td><td>David Fischel joined this role on 04 Jan 2011</td><td>M</td><td>British </td><td>10925</td><td>NA</td><td>⋯</td><td>0.5</td><td>10</td><td>5.6</td><td>5.6</td><td>3.1</td><td>1.5</td><td>1.1</td><td>7.3</td><td>6092</td><td>10925</td></tr>\n",
       "\t<tr><td>Board Member</td><td>NATIONAL MEDICAL HEALTH CARD SYSTEMS INC (De-listed 04/2008)</td><td>Yes</td><td>David Shaw   </td><td>Director - SD       </td><td>David Shaw joined this role on 08 Dec 2004   </td><td>M</td><td>American</td><td>21616</td><td>NA</td><td>⋯</td><td>0.0</td><td>10</td><td>2.2</td><td>2.1</td><td>1.4</td><td>0.7</td><td>0.8</td><td>9.4</td><td>4321</td><td>21616</td></tr>\n",
       "</tbody>\n",
       "</table>\n"
      ],
      "text/latex": [
       "A tibble: 6 × 68\n",
       "\\begin{tabular}{lllllllllllllllllllll}\n",
       " rowtype & boardname & ned & directorname & rolename & rolestatus & gender & nationality & boardid & clientcompanyid & ⋯ & nationalitymix & numberdirectors & stdevtimebrd & stdevtimeinco & stdevtotnolstdbrd & stdevtotcurrnolstdbrd & stdevnoquals & stdevage & networksize & companyid\\\\\n",
       " <chr> & <chr> & <chr> & <chr> & <chr> & <chr> & <chr> & <chr> & <dbl> & <???> & ⋯ & <dbl> & <dbl> & <dbl> & <dbl> & <dbl> & <dbl> & <dbl> & <dbl> & <dbl> & <dbl>\\\\\n",
       "\\hline\n",
       "\t Board Member & EQUITY ONE INC (De-listed 03/2017)                           & Yes & David Fischel & Independent Director & David Fischel joined this role on 04 Jan 2011 & M & British  & 10925 & NA & ⋯ & 0.4 &  9 & 7.1 & 7.1 & 3.1 & 1.3 & 1.5 & 8.5 & 6092 & 10925\\\\\n",
       "\t Board Member & EQUITY ONE INC (De-listed 03/2017)                           & Yes & David Fischel & Independent Director & David Fischel joined this role on 04 Jan 2011 & M & British  & 10925 & NA & ⋯ & 0.4 &  9 & 5.8 & 5.8 & 3.2 & 1.2 & 1.2 & 7.7 & 6092 & 10925\\\\\n",
       "\t Board Member & EQUITY ONE INC (De-listed 03/2017)                           & Yes & David Fischel & Independent Director & David Fischel joined this role on 04 Jan 2011 & M & British  & 10925 & NA & ⋯ & 0.4 & 10 & 5.3 & 5.3 & 3.0 & 1.8 & 1.1 & 6.9 & 6092 & 10925\\\\\n",
       "\t Board Member & EQUITY ONE INC (De-listed 03/2017)                           & Yes & David Fischel & Independent Director & David Fischel joined this role on 04 Jan 2011 & M & British  & 10925 & NA & ⋯ & 0.4 &  9 & 7.1 & 7.1 & 3.1 & 1.4 & 1.5 & 8.5 & 6092 & 10925\\\\\n",
       "\t Board Member & EQUITY ONE INC (De-listed 03/2017)                           & Yes & David Fischel & Independent Director & David Fischel joined this role on 04 Jan 2011 & M & British  & 10925 & NA & ⋯ & 0.5 & 10 & 5.6 & 5.6 & 3.1 & 1.5 & 1.1 & 7.3 & 6092 & 10925\\\\\n",
       "\t Board Member & NATIONAL MEDICAL HEALTH CARD SYSTEMS INC (De-listed 04/2008) & Yes & David Shaw    & Director - SD        & David Shaw joined this role on 08 Dec 2004    & M & American & 21616 & NA & ⋯ & 0.0 & 10 & 2.2 & 2.1 & 1.4 & 0.7 & 0.8 & 9.4 & 4321 & 21616\\\\\n",
       "\\end{tabular}\n"
      ],
      "text/markdown": [
       "\n",
       "A tibble: 6 × 68\n",
       "\n",
       "| rowtype &lt;chr&gt; | boardname &lt;chr&gt; | ned &lt;chr&gt; | directorname &lt;chr&gt; | rolename &lt;chr&gt; | rolestatus &lt;chr&gt; | gender &lt;chr&gt; | nationality &lt;chr&gt; | boardid &lt;dbl&gt; | clientcompanyid &lt;???&gt; | ⋯ ⋯ | nationalitymix &lt;dbl&gt; | numberdirectors &lt;dbl&gt; | stdevtimebrd &lt;dbl&gt; | stdevtimeinco &lt;dbl&gt; | stdevtotnolstdbrd &lt;dbl&gt; | stdevtotcurrnolstdbrd &lt;dbl&gt; | stdevnoquals &lt;dbl&gt; | stdevage &lt;dbl&gt; | networksize &lt;dbl&gt; | companyid &lt;dbl&gt; |\n",
       "|---|---|---|---|---|---|---|---|---|---|---|---|---|---|---|---|---|---|---|---|---|\n",
       "| Board Member | EQUITY ONE INC (De-listed 03/2017)                           | Yes | David Fischel | Independent Director | David Fischel joined this role on 04 Jan 2011 | M | British  | 10925 | NA | ⋯ | 0.4 |  9 | 7.1 | 7.1 | 3.1 | 1.3 | 1.5 | 8.5 | 6092 | 10925 |\n",
       "| Board Member | EQUITY ONE INC (De-listed 03/2017)                           | Yes | David Fischel | Independent Director | David Fischel joined this role on 04 Jan 2011 | M | British  | 10925 | NA | ⋯ | 0.4 |  9 | 5.8 | 5.8 | 3.2 | 1.2 | 1.2 | 7.7 | 6092 | 10925 |\n",
       "| Board Member | EQUITY ONE INC (De-listed 03/2017)                           | Yes | David Fischel | Independent Director | David Fischel joined this role on 04 Jan 2011 | M | British  | 10925 | NA | ⋯ | 0.4 | 10 | 5.3 | 5.3 | 3.0 | 1.8 | 1.1 | 6.9 | 6092 | 10925 |\n",
       "| Board Member | EQUITY ONE INC (De-listed 03/2017)                           | Yes | David Fischel | Independent Director | David Fischel joined this role on 04 Jan 2011 | M | British  | 10925 | NA | ⋯ | 0.4 |  9 | 7.1 | 7.1 | 3.1 | 1.4 | 1.5 | 8.5 | 6092 | 10925 |\n",
       "| Board Member | EQUITY ONE INC (De-listed 03/2017)                           | Yes | David Fischel | Independent Director | David Fischel joined this role on 04 Jan 2011 | M | British  | 10925 | NA | ⋯ | 0.5 | 10 | 5.6 | 5.6 | 3.1 | 1.5 | 1.1 | 7.3 | 6092 | 10925 |\n",
       "| Board Member | NATIONAL MEDICAL HEALTH CARD SYSTEMS INC (De-listed 04/2008) | Yes | David Shaw    | Director - SD        | David Shaw joined this role on 08 Dec 2004    | M | American | 21616 | NA | ⋯ | 0.0 | 10 | 2.2 | 2.1 | 1.4 | 0.7 | 0.8 | 9.4 | 4321 | 21616 |\n",
       "\n"
      ],
      "text/plain": [
       "  rowtype      boardname                                                    ned\n",
       "1 Board Member EQUITY ONE INC (De-listed 03/2017)                           Yes\n",
       "2 Board Member EQUITY ONE INC (De-listed 03/2017)                           Yes\n",
       "3 Board Member EQUITY ONE INC (De-listed 03/2017)                           Yes\n",
       "4 Board Member EQUITY ONE INC (De-listed 03/2017)                           Yes\n",
       "5 Board Member EQUITY ONE INC (De-listed 03/2017)                           Yes\n",
       "6 Board Member NATIONAL MEDICAL HEALTH CARD SYSTEMS INC (De-listed 04/2008) Yes\n",
       "  directorname  rolename            \n",
       "1 David Fischel Independent Director\n",
       "2 David Fischel Independent Director\n",
       "3 David Fischel Independent Director\n",
       "4 David Fischel Independent Director\n",
       "5 David Fischel Independent Director\n",
       "6 David Shaw    Director - SD       \n",
       "  rolestatus                                    gender nationality boardid\n",
       "1 David Fischel joined this role on 04 Jan 2011 M      British     10925  \n",
       "2 David Fischel joined this role on 04 Jan 2011 M      British     10925  \n",
       "3 David Fischel joined this role on 04 Jan 2011 M      British     10925  \n",
       "4 David Fischel joined this role on 04 Jan 2011 M      British     10925  \n",
       "5 David Fischel joined this role on 04 Jan 2011 M      British     10925  \n",
       "6 David Shaw joined this role on 08 Dec 2004    M      American    21616  \n",
       "  clientcompanyid ⋯ nationalitymix numberdirectors stdevtimebrd stdevtimeinco\n",
       "1 NA              ⋯ 0.4             9              7.1          7.1          \n",
       "2 NA              ⋯ 0.4             9              5.8          5.8          \n",
       "3 NA              ⋯ 0.4            10              5.3          5.3          \n",
       "4 NA              ⋯ 0.4             9              7.1          7.1          \n",
       "5 NA              ⋯ 0.5            10              5.6          5.6          \n",
       "6 NA              ⋯ 0.0            10              2.2          2.1          \n",
       "  stdevtotnolstdbrd stdevtotcurrnolstdbrd stdevnoquals stdevage networksize\n",
       "1 3.1               1.3                   1.5          8.5      6092       \n",
       "2 3.2               1.2                   1.2          7.7      6092       \n",
       "3 3.0               1.8                   1.1          6.9      6092       \n",
       "4 3.1               1.4                   1.5          8.5      6092       \n",
       "5 3.1               1.5                   1.1          7.3      6092       \n",
       "6 1.4               0.7                   0.8          9.4      4321       \n",
       "  companyid\n",
       "1 10925    \n",
       "2 10925    \n",
       "3 10925    \n",
       "4 10925    \n",
       "5 10925    \n",
       "6 21616    "
      ]
     },
     "metadata": {},
     "output_type": "display_data"
    }
   ],
   "source": [
    "na_summary <- arrow::read_feather(\"data/na_summary.feather\")\n",
    "\n",
    "head(na_summary)"
   ]
  },
  {
   "cell_type": "markdown",
   "metadata": {
    "slideshow": {
     "slide_type": "slide"
    }
   },
   "source": [
    "## Check for duplicates"
   ]
  },
  {
   "cell_type": "markdown",
   "metadata": {
    "slideshow": {
     "slide_type": "subslide"
    }
   },
   "source": [
    "### Annual report inconsistencies"
   ]
  },
  {
   "cell_type": "markdown",
   "metadata": {
    "slideshow": {
     "slide_type": "subslide"
    }
   },
   "source": [
    "If there are no inconsistent, the number of unique entries should be the same, regardless of whether or not we include only company and year, or include variables of interest, too."
   ]
  },
  {
   "cell_type": "code",
   "execution_count": 3,
   "metadata": {},
   "outputs": [
    {
     "data": {
      "text/html": [
       "130393"
      ],
      "text/latex": [
       "130393"
      ],
      "text/markdown": [
       "130393"
      ],
      "text/plain": [
       "[1] 130393"
      ]
     },
     "metadata": {},
     "output_type": "display_data"
    },
    {
     "data": {
      "text/html": [
       "130393"
      ],
      "text/latex": [
       "130393"
      ],
      "text/markdown": [
       "130393"
      ],
      "text/plain": [
       "[1] 130393"
      ]
     },
     "metadata": {},
     "output_type": "display_data"
    }
   ],
   "source": [
    "na_summary %>%\n",
    "    select(companyid, annualreportdate) %>%\n",
    "    n_distinct()\n",
    "\n",
    "na_summary %>%\n",
    "    select(companyid, annualreportdate, numberdirectors, nationalitymix, genderratio, companyid) %>%\n",
    "    n_distinct()"
   ]
  },
  {
   "cell_type": "markdown",
   "metadata": {},
   "source": [
    "Looks correct."
   ]
  },
  {
   "cell_type": "code",
   "execution_count": 4,
   "metadata": {
    "slideshow": {
     "slide_type": "subslide"
    }
   },
   "outputs": [
    {
     "data": {
      "text/html": [
       "130393"
      ],
      "text/latex": [
       "130393"
      ],
      "text/markdown": [
       "130393"
      ],
      "text/plain": [
       "[1] 130393"
      ]
     },
     "metadata": {},
     "output_type": "display_data"
    },
    {
     "data": {
      "text/html": [
       "139359"
      ],
      "text/latex": [
       "139359"
      ],
      "text/markdown": [
       "139359"
      ],
      "text/plain": [
       "[1] 139359"
      ]
     },
     "metadata": {},
     "output_type": "display_data"
    }
   ],
   "source": [
    "na_summary %>%\n",
    "    select(companyid, annualreportdate) %>%\n",
    "    n_distinct()\n",
    "\n",
    "na_summary %>%\n",
    "    select(companyid, annualreportdate, isin) %>%\n",
    "    n_distinct()"
   ]
  },
  {
   "cell_type": "markdown",
   "metadata": {},
   "source": [
    "There are 9,040 inconsistencies with the ISIN code."
   ]
  },
  {
   "cell_type": "markdown",
   "metadata": {
    "slideshow": {
     "slide_type": "subslide"
    }
   },
   "source": [
    "### Multiple annual reports in a year"
   ]
  },
  {
   "cell_type": "markdown",
   "metadata": {},
   "source": [
    "If there are multple annual reports in any year, the number of entries should be reduced when we extract only the year from the annual report date column."
   ]
  },
  {
   "cell_type": "code",
   "execution_count": 5,
   "metadata": {},
   "outputs": [
    {
     "data": {
      "text/html": [
       "130393"
      ],
      "text/latex": [
       "130393"
      ],
      "text/markdown": [
       "130393"
      ],
      "text/plain": [
       "[1] 130393"
      ]
     },
     "metadata": {},
     "output_type": "display_data"
    }
   ],
   "source": [
    "na_summary %>%\n",
    "    select(companyid, annualreportdate) %>%\n",
    "    n_distinct()"
   ]
  },
  {
   "cell_type": "code",
   "execution_count": 6,
   "metadata": {},
   "outputs": [
    {
     "data": {
      "text/html": [
       "129761"
      ],
      "text/latex": [
       "129761"
      ],
      "text/markdown": [
       "129761"
      ],
      "text/plain": [
       "[1] 129761"
      ]
     },
     "metadata": {},
     "output_type": "display_data"
    }
   ],
   "source": [
    "na_summary %>%\n",
    "    mutate(year = lubridate::year(annualreportdate)) %>%\n",
    "    select(companyid, year) %>%\n",
    "    n_distinct()"
   ]
  },
  {
   "cell_type": "markdown",
   "metadata": {},
   "source": [
    "There are 632 instances of two reports being filled in one year."
   ]
  }
 ],
 "metadata": {
  "jupytext": {
   "formats": "ipynb,Rmd"
  },
  "kernelspec": {
   "display_name": "R 3.6.1",
   "language": "R",
   "name": "ir361"
  },
  "language_info": {
   "codemirror_mode": "r",
   "file_extension": ".r",
   "mimetype": "text/x-r-source",
   "name": "R",
   "pygments_lexer": "r",
   "version": "3.6.3"
  }
 },
 "nbformat": 4,
 "nbformat_minor": 4
}
